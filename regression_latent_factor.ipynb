{
 "cells": [
  {
   "cell_type": "code",
   "execution_count": 2,
   "metadata": {},
   "outputs": [],
   "source": [
    "import numpy as np\n",
    "data = np.load(\"non-text-feature.npz\")"
   ]
  },
  {
   "cell_type": "code",
   "execution_count": 3,
   "metadata": {},
   "outputs": [
    {
     "data": {
      "text/plain": [
       "['indices_train',\n",
       " 'indices_val',\n",
       " 'indices_test',\n",
       " 'userID',\n",
       " 'userID_onehot',\n",
       " 'itemID',\n",
       " 'itemID_onehot',\n",
       " 'verified',\n",
       " 'review_length',\n",
       " 'rating',\n",
       " 'days',\n",
       " 'weekdays',\n",
       " 'month',\n",
       " 'vote']"
      ]
     },
     "execution_count": 3,
     "metadata": {},
     "output_type": "execute_result"
    }
   ],
   "source": [
    "list(data.keys())"
   ]
  },
  {
   "cell_type": "code",
   "execution_count": 32,
   "metadata": {},
   "outputs": [],
   "source": [
    "indices_train = data['indices_train']\n",
    "indices_val = data['indices_val']\n",
    "indices_test = data['indices_test']\n",
    "\n",
    "userID=data['userID']\n",
    "itemID=data['itemID']\n",
    "vote=np.log(data['vote']+1)\n",
    "\n",
    "num_user = np.max(userID)+1\n",
    "num_item = np.max(itemID)+1"
   ]
  },
  {
   "cell_type": "code",
   "execution_count": 5,
   "metadata": {},
   "outputs": [],
   "source": [
    "import torch\n",
    "import torch.nn as nn\n",
    "import torch.optim as optim\n",
    "from tqdm import tqdm\n",
    "# Mapping user and game IDs to indices\n",
    "device = torch.device(\"cuda\" if torch.cuda.is_available() else \"cpu\")"
   ]
  },
  {
   "cell_type": "code",
   "execution_count": 27,
   "metadata": {},
   "outputs": [],
   "source": [
    "class MyModel(nn.Module):\n",
    "    def __init__(self, num_user, num_item, lambda_beta=0.01):\n",
    "        super(MyModel,  self).__init__()\n",
    "        self.lambda_beta = torch.scalar_tensor(lambda_beta).to(device)\n",
    "\n",
    "        # init parameters\n",
    "        self.alpha = nn.Parameter(torch.randn(1))\n",
    "        self.beta_user = nn.Parameter(torch.randn(num_user, 1))\n",
    "        self.beta_item = nn.Parameter(torch.randn(num_item, 1))\n",
    "\n",
    "        self.to(device)\n",
    "\n",
    "    def forward(self, userID,  gameID):\n",
    "        return (self.alpha + self.beta_user[userID] + self.beta_item[gameID]).squeeze()\n",
    "    \n",
    "    def fit(self, train, val,  lr = 0.001,  num_epochs=3000, patience = 5):\n",
    "        userID_train = torch.tensor(train[0], device=device)\n",
    "        itemID_train = torch.tensor(train[1], device=device)\n",
    "        votes_train  = torch.tensor(train[2], device=device, dtype=torch.float)\n",
    "        userID_val = torch.tensor(val[0], device=device)\n",
    "        itemID_val = torch.tensor(val[1], device=device)\n",
    "        votes_val  = torch.tensor(val[2], device=device, dtype=torch.float)\n",
    "\n",
    "        optimizer = optim.Adam(self.parameters(),  lr=lr)\n",
    "        criterion = nn.MSELoss()\n",
    "\n",
    "        #early stop\n",
    "        best_val_loss = float('inf')\n",
    "        epochs_no_improve = 0\n",
    "\n",
    "        # train loop\n",
    "        bar = tqdm(range(num_epochs))\n",
    "        for epoch in bar:\n",
    "            optimizer.zero_grad()\n",
    "            predictions = self(userID_train,  itemID_train)\n",
    "            # Compute loss\n",
    "            loss = criterion(predictions,  votes_train)\n",
    "            loss +=  self.lambda_beta*(self.beta_user.norm(2) + self.beta_item.norm(2))\n",
    "            # backworks\n",
    "            loss.backward()\n",
    "            optimizer.step()\n",
    "            # Early stopping check\n",
    "            with torch.no_grad():\n",
    "                val_preds = self(userID_val, itemID_val) # ignore cold start\n",
    "                val_loss = criterion(val_preds,  votes_val)\n",
    "            if val_loss < best_val_loss:\n",
    "                best_val_loss = val_loss\n",
    "                epochs_no_improve = 0\n",
    "            else:\n",
    "                epochs_no_improve += 1\n",
    "            if epochs_no_improve == patience:\n",
    "                print(f'Early stopping triggered after {epoch + 1} epochs')\n",
    "                break\n",
    "            bar.set_postfix({\"Epoch\":epoch,  \"loss\": loss.item(),  \"val_Loss\": val_loss.item()})\n",
    "        \n",
    "        return best_val_loss"
   ]
  },
  {
   "cell_type": "code",
   "execution_count": 30,
   "metadata": {},
   "outputs": [
    {
     "name": "stderr",
     "output_type": "stream",
     "text": [
      "  0%|          | 0/500 [00:00<?, ?it/s, Epoch=0, loss=11.7, val_Loss=4.08]"
     ]
    },
    {
     "name": "stderr",
     "output_type": "stream",
     "text": [
      " 48%|████▊     | 238/500 [00:00<00:00, 403.34it/s, Epoch=237, loss=1.06, val_Loss=0.807]"
     ]
    },
    {
     "name": "stdout",
     "output_type": "stream",
     "text": [
      "Early stopping triggered after 239 epochs\n"
     ]
    },
    {
     "name": "stderr",
     "output_type": "stream",
     "text": [
      "\n"
     ]
    },
    {
     "data": {
      "text/plain": [
       "tensor(0.8071, device='cuda:0')"
      ]
     },
     "execution_count": 30,
     "metadata": {},
     "output_type": "execute_result"
    }
   ],
   "source": [
    "model = MyModel(num_user, num_item)\n",
    "\n",
    "model.fit(\n",
    "    [userID[indices_train], itemID[indices_train], vote[indices_train]], \n",
    "    [userID[indices_val], itemID[indices_val], vote[indices_val]],\n",
    "    lr =0.01, num_epochs=500\n",
    ")"
   ]
  },
  {
   "cell_type": "code",
   "execution_count": 37,
   "metadata": {},
   "outputs": [
    {
     "data": {
      "text/plain": [
       "0.8123578005226919"
      ]
     },
     "execution_count": 37,
     "metadata": {},
     "output_type": "execute_result"
    }
   ],
   "source": [
    "from sklearn.metrics import accuracy_score, mean_squared_error\n",
    "prediction_test = model(userID[indices_test], itemID[indices_test]).cpu().detach().numpy()\n",
    "mean_squared_error(vote[indices_test], prediction_test)"
   ]
  }
 ],
 "metadata": {
  "kernelspec": {
   "display_name": "base",
   "language": "python",
   "name": "python3"
  },
  "language_info": {
   "codemirror_mode": {
    "name": "ipython",
    "version": 3
   },
   "file_extension": ".py",
   "mimetype": "text/x-python",
   "name": "python",
   "nbconvert_exporter": "python",
   "pygments_lexer": "ipython3",
   "version": "3.11.6"
  }
 },
 "nbformat": 4,
 "nbformat_minor": 2
}

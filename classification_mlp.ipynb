{
 "cells": [
  {
   "cell_type": "markdown",
   "id": "42ad38c0",
   "metadata": {},
   "source": [
    "## Data Loading"
   ]
  },
  {
   "cell_type": "code",
   "execution_count": 1,
   "id": "77eb2e9e",
   "metadata": {},
   "outputs": [],
   "source": [
    "import gzip, json\n",
    "def parse(path):\n",
    "  g = gzip.open(path, 'r')\n",
    "  for l in g:\n",
    "    yield json.loads(l)\n",
    "\n",
    "data = []\n",
    "\n",
    "for review in parse(\"Software.json.gz\"):\n",
    "  data.append(review)"
   ]
  },
  {
   "cell_type": "code",
   "execution_count": null,
   "id": "507924ac",
   "metadata": {},
   "outputs": [],
   "source": [
    "import numpy as np\n",
    "from sklearn.model_selection import train_test_split\n",
    "\n",
    "indices = np.arange(len(data))\n",
    "indices_train, indices_test = train_test_split(indices, test_size=0.1, random_state=42)\n",
    "indices_train, indices_val = train_test_split(indices_train, test_size=0.1/0.9, random_state=42)"
   ]
  },
  {
   "cell_type": "code",
   "execution_count": null,
   "id": "da001c59",
   "metadata": {},
   "outputs": [],
   "source": [
    "data_np = np.array(data)\n",
    "data_train = data_np[indices_train]\n",
    "data_val = data_np[indices_val]\n",
    "data_test = data_np[indices_test]"
   ]
  },
  {
   "cell_type": "code",
   "execution_count": null,
   "id": "387ce954",
   "metadata": {},
   "outputs": [],
   "source": [
    "y_train = [0 if ('vote' not in d) or (d['vote']==0)  else 1 for d in data_train]\n",
    "y_val = [0 if ('vote' not in d) or (d['vote']==0)  else 1 for d in data_val]\n",
    "y_test = [0 if ('vote' not in d) or (d['vote']==0)  else 1 for d in data_test]"
   ]
  },
  {
   "cell_type": "markdown",
   "id": "ee6dce25",
   "metadata": {},
   "source": [
    "## Naive Bayes"
   ]
  },
  {
   "cell_type": "code",
   "execution_count": null,
   "id": "2c936ef6",
   "metadata": {},
   "outputs": [],
   "source": []
  },
  {
   "cell_type": "markdown",
   "id": "ac75b54a",
   "metadata": {},
   "source": [
    "## Non-text (review) features"
   ]
  },
  {
   "cell_type": "code",
   "execution_count": null,
   "id": "c735c7be",
   "metadata": {},
   "outputs": [
    {
     "data": {
      "text/html": [
       "<style>#sk-container-id-1 {color: black;}#sk-container-id-1 pre{padding: 0;}#sk-container-id-1 div.sk-toggleable {background-color: white;}#sk-container-id-1 label.sk-toggleable__label {cursor: pointer;display: block;width: 100%;margin-bottom: 0;padding: 0.3em;box-sizing: border-box;text-align: center;}#sk-container-id-1 label.sk-toggleable__label-arrow:before {content: \"▸\";float: left;margin-right: 0.25em;color: #696969;}#sk-container-id-1 label.sk-toggleable__label-arrow:hover:before {color: black;}#sk-container-id-1 div.sk-estimator:hover label.sk-toggleable__label-arrow:before {color: black;}#sk-container-id-1 div.sk-toggleable__content {max-height: 0;max-width: 0;overflow: hidden;text-align: left;background-color: #f0f8ff;}#sk-container-id-1 div.sk-toggleable__content pre {margin: 0.2em;color: black;border-radius: 0.25em;background-color: #f0f8ff;}#sk-container-id-1 input.sk-toggleable__control:checked~div.sk-toggleable__content {max-height: 200px;max-width: 100%;overflow: auto;}#sk-container-id-1 input.sk-toggleable__control:checked~label.sk-toggleable__label-arrow:before {content: \"▾\";}#sk-container-id-1 div.sk-estimator input.sk-toggleable__control:checked~label.sk-toggleable__label {background-color: #d4ebff;}#sk-container-id-1 div.sk-label input.sk-toggleable__control:checked~label.sk-toggleable__label {background-color: #d4ebff;}#sk-container-id-1 input.sk-hidden--visually {border: 0;clip: rect(1px 1px 1px 1px);clip: rect(1px, 1px, 1px, 1px);height: 1px;margin: -1px;overflow: hidden;padding: 0;position: absolute;width: 1px;}#sk-container-id-1 div.sk-estimator {font-family: monospace;background-color: #f0f8ff;border: 1px dotted black;border-radius: 0.25em;box-sizing: border-box;margin-bottom: 0.5em;}#sk-container-id-1 div.sk-estimator:hover {background-color: #d4ebff;}#sk-container-id-1 div.sk-parallel-item::after {content: \"\";width: 100%;border-bottom: 1px solid gray;flex-grow: 1;}#sk-container-id-1 div.sk-label:hover label.sk-toggleable__label {background-color: #d4ebff;}#sk-container-id-1 div.sk-serial::before {content: \"\";position: absolute;border-left: 1px solid gray;box-sizing: border-box;top: 0;bottom: 0;left: 50%;z-index: 0;}#sk-container-id-1 div.sk-serial {display: flex;flex-direction: column;align-items: center;background-color: white;padding-right: 0.2em;padding-left: 0.2em;position: relative;}#sk-container-id-1 div.sk-item {position: relative;z-index: 1;}#sk-container-id-1 div.sk-parallel {display: flex;align-items: stretch;justify-content: center;background-color: white;position: relative;}#sk-container-id-1 div.sk-item::before, #sk-container-id-1 div.sk-parallel-item::before {content: \"\";position: absolute;border-left: 1px solid gray;box-sizing: border-box;top: 0;bottom: 0;left: 50%;z-index: -1;}#sk-container-id-1 div.sk-parallel-item {display: flex;flex-direction: column;z-index: 1;position: relative;background-color: white;}#sk-container-id-1 div.sk-parallel-item:first-child::after {align-self: flex-end;width: 50%;}#sk-container-id-1 div.sk-parallel-item:last-child::after {align-self: flex-start;width: 50%;}#sk-container-id-1 div.sk-parallel-item:only-child::after {width: 0;}#sk-container-id-1 div.sk-dashed-wrapped {border: 1px dashed gray;margin: 0 0.4em 0.5em 0.4em;box-sizing: border-box;padding-bottom: 0.4em;background-color: white;}#sk-container-id-1 div.sk-label label {font-family: monospace;font-weight: bold;display: inline-block;line-height: 1.2em;}#sk-container-id-1 div.sk-label-container {text-align: center;}#sk-container-id-1 div.sk-container {/* jupyter's `normalize.less` sets `[hidden] { display: none; }` but bootstrap.min.css set `[hidden] { display: none !important; }` so we also need the `!important` here to be able to override the default hidden behavior on the sphinx rendered scikit-learn.org. See: https://github.com/scikit-learn/scikit-learn/issues/21755 */display: inline-block !important;position: relative;}#sk-container-id-1 div.sk-text-repr-fallback {display: none;}</style><div id=\"sk-container-id-1\" class=\"sk-top-container\"><div class=\"sk-text-repr-fallback\"><pre>OneHotEncoder()</pre><b>In a Jupyter environment, please rerun this cell to show the HTML representation or trust the notebook. <br />On GitHub, the HTML representation is unable to render, please try loading this page with nbviewer.org.</b></div><div class=\"sk-container\" hidden><div class=\"sk-item\"><div class=\"sk-estimator sk-toggleable\"><input class=\"sk-toggleable__control sk-hidden--visually\" id=\"sk-estimator-id-1\" type=\"checkbox\" checked><label for=\"sk-estimator-id-1\" class=\"sk-toggleable__label sk-toggleable__label-arrow\">OneHotEncoder</label><div class=\"sk-toggleable__content\"><pre>OneHotEncoder()</pre></div></div></div></div></div>"
      ],
      "text/plain": [
       "OneHotEncoder()"
      ]
     },
     "execution_count": 5,
     "metadata": {},
     "output_type": "execute_result"
    }
   ],
   "source": [
    "from sklearn.preprocessing import LabelEncoder\n",
    "from sklearn.preprocessing import OneHotEncoder\n",
    "\n",
    "# fit the ID encoder on full data set\n",
    "userID_str = np.array([[d['reviewerID']] for d in data])\n",
    "userID_encoder = LabelEncoder()\n",
    "userID_encoder.fit(userID_str.squeeze())\n",
    "userID_one_hot_encoder = OneHotEncoder()\n",
    "userID_one_hot_encoder.fit(userID_str)\n",
    "\n",
    "itemID_str = np.array([[d['asin']] for d in data])\n",
    "itemID_encoder = LabelEncoder()\n",
    "itemID_encoder.fit(itemID_str.squeeze())\n",
    "itemID_one_hot_encoder = OneHotEncoder()\n",
    "itemID_one_hot_encoder.fit(itemID_str)"
   ]
  },
  {
   "cell_type": "code",
   "execution_count": null,
   "id": "dd24a5f9",
   "metadata": {},
   "outputs": [],
   "source": [
    "import textstat\n",
    "import os\n",
    "import pickle \n",
    "\n",
    "if os.path.isfile('readability_scores.pickle'):\n",
    "    with open('readability_scores.pickle', 'rb') as handle:\n",
    "        readability_scores = pickle.load(handle)\n",
    "    \n",
    "else:\n",
    "    # Might take 2-3 mins, please be patient!\n",
    "    readability_scores = {}\n",
    "    for d in data:\n",
    "        if 'reviewText' in d:\n",
    "            readability_scores[d['reviewText']] = textstat.flesch_reading_ease(d['reviewText'])"
   ]
  },
  {
   "cell_type": "code",
   "execution_count": null,
   "id": "a8052a32",
   "metadata": {},
   "outputs": [],
   "source": [
    "def get_meta_features(d, length=False, rating=False, readability=False, verified=False, userID=False, itemID=False):\n",
    "    feature_vec = []\n",
    "    \n",
    "    if length:\n",
    "        if 'reviewText' not in d:\n",
    "            feature_vec.append(0)\n",
    "        else:\n",
    "            feature_vec.append(len(d['reviewText']))\n",
    "            \n",
    "    if rating:\n",
    "        feature_vec.append(d['overall'])\n",
    "    \n",
    "    if readability:\n",
    "        if 'reviewText' not in d:\n",
    "            feature_vec.append(100)\n",
    "        else:\n",
    "            feature_vec.append(readability_scores[d['reviewText']])\n",
    "            \n",
    "    if verified:\n",
    "        if 'verified' not in d:\n",
    "            feature_vec.append(0)\n",
    "        elif d['verified']:\n",
    "            feature_vec.append(1)\n",
    "        else:\n",
    "            feature_vec.append(0)\n",
    "            \n",
    "    if userID:\n",
    "        feature_vec.extend(list(userID_one_hot_encoder.transform([[d[\"reviewerID\"]]]).toarray()[0]))\n",
    "                                          \n",
    "    if itemID:\n",
    "        feature_vec.extend(list(itemID_one_hot_encoder.transform([[d[\"asin\"]]]).toarray()[0]))      \n",
    "        \n",
    "    return feature_vec\n",
    "        "
   ]
  },
  {
   "cell_type": "code",
   "execution_count": null,
   "id": "d074969f",
   "metadata": {},
   "outputs": [],
   "source": [
    "from sklearn.metrics import precision_recall_fscore_support\n",
    "from sklearn.metrics import accuracy_score\n",
    "def test_metrics(clf, X_t, y_t):\n",
    "    y_pred = clf.predict(X_t)\n",
    "    precision, recall, _, _ = precision_recall_fscore_support(y_t, y_pred, average='binary')\n",
    "    accuracy = accuracy_score(y_t, y_pred)\n",
    "    return accuracy, precision, recall, 2*precision*recall/(precision+recall)"
   ]
  },
  {
   "cell_type": "code",
   "execution_count": null,
   "id": "410c0296",
   "metadata": {},
   "outputs": [],
   "source": [
    "X_train = [get_meta_features(d, length=True, rating=True, readability=True, verified=True, userID=False, itemID=False) for d in data_train]\n",
    "X_val = [get_meta_features(d, length=True, rating=True, readability=True, verified=True, userID=False, itemID=False) for d in data_val]\n",
    "X_test = [get_meta_features(d, length=True, rating=True, readability=True, verified=True, userID=False, itemID=False) for d in data_test]\n",
    "from sklearn.preprocessing import StandardScaler\n",
    "scaler = StandardScaler()\n",
    "scaler = scaler.fit(X_train)"
   ]
  },
  {
   "cell_type": "code",
   "execution_count": null,
   "metadata": {},
   "outputs": [],
   "source": [
    "class EarlyStopping():\n",
    "    \"\"\"\n",
    "    Early stopping to stop the training when the loss does not improve after\n",
    "    certain epochs.\n",
    "    \"\"\"\n",
    "    def __init__(self, patience=5, min_delta=0):\n",
    "        \"\"\"\n",
    "        :param patience: how many epochs to wait before stopping when loss is\n",
    "               not improving\n",
    "        :param min_delta: minimum difference between new loss and old loss for\n",
    "               new loss to be considered as an improvement\n",
    "        \"\"\"\n",
    "        self.patience = patience\n",
    "        self.min_delta = min_delta\n",
    "        self.counter = 0\n",
    "        self.best_loss = None\n",
    "        self.early_stop = False\n",
    "    def __call__(self, val_loss):\n",
    "        if self.best_loss == None:\n",
    "            self.best_loss = val_loss\n",
    "        elif self.best_loss - val_loss > self.min_delta:\n",
    "            self.best_loss = val_loss\n",
    "            # reset counter if validation loss improves\n",
    "            self.counter = 0\n",
    "        elif self.best_loss - val_loss < self.min_delta:\n",
    "            self.counter += 1\n",
    "            # print(f\"INFO: Early stopping counter {self.counter} of {self.patience}\")\n",
    "            if self.counter >= self.patience:\n",
    "                # print('INFO: Early stopping')\n",
    "                self.early_stop = True"
   ]
  },
  {
   "cell_type": "code",
   "execution_count": null,
   "metadata": {},
   "outputs": [],
   "source": [
    "import torch\n",
    "import torch.nn as nn\n",
    "import torch.optim as optim\n",
    "from torch.utils.data import DataLoader, TensorDataset\n",
    "from torch.nn.functional import cross_entropy\n",
    "from tqdm import tqdm\n",
    "from torch.autograd import Variable\n",
    "from math import ceil\n",
    "from torch.optim.lr_scheduler import StepLR\n",
    "\n",
    "\n",
    "class MLPClassifier(nn.Module):\n",
    "    def __init__(self, input_size, hidden_size, output_size, dropout_prob=0.5, l2_reg=0.01, tol=1e-3, lr=1e-1):\n",
    "        super(MLPClassifier, self).__init__()\n",
    "\n",
    "        # Check if hidden_size is a tuple\n",
    "        if isinstance(hidden_size, tuple):\n",
    "            # Create a list of linear layers for each hidden size\n",
    "            layers = []\n",
    "            prev_size = input_size\n",
    "            for size in hidden_size:\n",
    "                layers.append(nn.Linear(prev_size, size))\n",
    "                layers.append(nn.ReLU())\n",
    "                layers.append(nn.Dropout(p=dropout_prob))\n",
    "                prev_size = size\n",
    "            self.hidden_layers = nn.Sequential(*layers)\n",
    "        else:\n",
    "            # Single hidden layer\n",
    "            self.hidden_layers = nn.Sequential(\n",
    "                nn.Linear(input_size, hidden_size),\n",
    "                nn.ReLU(),\n",
    "                nn.Dropout(p=dropout_prob)\n",
    "            )\n",
    "\n",
    "        self.fc_out = nn.Linear(prev_size, output_size)\n",
    "        self.softmax = nn.Softmax(dim=1)\n",
    "        self.l2_reg = l2_reg\n",
    "        self.tol = tol\n",
    "        self.class_weights = torch.tensor([0, 0], requires_grad=False)\n",
    "        self.lr = lr\n",
    "\n",
    "    def forward(self, x):\n",
    "        # Input layer\n",
    "\n",
    "        # Hidden layers\n",
    "        for layer in self.hidden_layers:\n",
    "            x = layer(x)\n",
    "\n",
    "        # Output layer\n",
    "        x = self.fc_out(x)  # No activation function for binary classification\n",
    "\n",
    "        return self.softmax(x)\n",
    "    \n",
    "    def calculate_loss(self,x,y):\n",
    "        device = torch.device('cuda')\n",
    "        l2_reg_term = torch.nn.utils.parameters_to_vector(self.parameters()).norm(p=2)\n",
    "        one_hot_encoded = torch.zeros(len(y), 2).to(device)\n",
    "        one_hot_encoded.scatter_(1, y.unsqueeze(1), 1)\n",
    "        y_pred = self.forward(x.float())\n",
    "        return cross_entropy(y_pred, one_hot_encoded, weight=self.class_weights.to('cuda')) + self.l2_reg * l2_reg_term\n",
    "\n",
    "\n",
    "    def fit(self, X_train, y_train, x_val, y_val, epochs=100, use_gpu=True):\n",
    "        # Check if GPU is available and decide whether to use it\n",
    "        use_gpu = use_gpu and torch.cuda.is_available()\n",
    "        device = torch.device('cuda' if use_gpu else 'cpu')\n",
    "        self.to(device)\n",
    "\n",
    "        optimizer = optim.Adam(self.my_trainable_params(), lr=self.lr)\n",
    "        lr_scheduler = torch.optim.lr_scheduler.ReduceLROnPlateau(optimizer=optimizer, mode='min', patience=3, factor=0.5, min_lr=1e-6)\n",
    "        es = EarlyStopping(patience=10)\n",
    "\n",
    "\n",
    "\n",
    "        print(self.class_weights)\n",
    "\n",
    "        # x_train_tensor = torch.tensor(X_train).to(device)\n",
    "        # y_train_tensor = torch.tensor(y_train, dtype=torch.long).to(device)\n",
    "\n",
    "        x_train_tensor = torch.tensor(X_train) if not isinstance(X_train, torch.Tensor) else X_train\n",
    "        x_train_tensor = x_train_tensor.to(device)\n",
    "        \n",
    "        y_train_tensor = torch.tensor(y_train, dtype=torch.long) if not isinstance(X_train, torch.Tensor) else y_train\n",
    "        y_train_tensor = y_train_tensor.to(device)\n",
    "\n",
    "        # Calculate class weights if not provided\n",
    "        class_counts = torch.bincount(y_train_tensor)\n",
    "        self.class_weights = 1.0 - (class_counts.float() / torch.sum(class_counts))\n",
    "        self.class_weights.to(device)\n",
    "\n",
    "\n",
    "        x_valid = torch.tensor(x_val).to(device)\n",
    "        y_valid = torch.tensor(y_val).to(device)\n",
    "\n",
    "        prev_loss = 1e12\n",
    "        loss = 1e6\n",
    "\n",
    "        epoch = 0\n",
    "        while epoch < epochs:\n",
    "            loss = self.calculate_loss(x_train_tensor, y_train_tensor)\n",
    "            optimizer.zero_grad()\n",
    "            loss.backward()\n",
    "            optimizer.step()\n",
    "\n",
    "            val_loss = self.calculate_loss(x_valid, y_valid)\n",
    "            lr_scheduler.step(val_loss)\n",
    "            es(val_loss)\n",
    "\n",
    "            if es.early_stop:\n",
    "                break\n",
    "\n",
    "            epoch += 1\n",
    "\n",
    "        print(f\"Training stopped after {epoch} epochs.\")\n",
    "\n",
    "    def my_trainable_params(self):\n",
    "        trainable_params = []\n",
    "        for layer in self.hidden_layers:\n",
    "            # print(type(layer))\n",
    "            if isinstance(layer, nn.Linear):\n",
    "                trainable_params.extend(layer.parameters())\n",
    "\n",
    "        if isinstance(self.fc_out, nn.Linear):\n",
    "            trainable_params.extend(self.fc_out.parameters())\n",
    "        return trainable_params\n",
    "\n",
    "    def predict(self, x, use_gpu=True):\n",
    "        # Move inputs to GPU if available\n",
    "        device = torch.device('cuda' if use_gpu else 'cpu')\n",
    "        inputs = Variable(torch.FloatTensor(x)).to(device)\n",
    "        prediction = self.forward(inputs)\n",
    "        return torch.argmax(prediction.data.cpu(), 1).numpy() if use_gpu else torch.argmax(prediction.data, 1).numpy()\n",
    "\n",
    "# Example usage:\n",
    "# classifier = MLPClassifier(input_size=..., hidden_size=..., output_size=...)\n",
    "# classifier.fit(X_train, y_train, epochs=..., batch_size=..., use_gpu=True)\n",
    "# predictions = classifier.predict(X_test, use_gpu=True)\n"
   ]
  },
  {
   "cell_type": "code",
   "execution_count": null,
   "id": "14d36f26",
   "metadata": {},
   "outputs": [
    {
     "name": "stdout",
     "output_type": "stream",
     "text": [
      "tensor([0.2783, 0.7217])\n",
      "Training stopped after 70 epochs.\n"
     ]
    },
    {
     "data": {
      "text/plain": [
       "(0.728125544140693, 0.5074699315031552, 0.736920426065163, 0.601041234149925)"
      ]
     },
     "execution_count": 15,
     "metadata": {},
     "output_type": "execute_result"
    }
   ],
   "source": [
    "# Logistic regression\n",
    "# from sklearn.linear_model import LogisticRegression\n",
    "\n",
    "clf = MLPClassifier(input_size=len(X_train[0]),hidden_size=(100,10,),output_size=2)\n",
    "clf.fit(scaler.transform(X_train), y_train, scaler.transform(X_val), y_val, epochs=100)\n",
    "test_metrics(clf, scaler.transform(X_test), y_test)"
   ]
  },
  {
   "cell_type": "code",
   "execution_count": null,
   "metadata": {},
   "outputs": [
    {
     "data": {
      "text/plain": [
       "(array([0, 1]), array([265249, 102299]))"
      ]
     },
     "execution_count": 16,
     "metadata": {},
     "output_type": "execute_result"
    }
   ],
   "source": [
    "np.unique(y_train, return_counts=True)"
   ]
  },
  {
   "cell_type": "code",
   "execution_count": null,
   "metadata": {},
   "outputs": [],
   "source": [
    "# Define the hyperparameter grid\n",
    "param_grid = {\n",
    "    'hidden_size': [(5,), (64,), (128,), (64, 32), (64, 32, 16)],\n",
    "    'l2_reg': [0.001, 0.01, 0.1, 1, 10, 100],\n",
    "    # 'tol': [1e-3, 1e-4, 1e-5]\n",
    "}"
   ]
  },
  {
   "cell_type": "code",
   "execution_count": null,
   "metadata": {},
   "outputs": [],
   "source": [
    "from sklearn.model_selection import ParameterGrid\n",
    "\n",
    "\n",
    "\n",
    "# Generate all possible combinations of hyperparameters\n",
    "grid = ParameterGrid(param_grid)\n",
    "\n",
    "scores_notext = []\n",
    "\n",
    "# Iterate over the hyperparameter combinations\n",
    "bar = tqdm(grid)\n",
    "for params in bar:\n",
    "    print(\"Testing hyperparameters:\", params)\n",
    "\n",
    "    # Create the model with the current hyperparameters\n",
    "    model = MLPClassifier(input_size=len(X_train[0]), output_size=2, **params)\n",
    "\n",
    "    # Train the model\n",
    "    model.fit(scaler.transform(X_train), y_train, scaler.transform(X_val), y_val, epochs=100, use_gpu=True)\n",
    "    metrics = test_metrics(model, scaler.transform(X_test), y_test)\n",
    "    print(metrics)\n",
    "    scores_notext.append({'params':params, 'scores':metrics})\n",
    "    bar.set_postfix()\n"
   ]
  },
  {
   "cell_type": "code",
   "execution_count": null,
   "metadata": {},
   "outputs": [],
   "source": [
    "# with open('mlp_notext.json', 'w') as f:\n",
    "#     json.dump(scores_notext, f)"
   ]
  },
  {
   "cell_type": "markdown",
   "id": "1aa8e6fc",
   "metadata": {},
   "source": [
    "## Text Features"
   ]
  },
  {
   "cell_type": "code",
   "execution_count": null,
   "id": "8dea3025",
   "metadata": {},
   "outputs": [],
   "source": [
    "train_documents = []\n",
    "for d in data_train: \n",
    "    strs = []\n",
    "    if 'summary' in d:\n",
    "        strs.append(d['summary'])\n",
    "    if 'reviewText' in d:\n",
    "        strs.append(d['reviewText'])\n",
    "    train_documents.append(\" \".join(strs))"
   ]
  },
  {
   "cell_type": "code",
   "execution_count": null,
   "id": "fc2b210a",
   "metadata": {},
   "outputs": [
    {
     "data": {
      "text/html": [
       "<style>#sk-container-id-2 {color: black;}#sk-container-id-2 pre{padding: 0;}#sk-container-id-2 div.sk-toggleable {background-color: white;}#sk-container-id-2 label.sk-toggleable__label {cursor: pointer;display: block;width: 100%;margin-bottom: 0;padding: 0.3em;box-sizing: border-box;text-align: center;}#sk-container-id-2 label.sk-toggleable__label-arrow:before {content: \"▸\";float: left;margin-right: 0.25em;color: #696969;}#sk-container-id-2 label.sk-toggleable__label-arrow:hover:before {color: black;}#sk-container-id-2 div.sk-estimator:hover label.sk-toggleable__label-arrow:before {color: black;}#sk-container-id-2 div.sk-toggleable__content {max-height: 0;max-width: 0;overflow: hidden;text-align: left;background-color: #f0f8ff;}#sk-container-id-2 div.sk-toggleable__content pre {margin: 0.2em;color: black;border-radius: 0.25em;background-color: #f0f8ff;}#sk-container-id-2 input.sk-toggleable__control:checked~div.sk-toggleable__content {max-height: 200px;max-width: 100%;overflow: auto;}#sk-container-id-2 input.sk-toggleable__control:checked~label.sk-toggleable__label-arrow:before {content: \"▾\";}#sk-container-id-2 div.sk-estimator input.sk-toggleable__control:checked~label.sk-toggleable__label {background-color: #d4ebff;}#sk-container-id-2 div.sk-label input.sk-toggleable__control:checked~label.sk-toggleable__label {background-color: #d4ebff;}#sk-container-id-2 input.sk-hidden--visually {border: 0;clip: rect(1px 1px 1px 1px);clip: rect(1px, 1px, 1px, 1px);height: 1px;margin: -1px;overflow: hidden;padding: 0;position: absolute;width: 1px;}#sk-container-id-2 div.sk-estimator {font-family: monospace;background-color: #f0f8ff;border: 1px dotted black;border-radius: 0.25em;box-sizing: border-box;margin-bottom: 0.5em;}#sk-container-id-2 div.sk-estimator:hover {background-color: #d4ebff;}#sk-container-id-2 div.sk-parallel-item::after {content: \"\";width: 100%;border-bottom: 1px solid gray;flex-grow: 1;}#sk-container-id-2 div.sk-label:hover label.sk-toggleable__label {background-color: #d4ebff;}#sk-container-id-2 div.sk-serial::before {content: \"\";position: absolute;border-left: 1px solid gray;box-sizing: border-box;top: 0;bottom: 0;left: 50%;z-index: 0;}#sk-container-id-2 div.sk-serial {display: flex;flex-direction: column;align-items: center;background-color: white;padding-right: 0.2em;padding-left: 0.2em;position: relative;}#sk-container-id-2 div.sk-item {position: relative;z-index: 1;}#sk-container-id-2 div.sk-parallel {display: flex;align-items: stretch;justify-content: center;background-color: white;position: relative;}#sk-container-id-2 div.sk-item::before, #sk-container-id-2 div.sk-parallel-item::before {content: \"\";position: absolute;border-left: 1px solid gray;box-sizing: border-box;top: 0;bottom: 0;left: 50%;z-index: -1;}#sk-container-id-2 div.sk-parallel-item {display: flex;flex-direction: column;z-index: 1;position: relative;background-color: white;}#sk-container-id-2 div.sk-parallel-item:first-child::after {align-self: flex-end;width: 50%;}#sk-container-id-2 div.sk-parallel-item:last-child::after {align-self: flex-start;width: 50%;}#sk-container-id-2 div.sk-parallel-item:only-child::after {width: 0;}#sk-container-id-2 div.sk-dashed-wrapped {border: 1px dashed gray;margin: 0 0.4em 0.5em 0.4em;box-sizing: border-box;padding-bottom: 0.4em;background-color: white;}#sk-container-id-2 div.sk-label label {font-family: monospace;font-weight: bold;display: inline-block;line-height: 1.2em;}#sk-container-id-2 div.sk-label-container {text-align: center;}#sk-container-id-2 div.sk-container {/* jupyter's `normalize.less` sets `[hidden] { display: none; }` but bootstrap.min.css set `[hidden] { display: none !important; }` so we also need the `!important` here to be able to override the default hidden behavior on the sphinx rendered scikit-learn.org. See: https://github.com/scikit-learn/scikit-learn/issues/21755 */display: inline-block !important;position: relative;}#sk-container-id-2 div.sk-text-repr-fallback {display: none;}</style><div id=\"sk-container-id-2\" class=\"sk-top-container\"><div class=\"sk-text-repr-fallback\"><pre>CountVectorizer(max_features=300, stop_words=&#x27;english&#x27;)</pre><b>In a Jupyter environment, please rerun this cell to show the HTML representation or trust the notebook. <br />On GitHub, the HTML representation is unable to render, please try loading this page with nbviewer.org.</b></div><div class=\"sk-container\" hidden><div class=\"sk-item\"><div class=\"sk-estimator sk-toggleable\"><input class=\"sk-toggleable__control sk-hidden--visually\" id=\"sk-estimator-id-2\" type=\"checkbox\" checked><label for=\"sk-estimator-id-2\" class=\"sk-toggleable__label sk-toggleable__label-arrow\">CountVectorizer</label><div class=\"sk-toggleable__content\"><pre>CountVectorizer(max_features=300, stop_words=&#x27;english&#x27;)</pre></div></div></div></div></div>"
      ],
      "text/plain": [
       "CountVectorizer(max_features=300, stop_words='english')"
      ]
     },
     "execution_count": 22,
     "metadata": {},
     "output_type": "execute_result"
    }
   ],
   "source": [
    "from sklearn.feature_extraction.text import CountVectorizer\n",
    "bow_vectorizer = CountVectorizer(stop_words='english', max_features=300)\n",
    "bow_vectorizer.fit(train_documents)"
   ]
  },
  {
   "cell_type": "code",
   "execution_count": null,
   "id": "9c50cd2d",
   "metadata": {},
   "outputs": [
    {
     "data": {
      "text/html": [
       "<style>#sk-container-id-3 {color: black;}#sk-container-id-3 pre{padding: 0;}#sk-container-id-3 div.sk-toggleable {background-color: white;}#sk-container-id-3 label.sk-toggleable__label {cursor: pointer;display: block;width: 100%;margin-bottom: 0;padding: 0.3em;box-sizing: border-box;text-align: center;}#sk-container-id-3 label.sk-toggleable__label-arrow:before {content: \"▸\";float: left;margin-right: 0.25em;color: #696969;}#sk-container-id-3 label.sk-toggleable__label-arrow:hover:before {color: black;}#sk-container-id-3 div.sk-estimator:hover label.sk-toggleable__label-arrow:before {color: black;}#sk-container-id-3 div.sk-toggleable__content {max-height: 0;max-width: 0;overflow: hidden;text-align: left;background-color: #f0f8ff;}#sk-container-id-3 div.sk-toggleable__content pre {margin: 0.2em;color: black;border-radius: 0.25em;background-color: #f0f8ff;}#sk-container-id-3 input.sk-toggleable__control:checked~div.sk-toggleable__content {max-height: 200px;max-width: 100%;overflow: auto;}#sk-container-id-3 input.sk-toggleable__control:checked~label.sk-toggleable__label-arrow:before {content: \"▾\";}#sk-container-id-3 div.sk-estimator input.sk-toggleable__control:checked~label.sk-toggleable__label {background-color: #d4ebff;}#sk-container-id-3 div.sk-label input.sk-toggleable__control:checked~label.sk-toggleable__label {background-color: #d4ebff;}#sk-container-id-3 input.sk-hidden--visually {border: 0;clip: rect(1px 1px 1px 1px);clip: rect(1px, 1px, 1px, 1px);height: 1px;margin: -1px;overflow: hidden;padding: 0;position: absolute;width: 1px;}#sk-container-id-3 div.sk-estimator {font-family: monospace;background-color: #f0f8ff;border: 1px dotted black;border-radius: 0.25em;box-sizing: border-box;margin-bottom: 0.5em;}#sk-container-id-3 div.sk-estimator:hover {background-color: #d4ebff;}#sk-container-id-3 div.sk-parallel-item::after {content: \"\";width: 100%;border-bottom: 1px solid gray;flex-grow: 1;}#sk-container-id-3 div.sk-label:hover label.sk-toggleable__label {background-color: #d4ebff;}#sk-container-id-3 div.sk-serial::before {content: \"\";position: absolute;border-left: 1px solid gray;box-sizing: border-box;top: 0;bottom: 0;left: 50%;z-index: 0;}#sk-container-id-3 div.sk-serial {display: flex;flex-direction: column;align-items: center;background-color: white;padding-right: 0.2em;padding-left: 0.2em;position: relative;}#sk-container-id-3 div.sk-item {position: relative;z-index: 1;}#sk-container-id-3 div.sk-parallel {display: flex;align-items: stretch;justify-content: center;background-color: white;position: relative;}#sk-container-id-3 div.sk-item::before, #sk-container-id-3 div.sk-parallel-item::before {content: \"\";position: absolute;border-left: 1px solid gray;box-sizing: border-box;top: 0;bottom: 0;left: 50%;z-index: -1;}#sk-container-id-3 div.sk-parallel-item {display: flex;flex-direction: column;z-index: 1;position: relative;background-color: white;}#sk-container-id-3 div.sk-parallel-item:first-child::after {align-self: flex-end;width: 50%;}#sk-container-id-3 div.sk-parallel-item:last-child::after {align-self: flex-start;width: 50%;}#sk-container-id-3 div.sk-parallel-item:only-child::after {width: 0;}#sk-container-id-3 div.sk-dashed-wrapped {border: 1px dashed gray;margin: 0 0.4em 0.5em 0.4em;box-sizing: border-box;padding-bottom: 0.4em;background-color: white;}#sk-container-id-3 div.sk-label label {font-family: monospace;font-weight: bold;display: inline-block;line-height: 1.2em;}#sk-container-id-3 div.sk-label-container {text-align: center;}#sk-container-id-3 div.sk-container {/* jupyter's `normalize.less` sets `[hidden] { display: none; }` but bootstrap.min.css set `[hidden] { display: none !important; }` so we also need the `!important` here to be able to override the default hidden behavior on the sphinx rendered scikit-learn.org. See: https://github.com/scikit-learn/scikit-learn/issues/21755 */display: inline-block !important;position: relative;}#sk-container-id-3 div.sk-text-repr-fallback {display: none;}</style><div id=\"sk-container-id-3\" class=\"sk-top-container\"><div class=\"sk-text-repr-fallback\"><pre>TfidfVectorizer(max_features=300, stop_words=&#x27;english&#x27;)</pre><b>In a Jupyter environment, please rerun this cell to show the HTML representation or trust the notebook. <br />On GitHub, the HTML representation is unable to render, please try loading this page with nbviewer.org.</b></div><div class=\"sk-container\" hidden><div class=\"sk-item\"><div class=\"sk-estimator sk-toggleable\"><input class=\"sk-toggleable__control sk-hidden--visually\" id=\"sk-estimator-id-3\" type=\"checkbox\" checked><label for=\"sk-estimator-id-3\" class=\"sk-toggleable__label sk-toggleable__label-arrow\">TfidfVectorizer</label><div class=\"sk-toggleable__content\"><pre>TfidfVectorizer(max_features=300, stop_words=&#x27;english&#x27;)</pre></div></div></div></div></div>"
      ],
      "text/plain": [
       "TfidfVectorizer(max_features=300, stop_words='english')"
      ]
     },
     "execution_count": 23,
     "metadata": {},
     "output_type": "execute_result"
    }
   ],
   "source": [
    "from sklearn.feature_extraction.text import TfidfVectorizer\n",
    "\n",
    "tfidf_vectorizer = TfidfVectorizer(stop_words='english', max_features=300)\n",
    "tfidf_vectorizer.fit(train_documents)"
   ]
  },
  {
   "cell_type": "code",
   "execution_count": null,
   "id": "fdec5f7c",
   "metadata": {},
   "outputs": [],
   "source": [
    "w2v_features = np.load('text-feature_word2vec.npz')['word2vec']\n",
    "w2v_dict = {}\n",
    "\n",
    "count = 0 \n",
    "for d in data:\n",
    "    if 'reviewText' in d:\n",
    "        w2v_dict[d['reviewText']] = w2v_features[count, :]\n",
    "    else:\n",
    "        w2v_dict[''] =  w2v_features[count, :]\n",
    "    count+=1"
   ]
  },
  {
   "cell_type": "code",
   "execution_count": null,
   "id": "7e0e2113",
   "metadata": {},
   "outputs": [],
   "source": [
    "all_docs = []\n",
    "for d in data: \n",
    "    strs = []\n",
    "    if 'summary' in d:\n",
    "        strs.append(d['summary'])\n",
    "    if 'reviewText' in d:\n",
    "        strs.append(d['reviewText'])\n",
    "    all_docs.append(\" \".join(strs))\n",
    "    "
   ]
  },
  {
   "cell_type": "code",
   "execution_count": null,
   "id": "a8143e40",
   "metadata": {},
   "outputs": [],
   "source": [
    "tfidf_vecs = tfidf_vectorizer.transform(all_docs).toarray()\n",
    "\n",
    "tfidf_dict = {}\n",
    "count = 0\n",
    "for d in data:\n",
    "    if 'reviewText' in d:\n",
    "        tfidf_dict[d['reviewText']] = tfidf_vecs[count, :]\n",
    "    else:\n",
    "        tfidf_dict[''] =  tfidf_vecs[count, :]\n",
    "    count+=1"
   ]
  },
  {
   "cell_type": "code",
   "execution_count": null,
   "id": "4954ed58",
   "metadata": {},
   "outputs": [],
   "source": [
    "bow_vecs = bow_vectorizer.transform(all_docs).toarray()\n",
    "\n",
    "bow_dict = {}\n",
    "count = 0\n",
    "for d in data:\n",
    "    if 'reviewText' in d:\n",
    "        bow_dict[d['reviewText']] = bow_vecs[count, :]\n",
    "    else:\n",
    "        bow_dict[''] =  bow_vecs[count, :]\n",
    "    count+=1"
   ]
  },
  {
   "cell_type": "code",
   "execution_count": null,
   "id": "4d303133",
   "metadata": {},
   "outputs": [],
   "source": [
    "def get_text_features(d, BoW=False, tfidf=False, w2v=False):\n",
    "    \n",
    "    feature_vec = []\n",
    "    \n",
    "    if 'reviewText' in d:\n",
    "        reviewText = d['reviewText']\n",
    "    else:\n",
    "        reviewText = ''\n",
    "    \n",
    "    if BoW:\n",
    "        feature_vec.extend(bow_dict[reviewText].tolist())\n",
    "    if tfidf:\n",
    "        feature_vec.extend(tfidf_dict[reviewText].ravel())\n",
    "    if w2v:\n",
    "        feature_vec.extend(w2v_dict[reviewText].tolist())\n",
    "        \n",
    "    return feature_vec\n",
    "       "
   ]
  },
  {
   "cell_type": "code",
   "execution_count": null,
   "id": "8d42f59d",
   "metadata": {},
   "outputs": [],
   "source": [
    "X_train = [get_text_features(d, BoW=True, tfidf=False, w2v=False) for d in data_train]\n",
    "X_val = [get_text_features(d, BoW=True, tfidf=False, w2v=False) for d in data_val]\n",
    "X_test = [get_text_features(d, BoW=True, tfidf=False, w2v=False) for d in data_test]"
   ]
  },
  {
   "cell_type": "code",
   "execution_count": null,
   "metadata": {},
   "outputs": [
    {
     "name": "stderr",
     "output_type": "stream",
     "text": [
      "  0%|          | 0/30 [00:00<?, ?it/s]/tmp/ipykernel_579864/491538201.py:17: UserWarning: To copy construct from a tensor, it is recommended to use sourceTensor.clone().detach() or sourceTensor.clone().detach().requires_grad_(True), rather than torch.tensor(sourceTensor).\n",
      "  X_train = torch.tensor(X_train).to('cuda')\n",
      "/tmp/ipykernel_579864/491538201.py:18: UserWarning: To copy construct from a tensor, it is recommended to use sourceTensor.clone().detach() or sourceTensor.clone().detach().requires_grad_(True), rather than torch.tensor(sourceTensor).\n",
      "  y_train = torch.tensor(y_train).to('cuda')\n"
     ]
    },
    {
     "name": "stdout",
     "output_type": "stream",
     "text": [
      "Testing hyperparameters: {'hidden_size': (5,), 'l2_reg': 0.001}\n",
      "tensor([0, 0])\n",
      "Training stopped after 73 epochs.\n"
     ]
    },
    {
     "name": "stderr",
     "output_type": "stream",
     "text": [
      "  3%|▎         | 1/30 [00:02<01:25,  2.95s/it]"
     ]
    },
    {
     "name": "stdout",
     "output_type": "stream",
     "text": [
      "(0.72122584015323, 0.49882117175527524, 0.662828947368421, 0.5692473262931323)\n",
      "Testing hyperparameters: {'hidden_size': (5,), 'l2_reg': 0.01}\n",
      "tensor([0, 0])\n",
      "Training stopped after 61 epochs.\n"
     ]
    },
    {
     "name": "stderr",
     "output_type": "stream",
     "text": [
      "  7%|▋         | 2/30 [00:05<01:18,  2.81s/it]"
     ]
    },
    {
     "name": "stdout",
     "output_type": "stream",
     "text": [
      "(0.7252742469092809, 0.5044593769089798, 0.6467731829573935, 0.5668199601894434)\n",
      "Testing hyperparameters: {'hidden_size': (5,), 'l2_reg': 0.1}\n",
      "tensor([0, 0])\n",
      "Training stopped after 63 epochs.\n"
     ]
    },
    {
     "name": "stderr",
     "output_type": "stream",
     "text": [
      "/tmp/ipykernel_579864/2563740004.py:7: RuntimeWarning: invalid value encountered in scalar divide\n",
      "  return accuracy, precision, recall, 2*precision*recall/(precision+recall)\n",
      " 10%|█         | 3/30 [00:08<01:14,  2.77s/it]"
     ]
    },
    {
     "name": "stdout",
     "output_type": "stream",
     "text": [
      "(0.7220746996343375, 0.0, 0.0, nan)\n",
      "Testing hyperparameters: {'hidden_size': (5,), 'l2_reg': 1}\n",
      "tensor([0, 0])\n",
      "Training stopped after 100 epochs.\n"
     ]
    },
    {
     "name": "stderr",
     "output_type": "stream",
     "text": [
      " 13%|█▎        | 4/30 [00:11<01:15,  2.90s/it]"
     ]
    },
    {
     "name": "stdout",
     "output_type": "stream",
     "text": [
      "(0.2779035347379418, 0.2779035347379418, 1.0, 0.434936639869192)\n",
      "Testing hyperparameters: {'hidden_size': (5,), 'l2_reg': 10}\n",
      "tensor([0, 0])\n",
      "Training stopped after 100 epochs.\n"
     ]
    },
    {
     "name": "stderr",
     "output_type": "stream",
     "text": [
      "/usr/lib/python3.11/site-packages/sklearn/metrics/_classification.py:1471: UndefinedMetricWarning: Precision and F-score are ill-defined and being set to 0.0 due to no predicted samples. Use `zero_division` parameter to control this behavior.\n",
      "  _warn_prf(average, modifier, msg_start, len(result))\n",
      "/tmp/ipykernel_579864/2563740004.py:7: RuntimeWarning: invalid value encountered in scalar divide\n",
      "  return accuracy, precision, recall, 2*precision*recall/(precision+recall)\n",
      " 17%|█▋        | 5/30 [00:14<01:15,  3.04s/it]"
     ]
    },
    {
     "name": "stdout",
     "output_type": "stream",
     "text": [
      "(0.7220964652620582, 0.0, 0.0, nan)\n",
      "Testing hyperparameters: {'hidden_size': (5,), 'l2_reg': 100}\n",
      "tensor([0, 0])\n",
      "Training stopped after 100 epochs.\n"
     ]
    },
    {
     "name": "stderr",
     "output_type": "stream",
     "text": [
      "/usr/lib/python3.11/site-packages/sklearn/metrics/_classification.py:1471: UndefinedMetricWarning: Precision and F-score are ill-defined and being set to 0.0 due to no predicted samples. Use `zero_division` parameter to control this behavior.\n",
      "  _warn_prf(average, modifier, msg_start, len(result))\n",
      "/tmp/ipykernel_579864/2563740004.py:7: RuntimeWarning: invalid value encountered in scalar divide\n",
      "  return accuracy, precision, recall, 2*precision*recall/(precision+recall)\n",
      " 20%|██        | 6/30 [00:17<01:13,  3.05s/it]"
     ]
    },
    {
     "name": "stdout",
     "output_type": "stream",
     "text": [
      "(0.7220964652620582, 0.0, 0.0, nan)\n",
      "Testing hyperparameters: {'hidden_size': (64,), 'l2_reg': 0.001}\n",
      "tensor([0, 0])\n",
      "Training stopped after 100 epochs.\n"
     ]
    },
    {
     "name": "stderr",
     "output_type": "stream",
     "text": [
      " 23%|██▎       | 7/30 [00:21<01:15,  3.26s/it]"
     ]
    },
    {
     "name": "stdout",
     "output_type": "stream",
     "text": [
      "(0.7181133553891694, 0.4954077791718946, 0.7731046365914787, 0.6038601535496895)\n",
      "Testing hyperparameters: {'hidden_size': (64,), 'l2_reg': 0.01}\n",
      "tensor([0, 0])\n",
      "Training stopped after 100 epochs.\n"
     ]
    },
    {
     "name": "stderr",
     "output_type": "stream",
     "text": [
      " 27%|██▋       | 8/30 [00:25<01:15,  3.43s/it]"
     ]
    },
    {
     "name": "stdout",
     "output_type": "stream",
     "text": [
      "(0.7325439665679958, 0.5137614678899083, 0.7017543859649122, 0.5932203389830508)\n",
      "Testing hyperparameters: {'hidden_size': (64,), 'l2_reg': 0.1}\n",
      "tensor([0, 0])\n",
      "Training stopped after 100 epochs.\n"
     ]
    },
    {
     "name": "stderr",
     "output_type": "stream",
     "text": [
      "/usr/lib/python3.11/site-packages/sklearn/metrics/_classification.py:1471: UndefinedMetricWarning: Precision and F-score are ill-defined and being set to 0.0 due to no predicted samples. Use `zero_division` parameter to control this behavior.\n",
      "  _warn_prf(average, modifier, msg_start, len(result))\n",
      "/tmp/ipykernel_579864/2563740004.py:7: RuntimeWarning: invalid value encountered in scalar divide\n",
      "  return accuracy, precision, recall, 2*precision*recall/(precision+recall)\n",
      " 30%|███       | 9/30 [00:29<01:13,  3.51s/it]"
     ]
    },
    {
     "name": "stdout",
     "output_type": "stream",
     "text": [
      "(0.7220964652620582, 0.0, 0.0, nan)\n",
      "Testing hyperparameters: {'hidden_size': (64,), 'l2_reg': 1}\n",
      "tensor([0, 0])\n",
      "Training stopped after 100 epochs.\n"
     ]
    },
    {
     "name": "stderr",
     "output_type": "stream",
     "text": [
      "/usr/lib/python3.11/site-packages/sklearn/metrics/_classification.py:1471: UndefinedMetricWarning: Precision and F-score are ill-defined and being set to 0.0 due to no predicted samples. Use `zero_division` parameter to control this behavior.\n",
      "  _warn_prf(average, modifier, msg_start, len(result))\n",
      "/tmp/ipykernel_579864/2563740004.py:7: RuntimeWarning: invalid value encountered in scalar divide\n",
      "  return accuracy, precision, recall, 2*precision*recall/(precision+recall)\n",
      " 33%|███▎      | 10/30 [00:32<01:12,  3.63s/it]"
     ]
    },
    {
     "name": "stdout",
     "output_type": "stream",
     "text": [
      "(0.7220964652620582, 0.0, 0.0, nan)\n",
      "Testing hyperparameters: {'hidden_size': (64,), 'l2_reg': 10}\n",
      "tensor([0, 0])\n",
      "Training stopped after 100 epochs.\n"
     ]
    },
    {
     "name": "stderr",
     "output_type": "stream",
     "text": [
      "/usr/lib/python3.11/site-packages/sklearn/metrics/_classification.py:1471: UndefinedMetricWarning: Precision and F-score are ill-defined and being set to 0.0 due to no predicted samples. Use `zero_division` parameter to control this behavior.\n",
      "  _warn_prf(average, modifier, msg_start, len(result))\n",
      "/tmp/ipykernel_579864/2563740004.py:7: RuntimeWarning: invalid value encountered in scalar divide\n",
      "  return accuracy, precision, recall, 2*precision*recall/(precision+recall)\n",
      " 37%|███▋      | 11/30 [00:36<01:11,  3.75s/it]"
     ]
    },
    {
     "name": "stdout",
     "output_type": "stream",
     "text": [
      "(0.7220964652620582, 0.0, 0.0, nan)\n",
      "Testing hyperparameters: {'hidden_size': (64,), 'l2_reg': 100}\n",
      "tensor([0, 0])\n",
      "Training stopped after 100 epochs.\n"
     ]
    },
    {
     "name": "stderr",
     "output_type": "stream",
     "text": [
      "/usr/lib/python3.11/site-packages/sklearn/metrics/_classification.py:1471: UndefinedMetricWarning: Precision and F-score are ill-defined and being set to 0.0 due to no predicted samples. Use `zero_division` parameter to control this behavior.\n",
      "  _warn_prf(average, modifier, msg_start, len(result))\n",
      "/tmp/ipykernel_579864/2563740004.py:7: RuntimeWarning: invalid value encountered in scalar divide\n",
      "  return accuracy, precision, recall, 2*precision*recall/(precision+recall)\n",
      " 40%|████      | 12/30 [00:40<01:07,  3.77s/it]"
     ]
    },
    {
     "name": "stdout",
     "output_type": "stream",
     "text": [
      "(0.7220964652620582, 0.0, 0.0, nan)\n",
      "Testing hyperparameters: {'hidden_size': (128,), 'l2_reg': 0.001}\n",
      "tensor([0, 0])\n",
      "Training stopped after 100 epochs.\n"
     ]
    },
    {
     "name": "stderr",
     "output_type": "stream",
     "text": [
      " 43%|████▎     | 13/30 [00:45<01:06,  3.93s/it]"
     ]
    },
    {
     "name": "stdout",
     "output_type": "stream",
     "text": [
      "(0.7356999825874978, 0.5172147854349144, 0.7353540100250626, 0.6072895443226286)\n",
      "Testing hyperparameters: {'hidden_size': (128,), 'l2_reg': 0.01}\n",
      "tensor([0, 0])\n",
      "Training stopped after 100 epochs.\n"
     ]
    },
    {
     "name": "stderr",
     "output_type": "stream",
     "text": [
      " 47%|████▋     | 14/30 [00:49<01:07,  4.21s/it]"
     ]
    },
    {
     "name": "stdout",
     "output_type": "stream",
     "text": [
      "(0.7323916071739509, 0.5135320707215197, 0.7029291979949874, 0.5934865266986279)\n",
      "Testing hyperparameters: {'hidden_size': (128,), 'l2_reg': 0.1}\n",
      "tensor([0, 0])\n"
     ]
    },
    {
     "name": "stderr",
     "output_type": "stream",
     "text": [
      " 50%|█████     | 15/30 [00:54<01:04,  4.30s/it]"
     ]
    },
    {
     "name": "stdout",
     "output_type": "stream",
     "text": [
      "Training stopped after 100 epochs.\n",
      "(0.2779035347379418, 0.2779035347379418, 1.0, 0.434936639869192)\n",
      "Testing hyperparameters: {'hidden_size': (128,), 'l2_reg': 1}\n",
      "tensor([0, 0])\n",
      "Training stopped after 100 epochs.\n"
     ]
    },
    {
     "name": "stderr",
     "output_type": "stream",
     "text": [
      " 53%|█████▎    | 16/30 [00:58<01:01,  4.37s/it]"
     ]
    },
    {
     "name": "stdout",
     "output_type": "stream",
     "text": [
      "(0.2779035347379418, 0.2779035347379418, 1.0, 0.434936639869192)\n",
      "Testing hyperparameters: {'hidden_size': (128,), 'l2_reg': 10}\n",
      "tensor([0, 0])\n",
      "Training stopped after 100 epochs.\n"
     ]
    },
    {
     "name": "stderr",
     "output_type": "stream",
     "text": [
      " 57%|█████▋    | 17/30 [01:03<00:57,  4.40s/it]"
     ]
    },
    {
     "name": "stdout",
     "output_type": "stream",
     "text": [
      "(0.2779035347379418, 0.2779035347379418, 1.0, 0.434936639869192)\n",
      "Testing hyperparameters: {'hidden_size': (128,), 'l2_reg': 100}\n",
      "tensor([0, 0])\n",
      "Training stopped after 100 epochs.\n"
     ]
    },
    {
     "name": "stderr",
     "output_type": "stream",
     "text": [
      " 60%|██████    | 18/30 [01:07<00:53,  4.45s/it]"
     ]
    },
    {
     "name": "stdout",
     "output_type": "stream",
     "text": [
      "(0.2779035347379418, 0.2779035347379418, 1.0, 0.434936639869192)\n",
      "Testing hyperparameters: {'hidden_size': (64, 32), 'l2_reg': 0.001}\n",
      "tensor([0, 0])\n",
      "Training stopped after 100 epochs.\n"
     ]
    },
    {
     "name": "stderr",
     "output_type": "stream",
     "text": [
      " 63%|██████▎   | 19/30 [01:12<00:47,  4.35s/it]"
     ]
    },
    {
     "name": "stdout",
     "output_type": "stream",
     "text": [
      "(0.7170686052585756, 0.49419393756597796, 0.7699718045112782, 0.6020023881693762)\n",
      "Testing hyperparameters: {'hidden_size': (64, 32), 'l2_reg': 0.01}\n",
      "tensor([0, 0])\n",
      "Training stopped after 100 epochs.\n"
     ]
    },
    {
     "name": "stderr",
     "output_type": "stream",
     "text": [
      " 67%|██████▋   | 20/30 [01:16<00:43,  4.31s/it]"
     ]
    },
    {
     "name": "stdout",
     "output_type": "stream",
     "text": [
      "(0.727167856520982, 0.5064956788402565, 0.7114661654135338, 0.5917337068038954)\n",
      "Testing hyperparameters: {'hidden_size': (64, 32), 'l2_reg': 0.1}\n",
      "tensor([0, 0])\n",
      "Training stopped after 100 epochs.\n"
     ]
    },
    {
     "name": "stderr",
     "output_type": "stream",
     "text": [
      "/usr/lib/python3.11/site-packages/sklearn/metrics/_classification.py:1471: UndefinedMetricWarning: Precision and F-score are ill-defined and being set to 0.0 due to no predicted samples. Use `zero_division` parameter to control this behavior.\n",
      "  _warn_prf(average, modifier, msg_start, len(result))\n",
      "/tmp/ipykernel_579864/2563740004.py:7: RuntimeWarning: invalid value encountered in scalar divide\n",
      "  return accuracy, precision, recall, 2*precision*recall/(precision+recall)\n",
      " 70%|███████   | 21/30 [01:20<00:38,  4.30s/it]"
     ]
    },
    {
     "name": "stdout",
     "output_type": "stream",
     "text": [
      "(0.7220964652620582, 0.0, 0.0, nan)\n",
      "Testing hyperparameters: {'hidden_size': (64, 32), 'l2_reg': 1}\n",
      "tensor([0, 0])\n",
      "Training stopped after 100 epochs.\n"
     ]
    },
    {
     "name": "stderr",
     "output_type": "stream",
     "text": [
      " 73%|███████▎  | 22/30 [01:24<00:34,  4.26s/it]"
     ]
    },
    {
     "name": "stdout",
     "output_type": "stream",
     "text": [
      "(0.2779035347379418, 0.2779035347379418, 1.0, 0.434936639869192)\n",
      "Testing hyperparameters: {'hidden_size': (64, 32), 'l2_reg': 10}\n",
      "tensor([0, 0])\n",
      "Training stopped after 100 epochs.\n"
     ]
    },
    {
     "name": "stderr",
     "output_type": "stream",
     "text": [
      " 77%|███████▋  | 23/30 [01:28<00:29,  4.22s/it]"
     ]
    },
    {
     "name": "stdout",
     "output_type": "stream",
     "text": [
      "(0.2779035347379418, 0.2779035347379418, 1.0, 0.434936639869192)\n",
      "Testing hyperparameters: {'hidden_size': (64, 32), 'l2_reg': 100}\n",
      "tensor([0, 0])\n",
      "Training stopped after 100 epochs.\n"
     ]
    },
    {
     "name": "stderr",
     "output_type": "stream",
     "text": [
      " 80%|████████  | 24/30 [01:33<00:25,  4.20s/it]"
     ]
    },
    {
     "name": "stdout",
     "output_type": "stream",
     "text": [
      "(0.2779035347379418, 0.2779035347379418, 1.0, 0.434936639869192)\n",
      "Testing hyperparameters: {'hidden_size': (64, 32, 16), 'l2_reg': 0.001}\n",
      "tensor([0, 0])\n",
      "Training stopped after 100 epochs.\n"
     ]
    },
    {
     "name": "stderr",
     "output_type": "stream",
     "text": [
      " 83%|████████▎ | 25/30 [01:37<00:21,  4.23s/it]"
     ]
    },
    {
     "name": "stdout",
     "output_type": "stream",
     "text": [
      "(0.7130637297579662, 0.4897495430519192, 0.7764724310776943, 0.6006482687588985)\n",
      "Testing hyperparameters: {'hidden_size': (64, 32, 16), 'l2_reg': 0.01}\n",
      "tensor([0, 0])\n",
      "Training stopped after 100 epochs.\n"
     ]
    },
    {
     "name": "stderr",
     "output_type": "stream",
     "text": [
      " 87%|████████▋ | 26/30 [01:41<00:17,  4.25s/it]"
     ]
    },
    {
     "name": "stdout",
     "output_type": "stream",
     "text": [
      "(0.7248171687271461, 0.5034528479089553, 0.7137374686716792, 0.5904305290096861)\n",
      "Testing hyperparameters: {'hidden_size': (64, 32, 16), 'l2_reg': 0.1}\n",
      "tensor([0, 0])\n",
      "Training stopped after 100 epochs.\n"
     ]
    },
    {
     "name": "stderr",
     "output_type": "stream",
     "text": [
      " 90%|█████████ | 27/30 [01:46<00:12,  4.30s/it]"
     ]
    },
    {
     "name": "stdout",
     "output_type": "stream",
     "text": [
      "(0.2779035347379418, 0.2779035347379418, 1.0, 0.434936639869192)\n",
      "Testing hyperparameters: {'hidden_size': (64, 32, 16), 'l2_reg': 1}\n",
      "tensor([0, 0])\n",
      "Training stopped after 100 epochs.\n"
     ]
    },
    {
     "name": "stderr",
     "output_type": "stream",
     "text": [
      "/usr/lib/python3.11/site-packages/sklearn/metrics/_classification.py:1471: UndefinedMetricWarning: Precision and F-score are ill-defined and being set to 0.0 due to no predicted samples. Use `zero_division` parameter to control this behavior.\n",
      "  _warn_prf(average, modifier, msg_start, len(result))\n",
      "/tmp/ipykernel_579864/2563740004.py:7: RuntimeWarning: invalid value encountered in scalar divide\n",
      "  return accuracy, precision, recall, 2*precision*recall/(precision+recall)\n",
      " 93%|█████████▎| 28/30 [01:50<00:08,  4.25s/it]"
     ]
    },
    {
     "name": "stdout",
     "output_type": "stream",
     "text": [
      "(0.7220964652620582, 0.0, 0.0, nan)\n",
      "Testing hyperparameters: {'hidden_size': (64, 32, 16), 'l2_reg': 10}\n",
      "tensor([0, 0])\n",
      "Training stopped after 100 epochs.\n"
     ]
    },
    {
     "name": "stderr",
     "output_type": "stream",
     "text": [
      " 97%|█████████▋| 29/30 [01:54<00:04,  4.28s/it]"
     ]
    },
    {
     "name": "stdout",
     "output_type": "stream",
     "text": [
      "(0.2779035347379418, 0.2779035347379418, 1.0, 0.434936639869192)\n",
      "Testing hyperparameters: {'hidden_size': (64, 32, 16), 'l2_reg': 100}\n",
      "tensor([0, 0])\n",
      "Training stopped after 100 epochs.\n"
     ]
    },
    {
     "name": "stderr",
     "output_type": "stream",
     "text": [
      "100%|██████████| 30/30 [01:58<00:00,  3.96s/it]"
     ]
    },
    {
     "name": "stdout",
     "output_type": "stream",
     "text": [
      "(0.2779035347379418, 0.2779035347379418, 1.0, 0.434936639869192)\n"
     ]
    },
    {
     "name": "stderr",
     "output_type": "stream",
     "text": [
      "\n"
     ]
    }
   ],
   "source": [
    "from sklearn.model_selection import ParameterGrid\n",
    "\n",
    "# Generate all possible combinations of hyperparameters\n",
    "grid = ParameterGrid(param_grid)\n",
    "\n",
    "scores_bow = []\n",
    "\n",
    "# Iterate over the hyperparameter combinations\n",
    "bar = tqdm(grid)\n",
    "X_train = torch.tensor(X_train).to('cuda')\n",
    "y_train = torch.tensor(y_train).to('cuda')\n",
    "for params in bar:\n",
    "    print(\"Testing hyperparameters:\", params)\n",
    "\n",
    "    # Create the model with the current hyperparameters\n",
    "    model = MLPClassifier(input_size=len(X_train[0]), output_size=2, **params)\n",
    "\n",
    "    # Train the model\n",
    "    model.fit(X_train, y_train, X_val, y_val, epochs=100, use_gpu=True)\n",
    "    metrics = test_metrics(model, X_test, y_test)\n",
    "    print(metrics)\n",
    "    scores_bow.append({'params':params, 'scores':metrics})\n",
    "    bar.set_postfix()\n",
    "\n",
    "with open('mlp_bow.json', 'w') as f:\n",
    "    json.dump(scores_bow, f)"
   ]
  },
  {
   "cell_type": "code",
   "execution_count": null,
   "id": "ea219465",
   "metadata": {},
   "outputs": [],
   "source": [
    "X_train = [get_text_features(d, BoW=False, tfidf=True, w2v=False) for d in data_train]\n",
    "X_val = [get_text_features(d, BoW=False, tfidf=True, w2v=False) for d in data_val]\n",
    "X_test = [get_text_features(d, BoW=False, tfidf=True, w2v=False) for d in data_test]"
   ]
  },
  {
   "cell_type": "code",
   "execution_count": null,
   "metadata": {},
   "outputs": [
    {
     "name": "stderr",
     "output_type": "stream",
     "text": [
      "  0%|          | 0/30 [00:00<?, ?it/s]/tmp/ipykernel_579864/1864138003.py:18: UserWarning: To copy construct from a tensor, it is recommended to use sourceTensor.clone().detach() or sourceTensor.clone().detach().requires_grad_(True), rather than torch.tensor(sourceTensor).\n",
      "  y_train = torch.tensor(y_train).to('cuda')\n"
     ]
    },
    {
     "name": "stdout",
     "output_type": "stream",
     "text": [
      "Testing hyperparameters: {'hidden_size': (5,), 'l2_reg': 0.001}\n",
      "tensor([0, 0])\n",
      "Training stopped after 63 epochs.\n"
     ]
    },
    {
     "name": "stderr",
     "output_type": "stream",
     "text": [
      "  3%|▎         | 1/30 [00:28<13:43, 28.39s/it]"
     ]
    },
    {
     "name": "stdout",
     "output_type": "stream",
     "text": [
      "(0.7146743862092982, 0.49030203060121724, 0.675125313283208, 0.5680582556262151)\n",
      "Testing hyperparameters: {'hidden_size': (5,), 'l2_reg': 0.01}\n",
      "tensor([0, 0])\n",
      "Training stopped after 53 epochs.\n"
     ]
    },
    {
     "name": "stderr",
     "output_type": "stream",
     "text": [
      "  7%|▋         | 2/30 [00:32<06:40, 14.32s/it]"
     ]
    },
    {
     "name": "stdout",
     "output_type": "stream",
     "text": [
      "(0.6413459864182482, 0.4155205392112214, 0.7145989974937343, 0.5254852272072799)\n",
      "Testing hyperparameters: {'hidden_size': (5,), 'l2_reg': 0.1}\n",
      "tensor([0, 0])\n",
      "Training stopped after 100 epochs.\n"
     ]
    },
    {
     "name": "stderr",
     "output_type": "stream",
     "text": [
      " 10%|█         | 3/30 [00:38<04:34, 10.15s/it]"
     ]
    },
    {
     "name": "stdout",
     "output_type": "stream",
     "text": [
      "(0.2779035347379418, 0.2779035347379418, 1.0, 0.434936639869192)\n",
      "Testing hyperparameters: {'hidden_size': (5,), 'l2_reg': 1}\n",
      "tensor([0, 0])\n",
      "Training stopped after 100 epochs.\n"
     ]
    },
    {
     "name": "stderr",
     "output_type": "stream",
     "text": [
      "/usr/lib/python3.11/site-packages/sklearn/metrics/_classification.py:1471: UndefinedMetricWarning: Precision and F-score are ill-defined and being set to 0.0 due to no predicted samples. Use `zero_division` parameter to control this behavior.\n",
      "  _warn_prf(average, modifier, msg_start, len(result))\n",
      "/tmp/ipykernel_579864/2563740004.py:7: RuntimeWarning: invalid value encountered in scalar divide\n",
      "  return accuracy, precision, recall, 2*precision*recall/(precision+recall)\n",
      " 13%|█▎        | 4/30 [00:42<03:29,  8.06s/it]"
     ]
    },
    {
     "name": "stdout",
     "output_type": "stream",
     "text": [
      "(0.7220964652620582, 0.0, 0.0, nan)\n",
      "Testing hyperparameters: {'hidden_size': (5,), 'l2_reg': 10}\n",
      "tensor([0, 0])\n",
      "Training stopped after 100 epochs.\n"
     ]
    },
    {
     "name": "stderr",
     "output_type": "stream",
     "text": [
      "/usr/lib/python3.11/site-packages/sklearn/metrics/_classification.py:1471: UndefinedMetricWarning: Precision and F-score are ill-defined and being set to 0.0 due to no predicted samples. Use `zero_division` parameter to control this behavior.\n",
      "  _warn_prf(average, modifier, msg_start, len(result))\n",
      "/tmp/ipykernel_579864/2563740004.py:7: RuntimeWarning: invalid value encountered in scalar divide\n",
      "  return accuracy, precision, recall, 2*precision*recall/(precision+recall)\n",
      " 17%|█▋        | 5/30 [00:47<02:52,  6.89s/it]"
     ]
    },
    {
     "name": "stdout",
     "output_type": "stream",
     "text": [
      "(0.7220964652620582, 0.0, 0.0, nan)\n",
      "Testing hyperparameters: {'hidden_size': (5,), 'l2_reg': 100}\n",
      "tensor([0, 0])\n",
      "Training stopped after 100 epochs.\n"
     ]
    },
    {
     "name": "stderr",
     "output_type": "stream",
     "text": [
      "/usr/lib/python3.11/site-packages/sklearn/metrics/_classification.py:1471: UndefinedMetricWarning: Precision and F-score are ill-defined and being set to 0.0 due to no predicted samples. Use `zero_division` parameter to control this behavior.\n",
      "  _warn_prf(average, modifier, msg_start, len(result))\n",
      "/tmp/ipykernel_579864/2563740004.py:7: RuntimeWarning: invalid value encountered in scalar divide\n",
      "  return accuracy, precision, recall, 2*precision*recall/(precision+recall)\n",
      " 20%|██        | 6/30 [00:52<02:29,  6.21s/it]"
     ]
    },
    {
     "name": "stdout",
     "output_type": "stream",
     "text": [
      "(0.7220964652620582, 0.0, 0.0, nan)\n",
      "Testing hyperparameters: {'hidden_size': (64,), 'l2_reg': 0.001}\n",
      "tensor([0, 0])\n",
      "Training stopped after 95 epochs.\n"
     ]
    },
    {
     "name": "stderr",
     "output_type": "stream",
     "text": [
      " 23%|██▎       | 7/30 [00:57<02:15,  5.89s/it]"
     ]
    },
    {
     "name": "stdout",
     "output_type": "stream",
     "text": [
      "(0.7156103082012886, 0.49246180309622584, 0.762374686716792, 0.5983893772668594)\n",
      "Testing hyperparameters: {'hidden_size': (64,), 'l2_reg': 0.01}\n",
      "tensor([0, 0])\n",
      "Training stopped after 74 epochs.\n"
     ]
    },
    {
     "name": "stderr",
     "output_type": "stream",
     "text": [
      " 27%|██▋       | 8/30 [01:02<02:03,  5.61s/it]"
     ]
    },
    {
     "name": "stdout",
     "output_type": "stream",
     "text": [
      "(0.6779993034999129, 0.45434469082386875, 0.7895520050125313, 0.5767822405309532)\n",
      "Testing hyperparameters: {'hidden_size': (64,), 'l2_reg': 0.1}\n",
      "tensor([0, 0])\n",
      "Training stopped after 100 epochs.\n"
     ]
    },
    {
     "name": "stderr",
     "output_type": "stream",
     "text": [
      "/usr/lib/python3.11/site-packages/sklearn/metrics/_classification.py:1471: UndefinedMetricWarning: Precision and F-score are ill-defined and being set to 0.0 due to no predicted samples. Use `zero_division` parameter to control this behavior.\n",
      "  _warn_prf(average, modifier, msg_start, len(result))\n",
      "/tmp/ipykernel_579864/2563740004.py:7: RuntimeWarning: invalid value encountered in scalar divide\n",
      "  return accuracy, precision, recall, 2*precision*recall/(precision+recall)\n",
      " 30%|███       | 9/30 [01:08<01:55,  5.51s/it]"
     ]
    },
    {
     "name": "stdout",
     "output_type": "stream",
     "text": [
      "(0.7220964652620582, 0.0, 0.0, nan)\n",
      "Testing hyperparameters: {'hidden_size': (64,), 'l2_reg': 1}\n",
      "tensor([0, 0])\n",
      "Training stopped after 100 epochs.\n"
     ]
    },
    {
     "name": "stderr",
     "output_type": "stream",
     "text": [
      " 33%|███▎      | 10/30 [01:13<01:49,  5.47s/it]"
     ]
    },
    {
     "name": "stdout",
     "output_type": "stream",
     "text": [
      "(0.2779035347379418, 0.2779035347379418, 1.0, 0.434936639869192)\n",
      "Testing hyperparameters: {'hidden_size': (64,), 'l2_reg': 10}\n",
      "tensor([0, 0])\n",
      "Training stopped after 100 epochs.\n"
     ]
    },
    {
     "name": "stderr",
     "output_type": "stream",
     "text": [
      "/usr/lib/python3.11/site-packages/sklearn/metrics/_classification.py:1471: UndefinedMetricWarning: Precision and F-score are ill-defined and being set to 0.0 due to no predicted samples. Use `zero_division` parameter to control this behavior.\n",
      "  _warn_prf(average, modifier, msg_start, len(result))\n",
      "/tmp/ipykernel_579864/2563740004.py:7: RuntimeWarning: invalid value encountered in scalar divide\n",
      "  return accuracy, precision, recall, 2*precision*recall/(precision+recall)\n",
      " 37%|███▋      | 11/30 [01:18<01:43,  5.47s/it]"
     ]
    },
    {
     "name": "stdout",
     "output_type": "stream",
     "text": [
      "(0.7220964652620582, 0.0, 0.0, nan)\n",
      "Testing hyperparameters: {'hidden_size': (64,), 'l2_reg': 100}\n",
      "tensor([0, 0])\n",
      "Training stopped after 42 epochs.\n"
     ]
    },
    {
     "name": "stderr",
     "output_type": "stream",
     "text": [
      " 40%|████      | 12/30 [01:23<01:31,  5.08s/it]"
     ]
    },
    {
     "name": "stdout",
     "output_type": "stream",
     "text": [
      "(0.2779035347379418, 0.2779035347379418, 1.0, 0.434936639869192)\n",
      "Testing hyperparameters: {'hidden_size': (128,), 'l2_reg': 0.001}\n",
      "tensor([0, 0])\n",
      "Training stopped after 100 epochs.\n"
     ]
    },
    {
     "name": "stderr",
     "output_type": "stream",
     "text": [
      " 43%|████▎     | 13/30 [01:29<01:30,  5.34s/it]"
     ]
    },
    {
     "name": "stdout",
     "output_type": "stream",
     "text": [
      "(0.7170250740031342, 0.4940889948754376, 0.762687969924812, 0.5996859315823506)\n",
      "Testing hyperparameters: {'hidden_size': (128,), 'l2_reg': 0.01}\n",
      "tensor([0, 0])\n",
      "Training stopped after 95 epochs.\n"
     ]
    },
    {
     "name": "stderr",
     "output_type": "stream",
     "text": [
      " 47%|████▋     | 14/30 [01:34<01:27,  5.49s/it]"
     ]
    },
    {
     "name": "stdout",
     "output_type": "stream",
     "text": [
      "(0.6796534912066864, 0.4558863451271378, 0.7891604010025063, 0.5779179810725552)\n",
      "Testing hyperparameters: {'hidden_size': (128,), 'l2_reg': 0.1}\n",
      "tensor([0, 0])\n",
      "Training stopped after 100 epochs.\n"
     ]
    },
    {
     "name": "stderr",
     "output_type": "stream",
     "text": [
      " 50%|█████     | 15/30 [01:41<01:24,  5.66s/it]"
     ]
    },
    {
     "name": "stdout",
     "output_type": "stream",
     "text": [
      "(0.2779035347379418, 0.2779035347379418, 1.0, 0.434936639869192)\n",
      "Testing hyperparameters: {'hidden_size': (128,), 'l2_reg': 1}\n",
      "tensor([0, 0])\n",
      "Training stopped after 100 epochs.\n"
     ]
    },
    {
     "name": "stderr",
     "output_type": "stream",
     "text": [
      "/usr/lib/python3.11/site-packages/sklearn/metrics/_classification.py:1471: UndefinedMetricWarning: Precision and F-score are ill-defined and being set to 0.0 due to no predicted samples. Use `zero_division` parameter to control this behavior.\n",
      "  _warn_prf(average, modifier, msg_start, len(result))\n",
      "/tmp/ipykernel_579864/2563740004.py:7: RuntimeWarning: invalid value encountered in scalar divide\n",
      "  return accuracy, precision, recall, 2*precision*recall/(precision+recall)\n",
      " 53%|█████▎    | 16/30 [01:46<01:19,  5.68s/it]"
     ]
    },
    {
     "name": "stdout",
     "output_type": "stream",
     "text": [
      "(0.7220964652620582, 0.0, 0.0, nan)\n",
      "Testing hyperparameters: {'hidden_size': (128,), 'l2_reg': 10}\n",
      "tensor([0, 0])\n",
      "Training stopped after 100 epochs.\n"
     ]
    },
    {
     "name": "stderr",
     "output_type": "stream",
     "text": [
      "/usr/lib/python3.11/site-packages/sklearn/metrics/_classification.py:1471: UndefinedMetricWarning: Precision and F-score are ill-defined and being set to 0.0 due to no predicted samples. Use `zero_division` parameter to control this behavior.\n",
      "  _warn_prf(average, modifier, msg_start, len(result))\n",
      "/tmp/ipykernel_579864/2563740004.py:7: RuntimeWarning: invalid value encountered in scalar divide\n",
      "  return accuracy, precision, recall, 2*precision*recall/(precision+recall)\n",
      " 57%|█████▋    | 17/30 [01:52<01:14,  5.76s/it]"
     ]
    },
    {
     "name": "stdout",
     "output_type": "stream",
     "text": [
      "(0.7220964652620582, 0.0, 0.0, nan)\n",
      "Testing hyperparameters: {'hidden_size': (128,), 'l2_reg': 100}\n",
      "tensor([0, 0])\n",
      "Training stopped after 100 epochs.\n"
     ]
    },
    {
     "name": "stderr",
     "output_type": "stream",
     "text": [
      " 60%|██████    | 18/30 [01:58<01:10,  5.85s/it]"
     ]
    },
    {
     "name": "stdout",
     "output_type": "stream",
     "text": [
      "(0.2779035347379418, 0.2779035347379418, 1.0, 0.434936639869192)\n",
      "Testing hyperparameters: {'hidden_size': (64, 32), 'l2_reg': 0.001}\n",
      "tensor([0, 0])\n",
      "Training stopped after 13 epochs.\n"
     ]
    },
    {
     "name": "stderr",
     "output_type": "stream",
     "text": [
      " 63%|██████▎   | 19/30 [02:02<00:57,  5.22s/it]"
     ]
    },
    {
     "name": "stdout",
     "output_type": "stream",
     "text": [
      "(0.6861614138951767, 0.4627868187350674, 0.8040413533834586, 0.587451002832537)\n",
      "Testing hyperparameters: {'hidden_size': (64, 32), 'l2_reg': 0.01}\n",
      "tensor([0, 0])\n",
      "Training stopped after 77 epochs.\n"
     ]
    },
    {
     "name": "stderr",
     "output_type": "stream",
     "text": [
      " 67%|██████▋   | 20/30 [02:07<00:51,  5.16s/it]"
     ]
    },
    {
     "name": "stdout",
     "output_type": "stream",
     "text": [
      "(0.691864008358001, 0.46691754394321916, 0.7677005012531328, 0.5806700038505969)\n",
      "Testing hyperparameters: {'hidden_size': (64, 32), 'l2_reg': 0.1}\n",
      "tensor([0, 0])\n",
      "Training stopped after 100 epochs.\n"
     ]
    },
    {
     "name": "stderr",
     "output_type": "stream",
     "text": [
      " 70%|███████   | 21/30 [02:13<00:47,  5.26s/it]"
     ]
    },
    {
     "name": "stdout",
     "output_type": "stream",
     "text": [
      "(0.2779035347379418, 0.2779035347379418, 1.0, 0.434936639869192)\n",
      "Testing hyperparameters: {'hidden_size': (64, 32), 'l2_reg': 1}\n",
      "tensor([0, 0])\n",
      "Training stopped after 100 epochs.\n"
     ]
    },
    {
     "name": "stderr",
     "output_type": "stream",
     "text": [
      "/usr/lib/python3.11/site-packages/sklearn/metrics/_classification.py:1471: UndefinedMetricWarning: Precision and F-score are ill-defined and being set to 0.0 due to no predicted samples. Use `zero_division` parameter to control this behavior.\n",
      "  _warn_prf(average, modifier, msg_start, len(result))\n",
      "/tmp/ipykernel_579864/2563740004.py:7: RuntimeWarning: invalid value encountered in scalar divide\n",
      "  return accuracy, precision, recall, 2*precision*recall/(precision+recall)\n",
      " 73%|███████▎  | 22/30 [02:18<00:42,  5.33s/it]"
     ]
    },
    {
     "name": "stdout",
     "output_type": "stream",
     "text": [
      "(0.7220964652620582, 0.0, 0.0, nan)\n",
      "Testing hyperparameters: {'hidden_size': (64, 32), 'l2_reg': 10}\n",
      "tensor([0, 0])\n",
      "Training stopped after 100 epochs.\n"
     ]
    },
    {
     "name": "stderr",
     "output_type": "stream",
     "text": [
      "/usr/lib/python3.11/site-packages/sklearn/metrics/_classification.py:1471: UndefinedMetricWarning: Precision and F-score are ill-defined and being set to 0.0 due to no predicted samples. Use `zero_division` parameter to control this behavior.\n",
      "  _warn_prf(average, modifier, msg_start, len(result))\n",
      "/tmp/ipykernel_579864/2563740004.py:7: RuntimeWarning: invalid value encountered in scalar divide\n",
      "  return accuracy, precision, recall, 2*precision*recall/(precision+recall)\n",
      " 77%|███████▋  | 23/30 [02:24<00:37,  5.40s/it]"
     ]
    },
    {
     "name": "stdout",
     "output_type": "stream",
     "text": [
      "(0.7220964652620582, 0.0, 0.0, nan)\n",
      "Testing hyperparameters: {'hidden_size': (64, 32), 'l2_reg': 100}\n",
      "tensor([0, 0])\n",
      "Training stopped after 100 epochs.\n"
     ]
    },
    {
     "name": "stderr",
     "output_type": "stream",
     "text": [
      "/usr/lib/python3.11/site-packages/sklearn/metrics/_classification.py:1471: UndefinedMetricWarning: Precision and F-score are ill-defined and being set to 0.0 due to no predicted samples. Use `zero_division` parameter to control this behavior.\n",
      "  _warn_prf(average, modifier, msg_start, len(result))\n",
      "/tmp/ipykernel_579864/2563740004.py:7: RuntimeWarning: invalid value encountered in scalar divide\n",
      "  return accuracy, precision, recall, 2*precision*recall/(precision+recall)\n",
      " 80%|████████  | 24/30 [02:29<00:32,  5.41s/it]"
     ]
    },
    {
     "name": "stdout",
     "output_type": "stream",
     "text": [
      "(0.7220964652620582, 0.0, 0.0, nan)\n",
      "Testing hyperparameters: {'hidden_size': (64, 32, 16), 'l2_reg': 0.001}\n",
      "tensor([0, 0])\n",
      "Training stopped after 100 epochs.\n"
     ]
    },
    {
     "name": "stderr",
     "output_type": "stream",
     "text": [
      " 83%|████████▎ | 25/30 [02:35<00:27,  5.49s/it]"
     ]
    },
    {
     "name": "stdout",
     "output_type": "stream",
     "text": [
      "(0.710582448197806, 0.486902698687794, 0.7701284461152882, 0.5966083184176197)\n",
      "Testing hyperparameters: {'hidden_size': (64, 32, 16), 'l2_reg': 0.01}\n",
      "tensor([0, 0])\n",
      "Training stopped after 100 epochs.\n"
     ]
    },
    {
     "name": "stderr",
     "output_type": "stream",
     "text": [
      " 87%|████████▋ | 26/30 [02:40<00:22,  5.56s/it]"
     ]
    },
    {
     "name": "stdout",
     "output_type": "stream",
     "text": [
      "(0.2779035347379418, 0.2779035347379418, 1.0, 0.434936639869192)\n",
      "Testing hyperparameters: {'hidden_size': (64, 32, 16), 'l2_reg': 0.1}\n",
      "tensor([0, 0])\n",
      "Training stopped after 100 epochs.\n"
     ]
    },
    {
     "name": "stderr",
     "output_type": "stream",
     "text": [
      "/usr/lib/python3.11/site-packages/sklearn/metrics/_classification.py:1471: UndefinedMetricWarning: Precision and F-score are ill-defined and being set to 0.0 due to no predicted samples. Use `zero_division` parameter to control this behavior.\n",
      "  _warn_prf(average, modifier, msg_start, len(result))\n",
      "/tmp/ipykernel_579864/2563740004.py:7: RuntimeWarning: invalid value encountered in scalar divide\n",
      "  return accuracy, precision, recall, 2*precision*recall/(precision+recall)\n",
      " 90%|█████████ | 27/30 [02:46<00:16,  5.59s/it]"
     ]
    },
    {
     "name": "stdout",
     "output_type": "stream",
     "text": [
      "(0.7220964652620582, 0.0, 0.0, nan)\n",
      "Testing hyperparameters: {'hidden_size': (64, 32, 16), 'l2_reg': 1}\n",
      "tensor([0, 0])\n",
      "Training stopped after 100 epochs.\n"
     ]
    },
    {
     "name": "stderr",
     "output_type": "stream",
     "text": [
      " 93%|█████████▎| 28/30 [02:52<00:11,  5.60s/it]"
     ]
    },
    {
     "name": "stdout",
     "output_type": "stream",
     "text": [
      "(0.2779035347379418, 0.2779035347379418, 1.0, 0.434936639869192)\n",
      "Testing hyperparameters: {'hidden_size': (64, 32, 16), 'l2_reg': 10}\n",
      "tensor([0, 0])\n",
      "Training stopped after 100 epochs.\n"
     ]
    },
    {
     "name": "stderr",
     "output_type": "stream",
     "text": [
      " 97%|█████████▋| 29/30 [02:57<00:05,  5.63s/it]"
     ]
    },
    {
     "name": "stdout",
     "output_type": "stream",
     "text": [
      "(0.2779035347379418, 0.2779035347379418, 1.0, 0.434936639869192)\n",
      "Testing hyperparameters: {'hidden_size': (64, 32, 16), 'l2_reg': 100}\n",
      "tensor([0, 0])\n",
      "Training stopped after 100 epochs.\n"
     ]
    },
    {
     "name": "stderr",
     "output_type": "stream",
     "text": [
      "100%|██████████| 30/30 [03:03<00:00,  6.12s/it]"
     ]
    },
    {
     "name": "stdout",
     "output_type": "stream",
     "text": [
      "(0.2779035347379418, 0.2779035347379418, 1.0, 0.434936639869192)\n"
     ]
    },
    {
     "name": "stderr",
     "output_type": "stream",
     "text": [
      "\n"
     ]
    }
   ],
   "source": [
    "from sklearn.model_selection import ParameterGrid\n",
    "\n",
    "# Generate all possible combinations of hyperparameters\n",
    "grid = ParameterGrid(param_grid)\n",
    "\n",
    "scores_tfidf = []\n",
    "\n",
    "# Iterate over the hyperparameter combinations\n",
    "bar = tqdm(grid)\n",
    "X_train = torch.tensor(X_train).to('cuda')\n",
    "y_train = torch.tensor(y_train).to('cuda')\n",
    "for params in bar:\n",
    "    print(\"Testing hyperparameters:\", params)\n",
    "\n",
    "    # Create the model with the current hyperparameters\n",
    "    model = MLPClassifier(input_size=len(X_train[0]), output_size=2, **params)\n",
    "\n",
    "    # Train the model\n",
    "    model.fit(X_train, y_train, X_val, y_val, epochs=100, use_gpu=True)\n",
    "    metrics = test_metrics(model, X_test, y_test)\n",
    "    print(metrics)\n",
    "    scores_tfidf.append({'params':params, 'scores':metrics})\n",
    "    bar.set_postfix()\n",
    "\n",
    "with open('mlp_tfidf.json', 'w') as f:\n",
    "    json.dump(scores_tfidf, f)"
   ]
  },
  {
   "cell_type": "code",
   "execution_count": null,
   "id": "af7f4fe3",
   "metadata": {},
   "outputs": [
    {
     "name": "stderr",
     "output_type": "stream",
     "text": [
      "  0%|          | 0/30 [00:00<?, ?it/s]/tmp/ipykernel_579864/4230160924.py:22: UserWarning: To copy construct from a tensor, it is recommended to use sourceTensor.clone().detach() or sourceTensor.clone().detach().requires_grad_(True), rather than torch.tensor(sourceTensor).\n",
      "  y_train = torch.tensor(y_train).to('cuda')\n"
     ]
    },
    {
     "name": "stdout",
     "output_type": "stream",
     "text": [
      "Testing hyperparameters: {'hidden_size': (5,), 'l2_reg': 0.001}\n",
      "tensor([0, 0])\n",
      "Training stopped after 97 epochs.\n"
     ]
    },
    {
     "name": "stderr",
     "output_type": "stream",
     "text": [
      "  3%|▎         | 1/30 [00:13<06:19, 13.09s/it]"
     ]
    },
    {
     "name": "stdout",
     "output_type": "stream",
     "text": [
      "(0.6301149225143653, 0.4169679346117573, 0.831062030075188, 0.5553171446514549)\n",
      "Testing hyperparameters: {'hidden_size': (5,), 'l2_reg': 0.01}\n",
      "tensor([0, 0])\n",
      "Training stopped after 100 epochs.\n"
     ]
    },
    {
     "name": "stderr",
     "output_type": "stream",
     "text": [
      "/usr/lib/python3.11/site-packages/sklearn/metrics/_classification.py:1471: UndefinedMetricWarning: Precision and F-score are ill-defined and being set to 0.0 due to no predicted samples. Use `zero_division` parameter to control this behavior.\n",
      "  _warn_prf(average, modifier, msg_start, len(result))\n",
      "/tmp/ipykernel_579864/2563740004.py:7: RuntimeWarning: invalid value encountered in scalar divide\n",
      "  return accuracy, precision, recall, 2*precision*recall/(precision+recall)\n",
      "  7%|▋         | 2/30 [00:15<03:15,  6.96s/it]"
     ]
    },
    {
     "name": "stdout",
     "output_type": "stream",
     "text": [
      "(0.7220964652620582, 0.0, 0.0, nan)\n",
      "Testing hyperparameters: {'hidden_size': (5,), 'l2_reg': 0.1}\n",
      "tensor([0, 0])\n",
      "Training stopped after 100 epochs.\n"
     ]
    },
    {
     "name": "stderr",
     "output_type": "stream",
     "text": [
      "/usr/lib/python3.11/site-packages/sklearn/metrics/_classification.py:1471: UndefinedMetricWarning: Precision and F-score are ill-defined and being set to 0.0 due to no predicted samples. Use `zero_division` parameter to control this behavior.\n",
      "  _warn_prf(average, modifier, msg_start, len(result))\n",
      "/tmp/ipykernel_579864/2563740004.py:7: RuntimeWarning: invalid value encountered in scalar divide\n",
      "  return accuracy, precision, recall, 2*precision*recall/(precision+recall)\n",
      " 10%|█         | 3/30 [00:18<02:15,  5.02s/it]"
     ]
    },
    {
     "name": "stdout",
     "output_type": "stream",
     "text": [
      "(0.7220964652620582, 0.0, 0.0, nan)\n",
      "Testing hyperparameters: {'hidden_size': (5,), 'l2_reg': 1}\n",
      "tensor([0, 0])\n",
      "Training stopped after 100 epochs.\n"
     ]
    },
    {
     "name": "stderr",
     "output_type": "stream",
     "text": [
      "/usr/lib/python3.11/site-packages/sklearn/metrics/_classification.py:1471: UndefinedMetricWarning: Precision and F-score are ill-defined and being set to 0.0 due to no predicted samples. Use `zero_division` parameter to control this behavior.\n",
      "  _warn_prf(average, modifier, msg_start, len(result))\n",
      "/tmp/ipykernel_579864/2563740004.py:7: RuntimeWarning: invalid value encountered in scalar divide\n",
      "  return accuracy, precision, recall, 2*precision*recall/(precision+recall)\n",
      " 13%|█▎        | 4/30 [00:21<01:45,  4.04s/it]"
     ]
    },
    {
     "name": "stdout",
     "output_type": "stream",
     "text": [
      "(0.7220964652620582, 0.0, 0.0, nan)\n",
      "Testing hyperparameters: {'hidden_size': (5,), 'l2_reg': 10}\n",
      "tensor([0, 0])\n",
      "Training stopped after 100 epochs.\n"
     ]
    },
    {
     "name": "stderr",
     "output_type": "stream",
     "text": [
      " 17%|█▋        | 5/30 [00:23<01:26,  3.47s/it]"
     ]
    },
    {
     "name": "stdout",
     "output_type": "stream",
     "text": [
      "(0.2779035347379418, 0.2779035347379418, 1.0, 0.434936639869192)\n",
      "Testing hyperparameters: {'hidden_size': (5,), 'l2_reg': 100}\n",
      "tensor([0, 0])\n",
      "Training stopped after 100 epochs.\n"
     ]
    },
    {
     "name": "stderr",
     "output_type": "stream",
     "text": [
      "/usr/lib/python3.11/site-packages/sklearn/metrics/_classification.py:1471: UndefinedMetricWarning: Precision and F-score are ill-defined and being set to 0.0 due to no predicted samples. Use `zero_division` parameter to control this behavior.\n",
      "  _warn_prf(average, modifier, msg_start, len(result))\n",
      "/tmp/ipykernel_579864/2563740004.py:7: RuntimeWarning: invalid value encountered in scalar divide\n",
      "  return accuracy, precision, recall, 2*precision*recall/(precision+recall)\n",
      " 20%|██        | 6/30 [00:25<01:14,  3.12s/it]"
     ]
    },
    {
     "name": "stdout",
     "output_type": "stream",
     "text": [
      "(0.7220964652620582, 0.0, 0.0, nan)\n",
      "Testing hyperparameters: {'hidden_size': (64,), 'l2_reg': 0.001}\n",
      "tensor([0, 0])\n",
      "Training stopped after 87 epochs.\n"
     ]
    },
    {
     "name": "stderr",
     "output_type": "stream",
     "text": [
      " 23%|██▎       | 7/30 [00:28<01:09,  3.04s/it]"
     ]
    },
    {
     "name": "stdout",
     "output_type": "stream",
     "text": [
      "(0.6527947065993384, 0.4337935623388505, 0.8169642857142857, 0.5666865866246537)\n",
      "Testing hyperparameters: {'hidden_size': (64,), 'l2_reg': 0.01}\n",
      "tensor([0, 0])\n",
      "Training stopped after 100 epochs.\n"
     ]
    },
    {
     "name": "stderr",
     "output_type": "stream",
     "text": [
      " 27%|██▋       | 8/30 [00:31<01:06,  3.04s/it]"
     ]
    },
    {
     "name": "stdout",
     "output_type": "stream",
     "text": [
      "(0.2779035347379418, 0.2779035347379418, 1.0, 0.434936639869192)\n",
      "Testing hyperparameters: {'hidden_size': (64,), 'l2_reg': 0.1}\n",
      "tensor([0, 0])\n",
      "Training stopped after 100 epochs.\n"
     ]
    },
    {
     "name": "stderr",
     "output_type": "stream",
     "text": [
      " 30%|███       | 9/30 [00:34<01:03,  3.04s/it]"
     ]
    },
    {
     "name": "stdout",
     "output_type": "stream",
     "text": [
      "(0.2779035347379418, 0.2779035347379418, 1.0, 0.434936639869192)\n",
      "Testing hyperparameters: {'hidden_size': (64,), 'l2_reg': 1}\n",
      "tensor([0, 0])\n",
      "Training stopped after 100 epochs.\n"
     ]
    },
    {
     "name": "stderr",
     "output_type": "stream",
     "text": [
      " 33%|███▎      | 10/30 [00:37<01:00,  3.03s/it]"
     ]
    },
    {
     "name": "stdout",
     "output_type": "stream",
     "text": [
      "(0.2779035347379418, 0.2779035347379418, 1.0, 0.434936639869192)\n",
      "Testing hyperparameters: {'hidden_size': (64,), 'l2_reg': 10}\n",
      "tensor([0, 0])\n",
      "Training stopped after 42 epochs.\n"
     ]
    },
    {
     "name": "stderr",
     "output_type": "stream",
     "text": [
      "/usr/lib/python3.11/site-packages/sklearn/metrics/_classification.py:1471: UndefinedMetricWarning: Precision and F-score are ill-defined and being set to 0.0 due to no predicted samples. Use `zero_division` parameter to control this behavior.\n",
      "  _warn_prf(average, modifier, msg_start, len(result))\n",
      "/tmp/ipykernel_579864/2563740004.py:7: RuntimeWarning: invalid value encountered in scalar divide\n",
      "  return accuracy, precision, recall, 2*precision*recall/(precision+recall)\n",
      " 37%|███▋      | 11/30 [00:40<00:53,  2.81s/it]"
     ]
    },
    {
     "name": "stdout",
     "output_type": "stream",
     "text": [
      "(0.7220964652620582, 0.0, 0.0, nan)\n",
      "Testing hyperparameters: {'hidden_size': (64,), 'l2_reg': 100}\n",
      "tensor([0, 0])\n",
      "Training stopped after 100 epochs.\n"
     ]
    },
    {
     "name": "stderr",
     "output_type": "stream",
     "text": [
      "/usr/lib/python3.11/site-packages/sklearn/metrics/_classification.py:1471: UndefinedMetricWarning: Precision and F-score are ill-defined and being set to 0.0 due to no predicted samples. Use `zero_division` parameter to control this behavior.\n",
      "  _warn_prf(average, modifier, msg_start, len(result))\n",
      "/tmp/ipykernel_579864/2563740004.py:7: RuntimeWarning: invalid value encountered in scalar divide\n",
      "  return accuracy, precision, recall, 2*precision*recall/(precision+recall)\n",
      " 40%|████      | 12/30 [00:43<00:51,  2.88s/it]"
     ]
    },
    {
     "name": "stdout",
     "output_type": "stream",
     "text": [
      "(0.7220964652620582, 0.0, 0.0, nan)\n",
      "Testing hyperparameters: {'hidden_size': (128,), 'l2_reg': 0.001}\n",
      "tensor([0, 0])\n",
      "Training stopped after 100 epochs.\n"
     ]
    },
    {
     "name": "stderr",
     "output_type": "stream",
     "text": [
      " 43%|████▎     | 13/30 [00:46<00:53,  3.12s/it]"
     ]
    },
    {
     "name": "stdout",
     "output_type": "stream",
     "text": [
      "(0.6580402228800278, 0.4383871372943098, 0.8200187969924813, 0.5713350249652125)\n",
      "Testing hyperparameters: {'hidden_size': (128,), 'l2_reg': 0.01}\n",
      "tensor([0, 0])\n",
      "Training stopped after 100 epochs.\n"
     ]
    },
    {
     "name": "stderr",
     "output_type": "stream",
     "text": [
      "/usr/lib/python3.11/site-packages/sklearn/metrics/_classification.py:1471: UndefinedMetricWarning: Precision and F-score are ill-defined and being set to 0.0 due to no predicted samples. Use `zero_division` parameter to control this behavior.\n",
      "  _warn_prf(average, modifier, msg_start, len(result))\n",
      "/tmp/ipykernel_579864/2563740004.py:7: RuntimeWarning: invalid value encountered in scalar divide\n",
      "  return accuracy, precision, recall, 2*precision*recall/(precision+recall)\n",
      " 47%|████▋     | 14/30 [00:50<00:52,  3.29s/it]"
     ]
    },
    {
     "name": "stdout",
     "output_type": "stream",
     "text": [
      "(0.7220964652620582, 0.0, 0.0, nan)\n",
      "Testing hyperparameters: {'hidden_size': (128,), 'l2_reg': 0.1}\n",
      "tensor([0, 0])\n",
      "Training stopped after 100 epochs.\n"
     ]
    },
    {
     "name": "stderr",
     "output_type": "stream",
     "text": [
      " 50%|█████     | 15/30 [00:54<00:51,  3.40s/it]"
     ]
    },
    {
     "name": "stdout",
     "output_type": "stream",
     "text": [
      "(0.2779035347379418, 0.2779035347379418, 1.0, 0.434936639869192)\n",
      "Testing hyperparameters: {'hidden_size': (128,), 'l2_reg': 1}\n",
      "tensor([0, 0])\n",
      "Training stopped after 100 epochs.\n"
     ]
    },
    {
     "name": "stderr",
     "output_type": "stream",
     "text": [
      "/usr/lib/python3.11/site-packages/sklearn/metrics/_classification.py:1471: UndefinedMetricWarning: Precision and F-score are ill-defined and being set to 0.0 due to no predicted samples. Use `zero_division` parameter to control this behavior.\n",
      "  _warn_prf(average, modifier, msg_start, len(result))\n",
      "/tmp/ipykernel_579864/2563740004.py:7: RuntimeWarning: invalid value encountered in scalar divide\n",
      "  return accuracy, precision, recall, 2*precision*recall/(precision+recall)\n",
      " 53%|█████▎    | 16/30 [00:57<00:48,  3.49s/it]"
     ]
    },
    {
     "name": "stdout",
     "output_type": "stream",
     "text": [
      "(0.7220964652620582, 0.0, 0.0, nan)\n",
      "Testing hyperparameters: {'hidden_size': (128,), 'l2_reg': 10}\n",
      "tensor([0, 0])\n",
      "Training stopped after 100 epochs.\n"
     ]
    },
    {
     "name": "stderr",
     "output_type": "stream",
     "text": [
      "/usr/lib/python3.11/site-packages/sklearn/metrics/_classification.py:1471: UndefinedMetricWarning: Precision and F-score are ill-defined and being set to 0.0 due to no predicted samples. Use `zero_division` parameter to control this behavior.\n",
      "  _warn_prf(average, modifier, msg_start, len(result))\n",
      "/tmp/ipykernel_579864/2563740004.py:7: RuntimeWarning: invalid value encountered in scalar divide\n",
      "  return accuracy, precision, recall, 2*precision*recall/(precision+recall)\n",
      " 57%|█████▋    | 17/30 [01:01<00:46,  3.58s/it]"
     ]
    },
    {
     "name": "stdout",
     "output_type": "stream",
     "text": [
      "(0.7220964652620582, 0.0, 0.0, nan)\n",
      "Testing hyperparameters: {'hidden_size': (128,), 'l2_reg': 100}\n",
      "tensor([0, 0])\n",
      "Training stopped after 100 epochs.\n"
     ]
    },
    {
     "name": "stderr",
     "output_type": "stream",
     "text": [
      "/usr/lib/python3.11/site-packages/sklearn/metrics/_classification.py:1471: UndefinedMetricWarning: Precision and F-score are ill-defined and being set to 0.0 due to no predicted samples. Use `zero_division` parameter to control this behavior.\n",
      "  _warn_prf(average, modifier, msg_start, len(result))\n",
      "/tmp/ipykernel_579864/2563740004.py:7: RuntimeWarning: invalid value encountered in scalar divide\n",
      "  return accuracy, precision, recall, 2*precision*recall/(precision+recall)\n",
      " 60%|██████    | 18/30 [01:05<00:43,  3.64s/it]"
     ]
    },
    {
     "name": "stdout",
     "output_type": "stream",
     "text": [
      "(0.7220964652620582, 0.0, 0.0, nan)\n",
      "Testing hyperparameters: {'hidden_size': (64, 32), 'l2_reg': 0.001}\n",
      "tensor([0, 0])\n",
      "Training stopped after 100 epochs.\n"
     ]
    },
    {
     "name": "stderr",
     "output_type": "stream",
     "text": [
      " 63%|██████▎   | 19/30 [01:08<00:39,  3.57s/it]"
     ]
    },
    {
     "name": "stdout",
     "output_type": "stream",
     "text": [
      "(0.6599338324917291, 0.4398432892408796, 0.8177474937343359, 0.5720155590861776)\n",
      "Testing hyperparameters: {'hidden_size': (64, 32), 'l2_reg': 0.01}\n",
      "tensor([0, 0])\n",
      "Training stopped after 100 epochs.\n"
     ]
    },
    {
     "name": "stderr",
     "output_type": "stream",
     "text": [
      " 67%|██████▋   | 20/30 [01:12<00:35,  3.54s/it]"
     ]
    },
    {
     "name": "stdout",
     "output_type": "stream",
     "text": [
      "(0.2779035347379418, 0.2779035347379418, 1.0, 0.434936639869192)\n",
      "Testing hyperparameters: {'hidden_size': (64, 32), 'l2_reg': 0.1}\n",
      "tensor([0, 0])\n",
      "Training stopped after 100 epochs.\n"
     ]
    },
    {
     "name": "stderr",
     "output_type": "stream",
     "text": [
      "/usr/lib/python3.11/site-packages/sklearn/metrics/_classification.py:1471: UndefinedMetricWarning: Precision and F-score are ill-defined and being set to 0.0 due to no predicted samples. Use `zero_division` parameter to control this behavior.\n",
      "  _warn_prf(average, modifier, msg_start, len(result))\n",
      "/tmp/ipykernel_579864/2563740004.py:7: RuntimeWarning: invalid value encountered in scalar divide\n",
      "  return accuracy, precision, recall, 2*precision*recall/(precision+recall)\n",
      " 70%|███████   | 21/30 [01:15<00:31,  3.49s/it]"
     ]
    },
    {
     "name": "stdout",
     "output_type": "stream",
     "text": [
      "(0.7220964652620582, 0.0, 0.0, nan)\n",
      "Testing hyperparameters: {'hidden_size': (64, 32), 'l2_reg': 1}\n",
      "tensor([0, 0])\n",
      "Training stopped after 100 epochs.\n"
     ]
    },
    {
     "name": "stderr",
     "output_type": "stream",
     "text": [
      " 73%|███████▎  | 22/30 [01:19<00:27,  3.46s/it]"
     ]
    },
    {
     "name": "stdout",
     "output_type": "stream",
     "text": [
      "(0.2779035347379418, 0.2779035347379418, 1.0, 0.434936639869192)\n",
      "Testing hyperparameters: {'hidden_size': (64, 32), 'l2_reg': 10}\n",
      "tensor([0, 0])\n",
      "Training stopped after 100 epochs.\n"
     ]
    },
    {
     "name": "stderr",
     "output_type": "stream",
     "text": [
      " 77%|███████▋  | 23/30 [01:22<00:24,  3.45s/it]"
     ]
    },
    {
     "name": "stdout",
     "output_type": "stream",
     "text": [
      "(0.2779035347379418, 0.2779035347379418, 1.0, 0.434936639869192)\n",
      "Testing hyperparameters: {'hidden_size': (64, 32), 'l2_reg': 100}\n",
      "tensor([0, 0])\n",
      "Training stopped after 100 epochs.\n"
     ]
    },
    {
     "name": "stderr",
     "output_type": "stream",
     "text": [
      "/usr/lib/python3.11/site-packages/sklearn/metrics/_classification.py:1471: UndefinedMetricWarning: Precision and F-score are ill-defined and being set to 0.0 due to no predicted samples. Use `zero_division` parameter to control this behavior.\n",
      "  _warn_prf(average, modifier, msg_start, len(result))\n",
      "/tmp/ipykernel_579864/2563740004.py:7: RuntimeWarning: invalid value encountered in scalar divide\n",
      "  return accuracy, precision, recall, 2*precision*recall/(precision+recall)\n",
      " 80%|████████  | 24/30 [01:26<00:20,  3.47s/it]"
     ]
    },
    {
     "name": "stdout",
     "output_type": "stream",
     "text": [
      "(0.7220964652620582, 0.0, 0.0, nan)\n",
      "Testing hyperparameters: {'hidden_size': (64, 32, 16), 'l2_reg': 0.001}\n",
      "tensor([0, 0])\n",
      "Training stopped after 95 epochs.\n"
     ]
    },
    {
     "name": "stderr",
     "output_type": "stream",
     "text": [
      " 83%|████████▎ | 25/30 [01:29<00:17,  3.48s/it]"
     ]
    },
    {
     "name": "stdout",
     "output_type": "stream",
     "text": [
      "(0.6852907887863486, 0.4567054124635158, 0.6985432330827067, 0.5523113601882528)\n",
      "Testing hyperparameters: {'hidden_size': (64, 32, 16), 'l2_reg': 0.01}\n",
      "tensor([0, 0])\n",
      "Training stopped after 100 epochs.\n"
     ]
    },
    {
     "name": "stderr",
     "output_type": "stream",
     "text": [
      "/usr/lib/python3.11/site-packages/sklearn/metrics/_classification.py:1471: UndefinedMetricWarning: Precision and F-score are ill-defined and being set to 0.0 due to no predicted samples. Use `zero_division` parameter to control this behavior.\n",
      "  _warn_prf(average, modifier, msg_start, len(result))\n",
      "/tmp/ipykernel_579864/2563740004.py:7: RuntimeWarning: invalid value encountered in scalar divide\n",
      "  return accuracy, precision, recall, 2*precision*recall/(precision+recall)\n",
      " 87%|████████▋ | 26/30 [01:33<00:13,  3.45s/it]"
     ]
    },
    {
     "name": "stdout",
     "output_type": "stream",
     "text": [
      "(0.7220964652620582, 0.0, 0.0, nan)\n",
      "Testing hyperparameters: {'hidden_size': (64, 32, 16), 'l2_reg': 0.1}\n",
      "tensor([0, 0])\n",
      "Training stopped after 100 epochs.\n"
     ]
    },
    {
     "name": "stderr",
     "output_type": "stream",
     "text": [
      "/usr/lib/python3.11/site-packages/sklearn/metrics/_classification.py:1471: UndefinedMetricWarning: Precision and F-score are ill-defined and being set to 0.0 due to no predicted samples. Use `zero_division` parameter to control this behavior.\n",
      "  _warn_prf(average, modifier, msg_start, len(result))\n",
      "/tmp/ipykernel_579864/2563740004.py:7: RuntimeWarning: invalid value encountered in scalar divide\n",
      "  return accuracy, precision, recall, 2*precision*recall/(precision+recall)\n",
      " 90%|█████████ | 27/30 [01:36<00:10,  3.42s/it]"
     ]
    },
    {
     "name": "stdout",
     "output_type": "stream",
     "text": [
      "(0.7220964652620582, 0.0, 0.0, nan)\n",
      "Testing hyperparameters: {'hidden_size': (64, 32, 16), 'l2_reg': 1}\n",
      "tensor([0, 0])\n",
      "Training stopped after 100 epochs.\n"
     ]
    },
    {
     "name": "stderr",
     "output_type": "stream",
     "text": [
      "/usr/lib/python3.11/site-packages/sklearn/metrics/_classification.py:1471: UndefinedMetricWarning: Precision and F-score are ill-defined and being set to 0.0 due to no predicted samples. Use `zero_division` parameter to control this behavior.\n",
      "  _warn_prf(average, modifier, msg_start, len(result))\n",
      "/tmp/ipykernel_579864/2563740004.py:7: RuntimeWarning: invalid value encountered in scalar divide\n",
      "  return accuracy, precision, recall, 2*precision*recall/(precision+recall)\n",
      " 93%|█████████▎| 28/30 [01:39<00:06,  3.39s/it]"
     ]
    },
    {
     "name": "stdout",
     "output_type": "stream",
     "text": [
      "(0.7220964652620582, 0.0, 0.0, nan)\n",
      "Testing hyperparameters: {'hidden_size': (64, 32, 16), 'l2_reg': 10}\n",
      "tensor([0, 0])\n",
      "Training stopped after 100 epochs.\n"
     ]
    },
    {
     "name": "stderr",
     "output_type": "stream",
     "text": [
      " 97%|█████████▋| 29/30 [01:43<00:03,  3.37s/it]"
     ]
    },
    {
     "name": "stdout",
     "output_type": "stream",
     "text": [
      "(0.2779035347379418, 0.2779035347379418, 1.0, 0.434936639869192)\n",
      "Testing hyperparameters: {'hidden_size': (64, 32, 16), 'l2_reg': 100}\n",
      "tensor([0, 0])\n",
      "Training stopped after 100 epochs.\n"
     ]
    },
    {
     "name": "stderr",
     "output_type": "stream",
     "text": [
      "100%|██████████| 30/30 [01:46<00:00,  3.55s/it]"
     ]
    },
    {
     "name": "stdout",
     "output_type": "stream",
     "text": [
      "(0.2779035347379418, 0.2779035347379418, 1.0, 0.434936639869192)\n"
     ]
    },
    {
     "name": "stderr",
     "output_type": "stream",
     "text": [
      "\n"
     ]
    }
   ],
   "source": [
    "X_train = [get_text_features(d, BoW=False, tfidf=False, w2v=True) for d in data_train]\n",
    "X_val = [get_text_features(d, BoW=False, tfidf=False, w2v=True) for d in data_val]\n",
    "X_test = [get_text_features(d, BoW=False, tfidf=False, w2v=True) for d in data_test]\n",
    "\n",
    "# Generate all possible combinations of hyperparameters\n",
    "grid = ParameterGrid(param_grid)\n",
    "\n",
    "scores_w2v = []\n",
    "\n",
    "# Iterate over the hyperparameter combinations\n",
    "bar = tqdm(grid)\n",
    "X_train = torch.tensor(X_train).to('cuda')\n",
    "y_train = torch.tensor(y_train).to('cuda')\n",
    "for params in bar:\n",
    "    print(\"Testing hyperparameters:\", params)\n",
    "\n",
    "    # Create the model with the current hyperparameters\n",
    "    model = MLPClassifier(input_size=len(X_train[0]), output_size=2, **params)\n",
    "\n",
    "    # Train the model\n",
    "    model.fit(X_train, y_train, X_val, y_val, epochs=100, use_gpu=True)\n",
    "    metrics = test_metrics(model, X_test, y_test)\n",
    "    print(metrics)\n",
    "    scores_w2v.append({'params':params, 'scores':metrics})\n",
    "    bar.set_postfix()\n",
    "\n",
    "with open('mlp_w2v.json', 'w') as f:\n",
    "    json.dump(scores_w2v, f)"
   ]
  },
  {
   "cell_type": "markdown",
   "id": "c3507d77",
   "metadata": {},
   "source": [
    "## Text + HandCrafted Features"
   ]
  },
  {
   "cell_type": "code",
   "execution_count": null,
   "id": "6937c04b",
   "metadata": {},
   "outputs": [],
   "source": [
    "def get_features(d, BoW=False, tfidf=False, w2v=False):\n",
    "    a = get_text_features(d, BoW, tfidf, w2v)\n",
    "    a.extend(get_meta_features(d, True, True, True, True))\n",
    "    return a"
   ]
  },
  {
   "cell_type": "code",
   "execution_count": null,
   "id": "83ee14eb",
   "metadata": {},
   "outputs": [
    {
     "name": "stderr",
     "output_type": "stream",
     "text": [
      "  0%|          | 0/30 [00:00<?, ?it/s]/tmp/ipykernel_579864/1665296896.py:20: UserWarning: To copy construct from a tensor, it is recommended to use sourceTensor.clone().detach() or sourceTensor.clone().detach().requires_grad_(True), rather than torch.tensor(sourceTensor).\n",
      "  y_train = torch.tensor(y_train).to('cuda')\n"
     ]
    },
    {
     "name": "stdout",
     "output_type": "stream",
     "text": [
      "Testing hyperparameters: {'hidden_size': (5,), 'l2_reg': 0.001}\n",
      "<class 'torch.nn.modules.linear.Linear'>\n",
      "<class 'torch.nn.modules.activation.ReLU'>\n",
      "<class 'torch.nn.modules.dropout.Dropout'>\n",
      "tensor([0, 0])\n",
      "Training stopped after 55 epochs.\n"
     ]
    },
    {
     "name": "stderr",
     "output_type": "stream",
     "text": [
      "  3%|▎         | 1/30 [00:13<06:43, 13.90s/it]"
     ]
    },
    {
     "name": "stdout",
     "output_type": "stream",
     "text": [
      "(0.5060508445063555, 0.31536458333333334, 0.6639254385964912, 0.4276129943502825)\n",
      "Testing hyperparameters: {'hidden_size': (5,), 'l2_reg': 0.01}\n",
      "<class 'torch.nn.modules.linear.Linear'>\n",
      "<class 'torch.nn.modules.activation.ReLU'>\n",
      "<class 'torch.nn.modules.dropout.Dropout'>\n",
      "tensor([0, 0])\n",
      "Training stopped after 100 epochs.\n"
     ]
    },
    {
     "name": "stderr",
     "output_type": "stream",
     "text": [
      "  7%|▋         | 2/30 [00:16<03:28,  7.46s/it]"
     ]
    },
    {
     "name": "stdout",
     "output_type": "stream",
     "text": [
      "(0.2794924255615532, 0.2783264656506857, 0.9998433583959899, 0.43543958386629145)\n",
      "Testing hyperparameters: {'hidden_size': (5,), 'l2_reg': 0.1}\n",
      "<class 'torch.nn.modules.linear.Linear'>\n",
      "<class 'torch.nn.modules.activation.ReLU'>\n",
      "<class 'torch.nn.modules.dropout.Dropout'>\n",
      "tensor([0, 0])\n",
      "Training stopped after 26 epochs.\n"
     ]
    },
    {
     "name": "stderr",
     "output_type": "stream",
     "text": [
      " 10%|█         | 3/30 [00:19<02:18,  5.12s/it]"
     ]
    },
    {
     "name": "stdout",
     "output_type": "stream",
     "text": [
      "(0.5761361657670208, 0.3197893152746426, 0.46600877192982454, 0.3792949576082106)\n",
      "Testing hyperparameters: {'hidden_size': (5,), 'l2_reg': 1}\n",
      "<class 'torch.nn.modules.linear.Linear'>\n",
      "<class 'torch.nn.modules.activation.ReLU'>\n",
      "<class 'torch.nn.modules.dropout.Dropout'>\n",
      "tensor([0, 0])\n",
      "Training stopped after 100 epochs.\n"
     ]
    },
    {
     "name": "stderr",
     "output_type": "stream",
     "text": [
      " 13%|█▎        | 4/30 [00:22<01:50,  4.25s/it]"
     ]
    },
    {
     "name": "stdout",
     "output_type": "stream",
     "text": [
      "(0.2779035347379418, 0.2779035347379418, 1.0, 0.434936639869192)\n",
      "Testing hyperparameters: {'hidden_size': (5,), 'l2_reg': 10}\n",
      "<class 'torch.nn.modules.linear.Linear'>\n",
      "<class 'torch.nn.modules.activation.ReLU'>\n",
      "<class 'torch.nn.modules.dropout.Dropout'>\n",
      "tensor([0, 0])\n",
      "Training stopped after 100 epochs.\n"
     ]
    },
    {
     "name": "stderr",
     "output_type": "stream",
     "text": [
      " 17%|█▋        | 5/30 [00:25<01:34,  3.76s/it]"
     ]
    },
    {
     "name": "stdout",
     "output_type": "stream",
     "text": [
      "(0.26236287654535956, 0.25851740064938034, 0.8854949874686717, 0.40019822307174974)\n",
      "Testing hyperparameters: {'hidden_size': (5,), 'l2_reg': 100}\n",
      "<class 'torch.nn.modules.linear.Linear'>\n",
      "<class 'torch.nn.modules.activation.ReLU'>\n",
      "<class 'torch.nn.modules.dropout.Dropout'>\n",
      "tensor([0, 0])\n",
      "Training stopped after 100 epochs.\n"
     ]
    },
    {
     "name": "stderr",
     "output_type": "stream",
     "text": [
      " 20%|██        | 6/30 [00:28<01:24,  3.51s/it]"
     ]
    },
    {
     "name": "stdout",
     "output_type": "stream",
     "text": [
      "(0.2779035347379418, 0.2779035347379418, 1.0, 0.434936639869192)\n",
      "Testing hyperparameters: {'hidden_size': (64,), 'l2_reg': 0.001}\n",
      "<class 'torch.nn.modules.linear.Linear'>\n",
      "<class 'torch.nn.modules.activation.ReLU'>\n",
      "<class 'torch.nn.modules.dropout.Dropout'>\n",
      "tensor([0, 0])\n",
      "Training stopped after 60 epochs.\n"
     ]
    },
    {
     "name": "stderr",
     "output_type": "stream",
     "text": [
      " 23%|██▎       | 7/30 [00:31<01:17,  3.37s/it]"
     ]
    },
    {
     "name": "stdout",
     "output_type": "stream",
     "text": [
      "(0.6983501654187707, 0.4737424789410349, 0.7708333333333334, 0.586828846555168)\n",
      "Testing hyperparameters: {'hidden_size': (64,), 'l2_reg': 0.01}\n",
      "<class 'torch.nn.modules.linear.Linear'>\n",
      "<class 'torch.nn.modules.activation.ReLU'>\n",
      "<class 'torch.nn.modules.dropout.Dropout'>\n",
      "tensor([0, 0])\n",
      "Training stopped after 100 epochs.\n"
     ]
    },
    {
     "name": "stderr",
     "output_type": "stream",
     "text": [
      " 27%|██▋       | 8/30 [00:34<01:15,  3.45s/it]"
     ]
    },
    {
     "name": "stdout",
     "output_type": "stream",
     "text": [
      "(0.6907104300888037, 0.4660033949453037, 0.7740444862155389, 0.5817635978337651)\n",
      "Testing hyperparameters: {'hidden_size': (64,), 'l2_reg': 0.1}\n",
      "<class 'torch.nn.modules.linear.Linear'>\n",
      "<class 'torch.nn.modules.activation.ReLU'>\n",
      "<class 'torch.nn.modules.dropout.Dropout'>\n",
      "tensor([0, 0])\n",
      "Training stopped after 100 epochs.\n"
     ]
    },
    {
     "name": "stderr",
     "output_type": "stream",
     "text": [
      " 30%|███       | 9/30 [00:38<01:14,  3.53s/it]"
     ]
    },
    {
     "name": "stdout",
     "output_type": "stream",
     "text": [
      "(0.6932352429044054, 0.46822886716503737, 0.7652725563909775, 0.580984659293614)\n",
      "Testing hyperparameters: {'hidden_size': (64,), 'l2_reg': 1}\n",
      "<class 'torch.nn.modules.linear.Linear'>\n",
      "<class 'torch.nn.modules.activation.ReLU'>\n",
      "<class 'torch.nn.modules.dropout.Dropout'>\n",
      "tensor([0, 0])\n",
      "Training stopped after 100 epochs.\n"
     ]
    },
    {
     "name": "stderr",
     "output_type": "stream",
     "text": [
      " 33%|███▎      | 10/30 [00:41<01:09,  3.48s/it]"
     ]
    },
    {
     "name": "stdout",
     "output_type": "stream",
     "text": [
      "(0.2786653317081665, 0.2781154022087172, 1.0, 0.43519607341888644)\n",
      "Testing hyperparameters: {'hidden_size': (64,), 'l2_reg': 10}\n",
      "<class 'torch.nn.modules.linear.Linear'>\n",
      "<class 'torch.nn.modules.activation.ReLU'>\n",
      "<class 'torch.nn.modules.dropout.Dropout'>\n",
      "tensor([0, 0])\n",
      "Training stopped after 100 epochs.\n"
     ]
    },
    {
     "name": "stderr",
     "output_type": "stream",
     "text": [
      " 37%|███▋      | 11/30 [00:45<01:05,  3.47s/it]"
     ]
    },
    {
     "name": "stdout",
     "output_type": "stream",
     "text": [
      "(0.7255789656973707, 0.5048467224039743, 0.6526472431077694, 0.5693106510897041)\n",
      "Testing hyperparameters: {'hidden_size': (64,), 'l2_reg': 100}\n",
      "<class 'torch.nn.modules.linear.Linear'>\n",
      "<class 'torch.nn.modules.activation.ReLU'>\n",
      "<class 'torch.nn.modules.dropout.Dropout'>\n",
      "tensor([0, 0])\n",
      "Training stopped after 100 epochs.\n"
     ]
    },
    {
     "name": "stderr",
     "output_type": "stream",
     "text": [
      " 40%|████      | 12/30 [00:48<01:01,  3.43s/it]"
     ]
    },
    {
     "name": "stdout",
     "output_type": "stream",
     "text": [
      "(0.3649660456207557, 0.22129365402908005, 0.5101817042606517, 0.30869111932518245)\n",
      "Testing hyperparameters: {'hidden_size': (128,), 'l2_reg': 0.001}\n",
      "<class 'torch.nn.modules.linear.Linear'>\n",
      "<class 'torch.nn.modules.activation.ReLU'>\n",
      "<class 'torch.nn.modules.dropout.Dropout'>\n",
      "tensor([0, 0])\n",
      "Training stopped after 31 epochs.\n"
     ]
    },
    {
     "name": "stderr",
     "output_type": "stream",
     "text": [
      " 43%|████▎     | 13/30 [00:51<00:54,  3.22s/it]"
     ]
    },
    {
     "name": "stdout",
     "output_type": "stream",
     "text": [
      "(0.7085582448197806, 0.48422760929100317, 0.7478070175438597, 0.5878224465923784)\n",
      "Testing hyperparameters: {'hidden_size': (128,), 'l2_reg': 0.01}\n",
      "<class 'torch.nn.modules.linear.Linear'>\n",
      "<class 'torch.nn.modules.activation.ReLU'>\n",
      "<class 'torch.nn.modules.dropout.Dropout'>\n",
      "tensor([0, 0])\n",
      "Training stopped after 100 epochs.\n"
     ]
    },
    {
     "name": "stderr",
     "output_type": "stream",
     "text": [
      " 47%|████▋     | 14/30 [00:55<00:56,  3.54s/it]"
     ]
    },
    {
     "name": "stdout",
     "output_type": "stream",
     "text": [
      "(0.7128896047362006, 0.48854713813830075, 0.7066102756892231, 0.5776852889386905)\n",
      "Testing hyperparameters: {'hidden_size': (128,), 'l2_reg': 0.1}\n",
      "<class 'torch.nn.modules.linear.Linear'>\n",
      "<class 'torch.nn.modules.activation.ReLU'>\n",
      "<class 'torch.nn.modules.dropout.Dropout'>\n",
      "tensor([0, 0])\n",
      "Training stopped after 46 epochs.\n"
     ]
    },
    {
     "name": "stderr",
     "output_type": "stream",
     "text": [
      " 50%|█████     | 15/30 [00:58<00:51,  3.44s/it]"
     ]
    },
    {
     "name": "stdout",
     "output_type": "stream",
     "text": [
      "(0.6670511927563991, 0.44279057141564493, 0.7665256892230576, 0.5613260302256889)\n",
      "Testing hyperparameters: {'hidden_size': (128,), 'l2_reg': 1}\n",
      "<class 'torch.nn.modules.linear.Linear'>\n",
      "<class 'torch.nn.modules.activation.ReLU'>\n",
      "<class 'torch.nn.modules.dropout.Dropout'>\n",
      "tensor([0, 0])\n",
      "Training stopped after 100 epochs.\n"
     ]
    },
    {
     "name": "stderr",
     "output_type": "stream",
     "text": [
      " 53%|█████▎    | 16/30 [01:02<00:51,  3.66s/it]"
     ]
    },
    {
     "name": "stdout",
     "output_type": "stream",
     "text": [
      "(0.27792530036566254, 0.2779095836144788, 1.0, 0.4349440479637547)\n",
      "Testing hyperparameters: {'hidden_size': (128,), 'l2_reg': 10}\n",
      "<class 'torch.nn.modules.linear.Linear'>\n",
      "<class 'torch.nn.modules.activation.ReLU'>\n",
      "<class 'torch.nn.modules.dropout.Dropout'>\n",
      "tensor([0, 0])\n",
      "Training stopped after 100 epochs.\n"
     ]
    },
    {
     "name": "stderr",
     "output_type": "stream",
     "text": [
      " 57%|█████▋    | 17/30 [01:07<00:49,  3.83s/it]"
     ]
    },
    {
     "name": "stdout",
     "output_type": "stream",
     "text": [
      "(0.7364835451854431, 0.5262739486445663, 0.518483709273183, 0.5223497849844163)\n",
      "Testing hyperparameters: {'hidden_size': (128,), 'l2_reg': 100}\n",
      "<class 'torch.nn.modules.linear.Linear'>\n",
      "<class 'torch.nn.modules.activation.ReLU'>\n",
      "<class 'torch.nn.modules.dropout.Dropout'>\n",
      "tensor([0, 0])\n",
      "Training stopped after 100 epochs.\n"
     ]
    },
    {
     "name": "stderr",
     "output_type": "stream",
     "text": [
      " 60%|██████    | 18/30 [01:11<00:47,  3.94s/it]"
     ]
    },
    {
     "name": "stdout",
     "output_type": "stream",
     "text": [
      "(0.2599904231238029, 0.20700505092324253, 0.5874060150375939, 0.3061286965040103)\n",
      "Testing hyperparameters: {'hidden_size': (64, 32), 'l2_reg': 0.001}\n",
      "<class 'torch.nn.modules.linear.Linear'>\n",
      "<class 'torch.nn.modules.activation.ReLU'>\n",
      "<class 'torch.nn.modules.dropout.Dropout'>\n",
      "<class 'torch.nn.modules.linear.Linear'>\n",
      "<class 'torch.nn.modules.activation.ReLU'>\n",
      "<class 'torch.nn.modules.dropout.Dropout'>\n",
      "tensor([0, 0])\n",
      "Training stopped after 18 epochs.\n"
     ]
    },
    {
     "name": "stderr",
     "output_type": "stream",
     "text": [
      " 63%|██████▎   | 19/30 [01:14<00:39,  3.55s/it]"
     ]
    },
    {
     "name": "stdout",
     "output_type": "stream",
     "text": [
      "(0.7036392129549016, 0.47890757138593176, 0.7539943609022557, 0.5857620930940067)\n",
      "Testing hyperparameters: {'hidden_size': (64, 32), 'l2_reg': 0.01}\n",
      "<class 'torch.nn.modules.linear.Linear'>\n",
      "<class 'torch.nn.modules.activation.ReLU'>\n",
      "<class 'torch.nn.modules.dropout.Dropout'>\n",
      "<class 'torch.nn.modules.linear.Linear'>\n",
      "<class 'torch.nn.modules.activation.ReLU'>\n",
      "<class 'torch.nn.modules.dropout.Dropout'>\n",
      "tensor([0, 0])\n",
      "Training stopped after 69 epochs.\n"
     ]
    },
    {
     "name": "stderr",
     "output_type": "stream",
     "text": [
      " 67%|██████▋   | 20/30 [01:17<00:35,  3.58s/it]"
     ]
    },
    {
     "name": "stdout",
     "output_type": "stream",
     "text": [
      "(0.6862267107783389, 0.4621844882973841, 0.7887687969924813, 0.5828462295271717)\n",
      "Testing hyperparameters: {'hidden_size': (64, 32), 'l2_reg': 0.1}\n",
      "<class 'torch.nn.modules.linear.Linear'>\n",
      "<class 'torch.nn.modules.activation.ReLU'>\n",
      "<class 'torch.nn.modules.dropout.Dropout'>\n",
      "<class 'torch.nn.modules.linear.Linear'>\n",
      "<class 'torch.nn.modules.activation.ReLU'>\n",
      "<class 'torch.nn.modules.dropout.Dropout'>\n",
      "tensor([0, 0])\n",
      "Training stopped after 100 epochs.\n"
     ]
    },
    {
     "name": "stderr",
     "output_type": "stream",
     "text": [
      " 70%|███████   | 21/30 [01:21<00:33,  3.70s/it]"
     ]
    },
    {
     "name": "stdout",
     "output_type": "stream",
     "text": [
      "(0.656712519589065, 0.4386036625245258, 0.8403822055137845, 0.576385904598195)\n",
      "Testing hyperparameters: {'hidden_size': (64, 32), 'l2_reg': 1}\n",
      "<class 'torch.nn.modules.linear.Linear'>\n",
      "<class 'torch.nn.modules.activation.ReLU'>\n",
      "<class 'torch.nn.modules.dropout.Dropout'>\n",
      "<class 'torch.nn.modules.linear.Linear'>\n",
      "<class 'torch.nn.modules.activation.ReLU'>\n",
      "<class 'torch.nn.modules.dropout.Dropout'>\n",
      "tensor([0, 0])\n",
      "Training stopped after 100 epochs.\n"
     ]
    },
    {
     "name": "stderr",
     "output_type": "stream",
     "text": [
      " 73%|███████▎  | 22/30 [01:25<00:30,  3.79s/it]"
     ]
    },
    {
     "name": "stdout",
     "output_type": "stream",
     "text": [
      "(0.2779035347379418, 0.2779035347379418, 1.0, 0.434936639869192)\n",
      "Testing hyperparameters: {'hidden_size': (64, 32), 'l2_reg': 10}\n",
      "<class 'torch.nn.modules.linear.Linear'>\n",
      "<class 'torch.nn.modules.activation.ReLU'>\n",
      "<class 'torch.nn.modules.dropout.Dropout'>\n",
      "<class 'torch.nn.modules.linear.Linear'>\n",
      "<class 'torch.nn.modules.activation.ReLU'>\n",
      "<class 'torch.nn.modules.dropout.Dropout'>\n",
      "tensor([0, 0])\n",
      "Training stopped after 100 epochs.\n"
     ]
    },
    {
     "name": "stderr",
     "output_type": "stream",
     "text": [
      " 77%|███████▋  | 23/30 [01:29<00:27,  3.87s/it]"
     ]
    },
    {
     "name": "stdout",
     "output_type": "stream",
     "text": [
      "(0.2779035347379418, 0.2779035347379418, 1.0, 0.434936639869192)\n",
      "Testing hyperparameters: {'hidden_size': (64, 32), 'l2_reg': 100}\n",
      "<class 'torch.nn.modules.linear.Linear'>\n",
      "<class 'torch.nn.modules.activation.ReLU'>\n",
      "<class 'torch.nn.modules.dropout.Dropout'>\n",
      "<class 'torch.nn.modules.linear.Linear'>\n",
      "<class 'torch.nn.modules.activation.ReLU'>\n",
      "<class 'torch.nn.modules.dropout.Dropout'>\n",
      "tensor([0, 0])\n",
      "Training stopped after 100 epochs.\n"
     ]
    },
    {
     "name": "stderr",
     "output_type": "stream",
     "text": [
      "/usr/lib/python3.11/site-packages/sklearn/metrics/_classification.py:1471: UndefinedMetricWarning: Precision and F-score are ill-defined and being set to 0.0 due to no predicted samples. Use `zero_division` parameter to control this behavior.\n",
      "  _warn_prf(average, modifier, msg_start, len(result))\n",
      "/tmp/ipykernel_579864/2563740004.py:7: RuntimeWarning: invalid value encountered in scalar divide\n",
      "  return accuracy, precision, recall, 2*precision*recall/(precision+recall)\n",
      " 80%|████████  | 24/30 [01:33<00:23,  3.90s/it]"
     ]
    },
    {
     "name": "stdout",
     "output_type": "stream",
     "text": [
      "(0.7220964652620582, 0.0, 0.0, nan)\n",
      "Testing hyperparameters: {'hidden_size': (64, 32, 16), 'l2_reg': 0.001}\n",
      "<class 'torch.nn.modules.linear.Linear'>\n",
      "<class 'torch.nn.modules.activation.ReLU'>\n",
      "<class 'torch.nn.modules.dropout.Dropout'>\n",
      "<class 'torch.nn.modules.linear.Linear'>\n",
      "<class 'torch.nn.modules.activation.ReLU'>\n",
      "<class 'torch.nn.modules.dropout.Dropout'>\n",
      "<class 'torch.nn.modules.linear.Linear'>\n",
      "<class 'torch.nn.modules.activation.ReLU'>\n",
      "<class 'torch.nn.modules.dropout.Dropout'>\n",
      "tensor([0, 0])\n",
      "Training stopped after 14 epochs.\n"
     ]
    },
    {
     "name": "stderr",
     "output_type": "stream",
     "text": [
      " 83%|████████▎ | 25/30 [01:36<00:17,  3.50s/it]"
     ]
    },
    {
     "name": "stdout",
     "output_type": "stream",
     "text": [
      "(0.6999172906146613, 0.47486805110245156, 0.7539943609022557, 0.5827305468962805)\n",
      "Testing hyperparameters: {'hidden_size': (64, 32, 16), 'l2_reg': 0.01}\n",
      "<class 'torch.nn.modules.linear.Linear'>\n",
      "<class 'torch.nn.modules.activation.ReLU'>\n",
      "<class 'torch.nn.modules.dropout.Dropout'>\n",
      "<class 'torch.nn.modules.linear.Linear'>\n",
      "<class 'torch.nn.modules.activation.ReLU'>\n",
      "<class 'torch.nn.modules.dropout.Dropout'>\n",
      "<class 'torch.nn.modules.linear.Linear'>\n",
      "<class 'torch.nn.modules.activation.ReLU'>\n",
      "<class 'torch.nn.modules.dropout.Dropout'>\n",
      "tensor([0, 0])\n",
      "Training stopped after 94 epochs.\n"
     ]
    },
    {
     "name": "stderr",
     "output_type": "stream",
     "text": [
      " 87%|████████▋ | 26/30 [01:40<00:14,  3.66s/it]"
     ]
    },
    {
     "name": "stdout",
     "output_type": "stream",
     "text": [
      "(0.7069258227407278, 0.48233385715009885, 0.7452224310776943, 0.5856285582397293)\n",
      "Testing hyperparameters: {'hidden_size': (64, 32, 16), 'l2_reg': 0.1}\n",
      "<class 'torch.nn.modules.linear.Linear'>\n",
      "<class 'torch.nn.modules.activation.ReLU'>\n",
      "<class 'torch.nn.modules.dropout.Dropout'>\n",
      "<class 'torch.nn.modules.linear.Linear'>\n",
      "<class 'torch.nn.modules.activation.ReLU'>\n",
      "<class 'torch.nn.modules.dropout.Dropout'>\n",
      "<class 'torch.nn.modules.linear.Linear'>\n",
      "<class 'torch.nn.modules.activation.ReLU'>\n",
      "<class 'torch.nn.modules.dropout.Dropout'>\n",
      "tensor([0, 0])\n",
      "Training stopped after 100 epochs.\n"
     ]
    },
    {
     "name": "stderr",
     "output_type": "stream",
     "text": [
      " 90%|█████████ | 27/30 [01:44<00:11,  3.80s/it]"
     ]
    },
    {
     "name": "stdout",
     "output_type": "stream",
     "text": [
      "(0.5298189099773637, 0.3661028252697951, 0.9458803258145363, 0.527887053064079)\n",
      "Testing hyperparameters: {'hidden_size': (64, 32, 16), 'l2_reg': 1}\n",
      "<class 'torch.nn.modules.linear.Linear'>\n",
      "<class 'torch.nn.modules.activation.ReLU'>\n",
      "<class 'torch.nn.modules.dropout.Dropout'>\n",
      "<class 'torch.nn.modules.linear.Linear'>\n",
      "<class 'torch.nn.modules.activation.ReLU'>\n",
      "<class 'torch.nn.modules.dropout.Dropout'>\n",
      "<class 'torch.nn.modules.linear.Linear'>\n",
      "<class 'torch.nn.modules.activation.ReLU'>\n",
      "<class 'torch.nn.modules.dropout.Dropout'>\n",
      "tensor([0, 0])\n",
      "Training stopped after 100 epochs.\n"
     ]
    },
    {
     "name": "stderr",
     "output_type": "stream",
     "text": [
      " 93%|█████████▎| 28/30 [01:48<00:07,  3.94s/it]"
     ]
    },
    {
     "name": "stdout",
     "output_type": "stream",
     "text": [
      "(0.2779035347379418, 0.2779035347379418, 1.0, 0.434936639869192)\n",
      "Testing hyperparameters: {'hidden_size': (64, 32, 16), 'l2_reg': 10}\n",
      "<class 'torch.nn.modules.linear.Linear'>\n",
      "<class 'torch.nn.modules.activation.ReLU'>\n",
      "<class 'torch.nn.modules.dropout.Dropout'>\n",
      "<class 'torch.nn.modules.linear.Linear'>\n",
      "<class 'torch.nn.modules.activation.ReLU'>\n",
      "<class 'torch.nn.modules.dropout.Dropout'>\n",
      "<class 'torch.nn.modules.linear.Linear'>\n",
      "<class 'torch.nn.modules.activation.ReLU'>\n",
      "<class 'torch.nn.modules.dropout.Dropout'>\n",
      "tensor([0, 0])\n",
      "Training stopped after 100 epochs.\n"
     ]
    },
    {
     "name": "stderr",
     "output_type": "stream",
     "text": [
      "/usr/lib/python3.11/site-packages/sklearn/metrics/_classification.py:1471: UndefinedMetricWarning: Precision and F-score are ill-defined and being set to 0.0 due to no predicted samples. Use `zero_division` parameter to control this behavior.\n",
      "  _warn_prf(average, modifier, msg_start, len(result))\n",
      "/tmp/ipykernel_579864/2563740004.py:7: RuntimeWarning: invalid value encountered in scalar divide\n",
      "  return accuracy, precision, recall, 2*precision*recall/(precision+recall)\n",
      " 97%|█████████▋| 29/30 [01:52<00:04,  4.02s/it]"
     ]
    },
    {
     "name": "stdout",
     "output_type": "stream",
     "text": [
      "(0.7220964652620582, 0.0, 0.0, nan)\n",
      "Testing hyperparameters: {'hidden_size': (64, 32, 16), 'l2_reg': 100}\n",
      "<class 'torch.nn.modules.linear.Linear'>\n",
      "<class 'torch.nn.modules.activation.ReLU'>\n",
      "<class 'torch.nn.modules.dropout.Dropout'>\n",
      "<class 'torch.nn.modules.linear.Linear'>\n",
      "<class 'torch.nn.modules.activation.ReLU'>\n",
      "<class 'torch.nn.modules.dropout.Dropout'>\n",
      "<class 'torch.nn.modules.linear.Linear'>\n",
      "<class 'torch.nn.modules.activation.ReLU'>\n",
      "<class 'torch.nn.modules.dropout.Dropout'>\n",
      "tensor([0, 0])\n",
      "Training stopped after 100 epochs.\n"
     ]
    },
    {
     "name": "stderr",
     "output_type": "stream",
     "text": [
      "100%|██████████| 30/30 [01:57<00:00,  3.90s/it]"
     ]
    },
    {
     "name": "stdout",
     "output_type": "stream",
     "text": [
      "(0.2779035347379418, 0.2779035347379418, 1.0, 0.434936639869192)\n"
     ]
    },
    {
     "name": "stderr",
     "output_type": "stream",
     "text": [
      "\n"
     ]
    }
   ],
   "source": [
    "X_train = [get_features(d, BoW=True, tfidf=False, w2v=False) for d in data_train]\n",
    "X_val = [get_features(d, BoW=True, tfidf=False, w2v=False) for d in data_val]\n",
    "X_test = [get_features(d, BoW=True, tfidf=False, w2v=False) for d in data_test]\n",
    "\n",
    "# Generate all possible combinations of hyperparameters\n",
    "grid = ParameterGrid(param_grid)\n",
    "\n",
    "scores_bow_hand = []\n",
    "\n",
    "# Iterate over the hyperparameter combinations\n",
    "bar = tqdm(grid)\n",
    "X_train = torch.tensor(X_train).to('cuda')\n",
    "y_train = torch.tensor(y_train).to('cuda')\n",
    "for params in bar:\n",
    "    print(\"Testing hyperparameters:\", params)\n",
    "\n",
    "    # Create the model with the current hyperparameters\n",
    "    model = MLPClassifier(input_size=len(X_train[0]), output_size=2, **params)\n",
    "\n",
    "    # Train the model\n",
    "    model.fit(X_train, y_train, X_val, y_val, epochs=100, use_gpu=True)\n",
    "    metrics = test_metrics(model, X_test, y_test)\n",
    "    print(metrics)\n",
    "    scores_bow_hand.append({'params':params, 'scores':metrics})\n",
    "    bar.set_postfix()\n",
    "\n",
    "with open('mlp_bow_hand.json', 'w') as f:\n",
    "    json.dump(scores_bow_hand, f)"
   ]
  },
  {
   "cell_type": "code",
   "execution_count": null,
   "id": "c019fdb9",
   "metadata": {},
   "outputs": [
    {
     "name": "stderr",
     "output_type": "stream",
     "text": [
      "  0%|          | 0/30 [00:00<?, ?it/s]/tmp/ipykernel_579864/940750581.py:13: UserWarning: To copy construct from a tensor, it is recommended to use sourceTensor.clone().detach() or sourceTensor.clone().detach().requires_grad_(True), rather than torch.tensor(sourceTensor).\n",
      "  y_train = torch.tensor(y_train).to('cuda')\n"
     ]
    },
    {
     "name": "stdout",
     "output_type": "stream",
     "text": [
      "Testing hyperparameters: {'hidden_size': (5,), 'l2_reg': 0.001}\n",
      "<class 'torch.nn.modules.linear.Linear'>\n",
      "<class 'torch.nn.modules.activation.ReLU'>\n",
      "<class 'torch.nn.modules.dropout.Dropout'>\n",
      "tensor([0, 0])\n",
      "Training stopped after 17 epochs.\n"
     ]
    },
    {
     "name": "stderr",
     "output_type": "stream",
     "text": [
      "/usr/lib/python3.11/site-packages/sklearn/metrics/_classification.py:1471: UndefinedMetricWarning: Precision and F-score are ill-defined and being set to 0.0 due to no predicted samples. Use `zero_division` parameter to control this behavior.\n",
      "  _warn_prf(average, modifier, msg_start, len(result))\n",
      "/tmp/ipykernel_579864/2563740004.py:7: RuntimeWarning: invalid value encountered in scalar divide\n",
      "  return accuracy, precision, recall, 2*precision*recall/(precision+recall)\n",
      "  3%|▎         | 1/30 [00:29<14:06, 29.19s/it]"
     ]
    },
    {
     "name": "stdout",
     "output_type": "stream",
     "text": [
      "(0.7220964652620582, 0.0, 0.0, nan)\n",
      "Testing hyperparameters: {'hidden_size': (5,), 'l2_reg': 0.01}\n",
      "<class 'torch.nn.modules.linear.Linear'>\n",
      "<class 'torch.nn.modules.activation.ReLU'>\n",
      "<class 'torch.nn.modules.dropout.Dropout'>\n",
      "tensor([0, 0])\n",
      "Training stopped after 61 epochs.\n"
     ]
    },
    {
     "name": "stderr",
     "output_type": "stream",
     "text": [
      "  7%|▋         | 2/30 [00:33<06:55, 14.84s/it]"
     ]
    },
    {
     "name": "stdout",
     "output_type": "stream",
     "text": [
      "(0.5630332578791573, 0.31461187214611874, 0.4856672932330827, 0.38185848882320345)\n",
      "Testing hyperparameters: {'hidden_size': (5,), 'l2_reg': 0.1}\n",
      "<class 'torch.nn.modules.linear.Linear'>\n",
      "<class 'torch.nn.modules.activation.ReLU'>\n",
      "<class 'torch.nn.modules.dropout.Dropout'>\n",
      "tensor([0, 0])\n",
      "Training stopped after 29 epochs.\n"
     ]
    },
    {
     "name": "stderr",
     "output_type": "stream",
     "text": [
      "/usr/lib/python3.11/site-packages/sklearn/metrics/_classification.py:1471: UndefinedMetricWarning: Precision and F-score are ill-defined and being set to 0.0 due to no predicted samples. Use `zero_division` parameter to control this behavior.\n",
      "  _warn_prf(average, modifier, msg_start, len(result))\n",
      "/tmp/ipykernel_579864/2563740004.py:7: RuntimeWarning: invalid value encountered in scalar divide\n",
      "  return accuracy, precision, recall, 2*precision*recall/(precision+recall)\n",
      " 10%|█         | 3/30 [00:38<04:28,  9.95s/it]"
     ]
    },
    {
     "name": "stdout",
     "output_type": "stream",
     "text": [
      "(0.7220964652620582, 0.0, 0.0, nan)\n",
      "Testing hyperparameters: {'hidden_size': (5,), 'l2_reg': 1}\n",
      "<class 'torch.nn.modules.linear.Linear'>\n",
      "<class 'torch.nn.modules.activation.ReLU'>\n",
      "<class 'torch.nn.modules.dropout.Dropout'>\n",
      "tensor([0, 0])\n",
      "Training stopped after 100 epochs.\n"
     ]
    },
    {
     "name": "stderr",
     "output_type": "stream",
     "text": [
      " 13%|█▎        | 4/30 [00:43<03:27,  7.96s/it]"
     ]
    },
    {
     "name": "stdout",
     "output_type": "stream",
     "text": [
      "(0.2779035347379418, 0.2779035347379418, 1.0, 0.434936639869192)\n",
      "Testing hyperparameters: {'hidden_size': (5,), 'l2_reg': 10}\n",
      "<class 'torch.nn.modules.linear.Linear'>\n",
      "<class 'torch.nn.modules.activation.ReLU'>\n",
      "<class 'torch.nn.modules.dropout.Dropout'>\n",
      "tensor([0, 0])\n",
      "Training stopped after 100 epochs.\n"
     ]
    },
    {
     "name": "stderr",
     "output_type": "stream",
     "text": [
      " 17%|█▋        | 5/30 [00:48<02:54,  6.96s/it]"
     ]
    },
    {
     "name": "stdout",
     "output_type": "stream",
     "text": [
      "(0.72401184050148, 0.782051282051282, 0.009555137844611528, 0.01887960383782111)\n",
      "Testing hyperparameters: {'hidden_size': (5,), 'l2_reg': 100}\n",
      "<class 'torch.nn.modules.linear.Linear'>\n",
      "<class 'torch.nn.modules.activation.ReLU'>\n",
      "<class 'torch.nn.modules.dropout.Dropout'>\n",
      "tensor([0, 0])\n",
      "Training stopped after 100 epochs.\n"
     ]
    },
    {
     "name": "stderr",
     "output_type": "stream",
     "text": [
      " 20%|██        | 6/30 [00:53<02:31,  6.30s/it]"
     ]
    },
    {
     "name": "stdout",
     "output_type": "stream",
     "text": [
      "(0.7221182308897789, 1.0, 7.832080200501253e-05, 0.00015662933667475918)\n",
      "Testing hyperparameters: {'hidden_size': (64,), 'l2_reg': 0.001}\n",
      "<class 'torch.nn.modules.linear.Linear'>\n",
      "<class 'torch.nn.modules.activation.ReLU'>\n",
      "<class 'torch.nn.modules.dropout.Dropout'>\n",
      "tensor([0, 0])\n",
      "Training stopped after 31 epochs.\n"
     ]
    },
    {
     "name": "stderr",
     "output_type": "stream",
     "text": [
      " 23%|██▎       | 7/30 [00:57<02:10,  5.69s/it]"
     ]
    },
    {
     "name": "stdout",
     "output_type": "stream",
     "text": [
      "(0.687097335887167, 0.46312603192074847, 0.7908834586466166, 0.5841721624435959)\n",
      "Testing hyperparameters: {'hidden_size': (64,), 'l2_reg': 0.01}\n",
      "<class 'torch.nn.modules.linear.Linear'>\n",
      "<class 'torch.nn.modules.activation.ReLU'>\n",
      "<class 'torch.nn.modules.dropout.Dropout'>\n",
      "tensor([0, 0])\n",
      "Training stopped after 100 epochs.\n"
     ]
    },
    {
     "name": "stderr",
     "output_type": "stream",
     "text": [
      " 27%|██▋       | 8/30 [01:03<02:04,  5.64s/it]"
     ]
    },
    {
     "name": "stdout",
     "output_type": "stream",
     "text": [
      "(0.6870102733762842, 0.46252557188023063, 0.7791353383458647, 0.5804644649317307)\n",
      "Testing hyperparameters: {'hidden_size': (64,), 'l2_reg': 0.1}\n",
      "<class 'torch.nn.modules.linear.Linear'>\n",
      "<class 'torch.nn.modules.activation.ReLU'>\n",
      "<class 'torch.nn.modules.dropout.Dropout'>\n",
      "tensor([0, 0])\n",
      "Training stopped after 100 epochs.\n"
     ]
    },
    {
     "name": "stderr",
     "output_type": "stream",
     "text": [
      " 30%|███       | 9/30 [01:08<01:57,  5.61s/it]"
     ]
    },
    {
     "name": "stdout",
     "output_type": "stream",
     "text": [
      "(0.6993296186662024, 0.4743426216640502, 0.7572838345864662, 0.5833132239382239)\n",
      "Testing hyperparameters: {'hidden_size': (64,), 'l2_reg': 1}\n",
      "<class 'torch.nn.modules.linear.Linear'>\n",
      "<class 'torch.nn.modules.activation.ReLU'>\n",
      "<class 'torch.nn.modules.dropout.Dropout'>\n",
      "tensor([0, 0])\n",
      "Training stopped after 100 epochs.\n"
     ]
    },
    {
     "name": "stderr",
     "output_type": "stream",
     "text": [
      " 33%|███▎      | 10/30 [01:14<01:51,  5.58s/it]"
     ]
    },
    {
     "name": "stdout",
     "output_type": "stream",
     "text": [
      "(0.277968831621104, 0.2779216821575499, 1.0, 0.43495886490997976)\n",
      "Testing hyperparameters: {'hidden_size': (64,), 'l2_reg': 10}\n",
      "<class 'torch.nn.modules.linear.Linear'>\n",
      "<class 'torch.nn.modules.activation.ReLU'>\n",
      "<class 'torch.nn.modules.dropout.Dropout'>\n",
      "tensor([0, 0])\n",
      "Training stopped after 100 epochs.\n"
     ]
    },
    {
     "name": "stderr",
     "output_type": "stream",
     "text": [
      " 37%|███▋      | 11/30 [01:19<01:45,  5.55s/it]"
     ]
    },
    {
     "name": "stdout",
     "output_type": "stream",
     "text": [
      "(0.5527381159672645, 0.36910809810584394, 0.8592575187969925, 0.516391706479019)\n",
      "Testing hyperparameters: {'hidden_size': (64,), 'l2_reg': 100}\n",
      "<class 'torch.nn.modules.linear.Linear'>\n",
      "<class 'torch.nn.modules.activation.ReLU'>\n",
      "<class 'torch.nn.modules.dropout.Dropout'>\n",
      "tensor([0, 0])\n",
      "Training stopped after 45 epochs.\n"
     ]
    },
    {
     "name": "stderr",
     "output_type": "stream",
     "text": [
      " 40%|████      | 12/30 [01:24<01:34,  5.27s/it]"
     ]
    },
    {
     "name": "stdout",
     "output_type": "stream",
     "text": [
      "(0.38925648615706077, 0.28982957669048925, 0.8258145363408521, 0.4290713762513226)\n",
      "Testing hyperparameters: {'hidden_size': (128,), 'l2_reg': 0.001}\n",
      "<class 'torch.nn.modules.linear.Linear'>\n",
      "<class 'torch.nn.modules.activation.ReLU'>\n",
      "<class 'torch.nn.modules.dropout.Dropout'>\n",
      "tensor([0, 0])\n",
      "Training stopped after 40 epochs.\n"
     ]
    },
    {
     "name": "stderr",
     "output_type": "stream",
     "text": [
      " 43%|████▎     | 13/30 [01:29<01:27,  5.14s/it]"
     ]
    },
    {
     "name": "stdout",
     "output_type": "stream",
     "text": [
      "(0.6916463520807941, 0.46713648108996947, 0.7787437343358395, 0.5839720435791266)\n",
      "Testing hyperparameters: {'hidden_size': (128,), 'l2_reg': 0.01}\n",
      "<class 'torch.nn.modules.linear.Linear'>\n",
      "<class 'torch.nn.modules.activation.ReLU'>\n",
      "<class 'torch.nn.modules.dropout.Dropout'>\n",
      "tensor([0, 0])\n",
      "Training stopped after 71 epochs.\n"
     ]
    },
    {
     "name": "stderr",
     "output_type": "stream",
     "text": [
      " 47%|████▋     | 14/30 [01:34<01:24,  5.29s/it]"
     ]
    },
    {
     "name": "stdout",
     "output_type": "stream",
     "text": [
      "(0.6808941319867665, 0.45749315130013024, 0.7978540100250626, 0.5815327529613245)\n",
      "Testing hyperparameters: {'hidden_size': (128,), 'l2_reg': 0.1}\n",
      "<class 'torch.nn.modules.linear.Linear'>\n",
      "<class 'torch.nn.modules.activation.ReLU'>\n",
      "<class 'torch.nn.modules.dropout.Dropout'>\n",
      "tensor([0, 0])\n",
      "Training stopped after 82 epochs.\n"
     ]
    },
    {
     "name": "stderr",
     "output_type": "stream",
     "text": [
      " 50%|█████     | 15/30 [01:40<01:21,  5.45s/it]"
     ]
    },
    {
     "name": "stdout",
     "output_type": "stream",
     "text": [
      "(0.6376675953334494, 0.4244537062283333, 0.8534617794486216, 0.5669467495642674)\n",
      "Testing hyperparameters: {'hidden_size': (128,), 'l2_reg': 1}\n",
      "<class 'torch.nn.modules.linear.Linear'>\n",
      "<class 'torch.nn.modules.activation.ReLU'>\n",
      "<class 'torch.nn.modules.dropout.Dropout'>\n",
      "tensor([0, 0])\n",
      "Training stopped after 100 epochs.\n"
     ]
    },
    {
     "name": "stderr",
     "output_type": "stream",
     "text": [
      " 53%|█████▎    | 16/30 [01:46<01:19,  5.71s/it]"
     ]
    },
    {
     "name": "stdout",
     "output_type": "stream",
     "text": [
      "(0.2781429566428696, 0.27797008686565217, 1.0, 0.4350181427914345)\n",
      "Testing hyperparameters: {'hidden_size': (128,), 'l2_reg': 10}\n",
      "<class 'torch.nn.modules.linear.Linear'>\n",
      "<class 'torch.nn.modules.activation.ReLU'>\n",
      "<class 'torch.nn.modules.dropout.Dropout'>\n",
      "tensor([0, 0])\n",
      "Training stopped after 100 epochs.\n"
     ]
    },
    {
     "name": "stderr",
     "output_type": "stream",
     "text": [
      " 57%|█████▋    | 17/30 [01:53<01:15,  5.82s/it]"
     ]
    },
    {
     "name": "stdout",
     "output_type": "stream",
     "text": [
      "(0.6197544837193104, 0.24589277993947253, 0.17817982456140352, 0.206630336058129)\n",
      "Testing hyperparameters: {'hidden_size': (128,), 'l2_reg': 100}\n",
      "<class 'torch.nn.modules.linear.Linear'>\n",
      "<class 'torch.nn.modules.activation.ReLU'>\n",
      "<class 'torch.nn.modules.dropout.Dropout'>\n",
      "tensor([0, 0])\n",
      "Training stopped after 100 epochs.\n"
     ]
    },
    {
     "name": "stderr",
     "output_type": "stream",
     "text": [
      " 60%|██████    | 18/30 [01:59<01:11,  5.93s/it]"
     ]
    },
    {
     "name": "stdout",
     "output_type": "stream",
     "text": [
      "(0.39173776771722096, 0.30803865027571203, 0.9537907268170426, 0.4656800887155366)\n",
      "Testing hyperparameters: {'hidden_size': (64, 32), 'l2_reg': 0.001}\n",
      "<class 'torch.nn.modules.linear.Linear'>\n",
      "<class 'torch.nn.modules.activation.ReLU'>\n",
      "<class 'torch.nn.modules.dropout.Dropout'>\n",
      "<class 'torch.nn.modules.linear.Linear'>\n",
      "<class 'torch.nn.modules.activation.ReLU'>\n",
      "<class 'torch.nn.modules.dropout.Dropout'>\n",
      "tensor([0, 0])\n",
      "Training stopped after 16 epochs.\n"
     ]
    },
    {
     "name": "stderr",
     "output_type": "stream",
     "text": [
      " 63%|██████▎   | 19/30 [02:03<00:58,  5.36s/it]"
     ]
    },
    {
     "name": "stdout",
     "output_type": "stream",
     "text": [
      "(0.6914722270590283, 0.46683950035352345, 0.7756892230576441, 0.5828796751316835)\n",
      "Testing hyperparameters: {'hidden_size': (64, 32), 'l2_reg': 0.01}\n",
      "<class 'torch.nn.modules.linear.Linear'>\n",
      "<class 'torch.nn.modules.activation.ReLU'>\n",
      "<class 'torch.nn.modules.dropout.Dropout'>\n",
      "<class 'torch.nn.modules.linear.Linear'>\n",
      "<class 'torch.nn.modules.activation.ReLU'>\n",
      "<class 'torch.nn.modules.dropout.Dropout'>\n",
      "tensor([0, 0])\n",
      "Training stopped after 100 epochs.\n"
     ]
    },
    {
     "name": "stderr",
     "output_type": "stream",
     "text": [
      " 67%|██████▋   | 20/30 [02:08<00:54,  5.45s/it]"
     ]
    },
    {
     "name": "stdout",
     "output_type": "stream",
     "text": [
      "(0.7122584015323002, 0.4883457095709571, 0.7416979949874687, 0.5889303482587065)\n",
      "Testing hyperparameters: {'hidden_size': (64, 32), 'l2_reg': 0.1}\n",
      "<class 'torch.nn.modules.linear.Linear'>\n",
      "<class 'torch.nn.modules.activation.ReLU'>\n",
      "<class 'torch.nn.modules.dropout.Dropout'>\n",
      "<class 'torch.nn.modules.linear.Linear'>\n",
      "<class 'torch.nn.modules.activation.ReLU'>\n",
      "<class 'torch.nn.modules.dropout.Dropout'>\n",
      "tensor([0, 0])\n",
      "Training stopped after 56 epochs.\n"
     ]
    },
    {
     "name": "stderr",
     "output_type": "stream",
     "text": [
      " 70%|███████   | 21/30 [02:13<00:47,  5.27s/it]"
     ]
    },
    {
     "name": "stdout",
     "output_type": "stream",
     "text": [
      "(0.6826353822044228, 0.4581428637392067, 0.7770989974937343, 0.5764415395787945)\n",
      "Testing hyperparameters: {'hidden_size': (64, 32), 'l2_reg': 1}\n",
      "<class 'torch.nn.modules.linear.Linear'>\n",
      "<class 'torch.nn.modules.activation.ReLU'>\n",
      "<class 'torch.nn.modules.dropout.Dropout'>\n",
      "<class 'torch.nn.modules.linear.Linear'>\n",
      "<class 'torch.nn.modules.activation.ReLU'>\n",
      "<class 'torch.nn.modules.dropout.Dropout'>\n",
      "tensor([0, 0])\n",
      "Training stopped after 100 epochs.\n"
     ]
    },
    {
     "name": "stderr",
     "output_type": "stream",
     "text": [
      "/usr/lib/python3.11/site-packages/sklearn/metrics/_classification.py:1471: UndefinedMetricWarning: Precision and F-score are ill-defined and being set to 0.0 due to no predicted samples. Use `zero_division` parameter to control this behavior.\n",
      "  _warn_prf(average, modifier, msg_start, len(result))\n",
      "/tmp/ipykernel_579864/2563740004.py:7: RuntimeWarning: invalid value encountered in scalar divide\n",
      "  return accuracy, precision, recall, 2*precision*recall/(precision+recall)\n",
      " 73%|███████▎  | 22/30 [02:19<00:43,  5.40s/it]"
     ]
    },
    {
     "name": "stdout",
     "output_type": "stream",
     "text": [
      "(0.7220964652620582, 0.0, 0.0, nan)\n",
      "Testing hyperparameters: {'hidden_size': (64, 32), 'l2_reg': 10}\n",
      "<class 'torch.nn.modules.linear.Linear'>\n",
      "<class 'torch.nn.modules.activation.ReLU'>\n",
      "<class 'torch.nn.modules.dropout.Dropout'>\n",
      "<class 'torch.nn.modules.linear.Linear'>\n",
      "<class 'torch.nn.modules.activation.ReLU'>\n",
      "<class 'torch.nn.modules.dropout.Dropout'>\n",
      "tensor([0, 0])\n",
      "Training stopped after 100 epochs.\n"
     ]
    },
    {
     "name": "stderr",
     "output_type": "stream",
     "text": [
      "/usr/lib/python3.11/site-packages/sklearn/metrics/_classification.py:1471: UndefinedMetricWarning: Precision and F-score are ill-defined and being set to 0.0 due to no predicted samples. Use `zero_division` parameter to control this behavior.\n",
      "  _warn_prf(average, modifier, msg_start, len(result))\n",
      "/tmp/ipykernel_579864/2563740004.py:7: RuntimeWarning: invalid value encountered in scalar divide\n",
      "  return accuracy, precision, recall, 2*precision*recall/(precision+recall)\n",
      " 77%|███████▋  | 23/30 [02:25<00:38,  5.48s/it]"
     ]
    },
    {
     "name": "stdout",
     "output_type": "stream",
     "text": [
      "(0.7220964652620582, 0.0, 0.0, nan)\n",
      "Testing hyperparameters: {'hidden_size': (64, 32), 'l2_reg': 100}\n",
      "<class 'torch.nn.modules.linear.Linear'>\n",
      "<class 'torch.nn.modules.activation.ReLU'>\n",
      "<class 'torch.nn.modules.dropout.Dropout'>\n",
      "<class 'torch.nn.modules.linear.Linear'>\n",
      "<class 'torch.nn.modules.activation.ReLU'>\n",
      "<class 'torch.nn.modules.dropout.Dropout'>\n",
      "tensor([0, 0])\n",
      "Training stopped after 100 epochs.\n"
     ]
    },
    {
     "name": "stderr",
     "output_type": "stream",
     "text": [
      " 80%|████████  | 24/30 [02:30<00:33,  5.55s/it]"
     ]
    },
    {
     "name": "stdout",
     "output_type": "stream",
     "text": [
      "(0.2721791746473968, 0.2471313581092653, 0.7911184210526315, 0.37661490277959025)\n",
      "Testing hyperparameters: {'hidden_size': (64, 32, 16), 'l2_reg': 0.001}\n",
      "<class 'torch.nn.modules.linear.Linear'>\n",
      "<class 'torch.nn.modules.activation.ReLU'>\n",
      "<class 'torch.nn.modules.dropout.Dropout'>\n",
      "<class 'torch.nn.modules.linear.Linear'>\n",
      "<class 'torch.nn.modules.activation.ReLU'>\n",
      "<class 'torch.nn.modules.dropout.Dropout'>\n",
      "<class 'torch.nn.modules.linear.Linear'>\n",
      "<class 'torch.nn.modules.activation.ReLU'>\n",
      "<class 'torch.nn.modules.dropout.Dropout'>\n",
      "tensor([0, 0])\n",
      "Training stopped after 100 epochs.\n"
     ]
    },
    {
     "name": "stderr",
     "output_type": "stream",
     "text": [
      " 83%|████████▎ | 25/30 [02:36<00:28,  5.67s/it]"
     ]
    },
    {
     "name": "stdout",
     "output_type": "stream",
     "text": [
      "(0.6612180045272505, 0.44265387296510433, 0.8454730576441103, 0.5810792625487821)\n",
      "Testing hyperparameters: {'hidden_size': (64, 32, 16), 'l2_reg': 0.01}\n",
      "<class 'torch.nn.modules.linear.Linear'>\n",
      "<class 'torch.nn.modules.activation.ReLU'>\n",
      "<class 'torch.nn.modules.dropout.Dropout'>\n",
      "<class 'torch.nn.modules.linear.Linear'>\n",
      "<class 'torch.nn.modules.activation.ReLU'>\n",
      "<class 'torch.nn.modules.dropout.Dropout'>\n",
      "<class 'torch.nn.modules.linear.Linear'>\n",
      "<class 'torch.nn.modules.activation.ReLU'>\n",
      "<class 'torch.nn.modules.dropout.Dropout'>\n",
      "tensor([0, 0])\n",
      "Training stopped after 100 epochs.\n"
     ]
    },
    {
     "name": "stderr",
     "output_type": "stream",
     "text": [
      " 87%|████████▋ | 26/30 [02:43<00:23,  5.84s/it]"
     ]
    },
    {
     "name": "stdout",
     "output_type": "stream",
     "text": [
      "(0.6902968831621104, 0.46619151200999676, 0.7889254385964912, 0.5860654545454547)\n",
      "Testing hyperparameters: {'hidden_size': (64, 32, 16), 'l2_reg': 0.1}\n",
      "<class 'torch.nn.modules.linear.Linear'>\n",
      "<class 'torch.nn.modules.activation.ReLU'>\n",
      "<class 'torch.nn.modules.dropout.Dropout'>\n",
      "<class 'torch.nn.modules.linear.Linear'>\n",
      "<class 'torch.nn.modules.activation.ReLU'>\n",
      "<class 'torch.nn.modules.dropout.Dropout'>\n",
      "<class 'torch.nn.modules.linear.Linear'>\n",
      "<class 'torch.nn.modules.activation.ReLU'>\n",
      "<class 'torch.nn.modules.dropout.Dropout'>\n",
      "tensor([0, 0])\n",
      "Training stopped after 100 epochs.\n"
     ]
    },
    {
     "name": "stderr",
     "output_type": "stream",
     "text": [
      " 90%|█████████ | 27/30 [02:49<00:17,  5.96s/it]"
     ]
    },
    {
     "name": "stdout",
     "output_type": "stream",
     "text": [
      "(0.533976144872018, 0.36821078954591197, 0.9456453634085213, 0.5300379727386466)\n",
      "Testing hyperparameters: {'hidden_size': (64, 32, 16), 'l2_reg': 1}\n",
      "<class 'torch.nn.modules.linear.Linear'>\n",
      "<class 'torch.nn.modules.activation.ReLU'>\n",
      "<class 'torch.nn.modules.dropout.Dropout'>\n",
      "<class 'torch.nn.modules.linear.Linear'>\n",
      "<class 'torch.nn.modules.activation.ReLU'>\n",
      "<class 'torch.nn.modules.dropout.Dropout'>\n",
      "<class 'torch.nn.modules.linear.Linear'>\n",
      "<class 'torch.nn.modules.activation.ReLU'>\n",
      "<class 'torch.nn.modules.dropout.Dropout'>\n",
      "tensor([0, 0])\n",
      "Training stopped after 100 epochs.\n"
     ]
    },
    {
     "name": "stderr",
     "output_type": "stream",
     "text": [
      " 93%|█████████▎| 28/30 [02:55<00:12,  6.07s/it]"
     ]
    },
    {
     "name": "stdout",
     "output_type": "stream",
     "text": [
      "(0.2779035347379418, 0.2779035347379418, 1.0, 0.434936639869192)\n",
      "Testing hyperparameters: {'hidden_size': (64, 32, 16), 'l2_reg': 10}\n",
      "<class 'torch.nn.modules.linear.Linear'>\n",
      "<class 'torch.nn.modules.activation.ReLU'>\n",
      "<class 'torch.nn.modules.dropout.Dropout'>\n",
      "<class 'torch.nn.modules.linear.Linear'>\n",
      "<class 'torch.nn.modules.activation.ReLU'>\n",
      "<class 'torch.nn.modules.dropout.Dropout'>\n",
      "<class 'torch.nn.modules.linear.Linear'>\n",
      "<class 'torch.nn.modules.activation.ReLU'>\n",
      "<class 'torch.nn.modules.dropout.Dropout'>\n",
      "tensor([0, 0])\n",
      "Training stopped after 100 epochs.\n"
     ]
    },
    {
     "name": "stderr",
     "output_type": "stream",
     "text": [
      " 97%|█████████▋| 29/30 [03:01<00:06,  6.11s/it]"
     ]
    },
    {
     "name": "stdout",
     "output_type": "stream",
     "text": [
      "(0.2779035347379418, 0.2779035347379418, 1.0, 0.434936639869192)\n",
      "Testing hyperparameters: {'hidden_size': (64, 32, 16), 'l2_reg': 100}\n",
      "<class 'torch.nn.modules.linear.Linear'>\n",
      "<class 'torch.nn.modules.activation.ReLU'>\n",
      "<class 'torch.nn.modules.dropout.Dropout'>\n",
      "<class 'torch.nn.modules.linear.Linear'>\n",
      "<class 'torch.nn.modules.activation.ReLU'>\n",
      "<class 'torch.nn.modules.dropout.Dropout'>\n",
      "<class 'torch.nn.modules.linear.Linear'>\n",
      "<class 'torch.nn.modules.activation.ReLU'>\n",
      "<class 'torch.nn.modules.dropout.Dropout'>\n",
      "tensor([0, 0])\n",
      "Training stopped after 100 epochs.\n"
     ]
    },
    {
     "name": "stderr",
     "output_type": "stream",
     "text": [
      "/usr/lib/python3.11/site-packages/sklearn/metrics/_classification.py:1471: UndefinedMetricWarning: Precision and F-score are ill-defined and being set to 0.0 due to no predicted samples. Use `zero_division` parameter to control this behavior.\n",
      "  _warn_prf(average, modifier, msg_start, len(result))\n",
      "/tmp/ipykernel_579864/2563740004.py:7: RuntimeWarning: invalid value encountered in scalar divide\n",
      "  return accuracy, precision, recall, 2*precision*recall/(precision+recall)\n",
      "100%|██████████| 30/30 [03:07<00:00,  6.27s/it]"
     ]
    },
    {
     "name": "stdout",
     "output_type": "stream",
     "text": [
      "(0.7220964652620582, 0.0, 0.0, nan)\n"
     ]
    },
    {
     "name": "stderr",
     "output_type": "stream",
     "text": [
      "\n"
     ]
    }
   ],
   "source": [
    "X_train = [get_features(d, BoW=False, tfidf=True, w2v=False) for d in data_train]\n",
    "X_val = [get_features(d, BoW=False, tfidf=True, w2v=False) for d in data_val]\n",
    "X_test = [get_features(d, BoW=False, tfidf=True, w2v=False) for d in data_test]\n",
    "\n",
    "# Generate all possible combinations of hyperparameters\n",
    "grid = ParameterGrid(param_grid)\n",
    "\n",
    "scores_tfidf_hand = []\n",
    "\n",
    "# Iterate over the hyperparameter combinations\n",
    "bar = tqdm(grid)\n",
    "X_train = torch.tensor(X_train).to('cuda')\n",
    "y_train = torch.tensor(y_train).to('cuda')\n",
    "for params in bar:\n",
    "    print(\"Testing hyperparameters:\", params)\n",
    "\n",
    "    # Create the model with the current hyperparameters\n",
    "    model = MLPClassifier(input_size=len(X_train[0]), output_size=2, **params)\n",
    "\n",
    "    # Train the model\n",
    "    model.fit(X_train, y_train, X_val, y_val, epochs=100, use_gpu=True)\n",
    "    metrics = test_metrics(model, X_test, y_test)\n",
    "    print(metrics)\n",
    "    scores_tfidf_hand.append({'params':params, 'scores':metrics})\n",
    "    bar.set_postfix()\n",
    "\n",
    "with open('mlp_tfidf_hand.json', 'w') as f:\n",
    "    json.dump(scores_tfidf_hand, f)"
   ]
  },
  {
   "cell_type": "code",
   "execution_count": null,
   "id": "dad34374",
   "metadata": {},
   "outputs": [
    {
     "ename": "",
     "evalue": "",
     "output_type": "error",
     "traceback": [
      "\u001b[1;31mThe Kernel crashed while executing code in the the current cell or a previous cell. Please review the code in the cell(s) to identify a possible cause of the failure. Click <a href='https://aka.ms/vscodeJupyterKernelCrash'>here</a> for more info. View Jupyter <a href='command:jupyter.viewOutput'>log</a> for further details."
     ]
    }
   ],
   "source": [
    "X_train = [get_features(d, BoW=False, tfidf=False, w2v=True) for d in data_train]\n",
    "X_val = [get_features(d, BoW=False, tfidf=False, w2v=True) for d in data_val]\n",
    "X_test = [get_features(d, BoW=False, tfidf=False, w2v=True) for d in data_test]\n",
    "\n",
    "# Generate all possible combinations of hyperparameters\n",
    "grid = ParameterGrid(param_grid)\n",
    "\n",
    "scores_w2v_hand = []\n",
    "\n",
    "# Iterate over the hyperparameter combinations\n",
    "bar = tqdm(grid)\n",
    "X_train = torch.tensor(X_train).to('cuda')\n",
    "y_train = torch.tensor(y_train).to('cuda')\n",
    "for params in bar:\n",
    "    print(\"Testing hyperparameters:\", params)\n",
    "\n",
    "    # Create the model with the current hyperparameters\n",
    "    model = MLPClassifier(input_size=len(X_train[0]), output_size=2, **params)\n",
    "\n",
    "    # Train the model\n",
    "    model.fit(X_train, y_train, X_val, y_val, epochs=100, use_gpu=True)\n",
    "    metrics = test_metrics(model, X_test, y_test)\n",
    "    print(metrics)\n",
    "    scores_w2v_hand.append({'params':params, 'scores':metrics})\n",
    "    bar.set_postfix()\n",
    "\n",
    "with open('mlp_w2v_hand.json', 'w') as f:\n",
    "    json.dump(scores_w2v_hand, f)"
   ]
  },
  {
   "cell_type": "code",
   "execution_count": null,
   "metadata": {},
   "outputs": [],
   "source": []
  }
 ],
 "metadata": {
  "kernelspec": {
   "display_name": "Python 3 (ipykernel)",
   "language": "python",
   "name": "python3"
  },
  "language_info": {
   "codemirror_mode": {
    "name": "ipython",
    "version": 3
   },
   "file_extension": ".py",
   "mimetype": "text/x-python",
   "name": "python",
   "nbconvert_exporter": "python",
   "pygments_lexer": "ipython3",
   "version": "3.11.6"
  }
 },
 "nbformat": 4,
 "nbformat_minor": 5
}

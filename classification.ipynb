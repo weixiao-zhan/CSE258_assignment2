{
 "cells": [
  {
   "cell_type": "markdown",
   "id": "42ad38c0",
   "metadata": {},
   "source": [
    "## Data Loading"
   ]
  },
  {
   "cell_type": "code",
   "execution_count": 1,
   "id": "77eb2e9e",
   "metadata": {},
   "outputs": [],
   "source": [
    "import gzip, json\n",
    "def parse(path):\n",
    "  g = gzip.open(path, 'r')\n",
    "  for l in g:\n",
    "    yield json.loads(l)\n",
    "\n",
    "data = []\n",
    "\n",
    "for review in parse(\"Software.json.gz\"):\n",
    "  data.append(review)"
   ]
  },
  {
   "cell_type": "code",
   "execution_count": 2,
   "id": "507924ac",
   "metadata": {},
   "outputs": [],
   "source": [
    "import numpy as np\n",
    "from sklearn.model_selection import train_test_split\n",
    "\n",
    "indices = np.arange(len(data))\n",
    "indices_train, indices_test = train_test_split(indices, test_size=0.1, random_state=42)\n",
    "indices_train, indices_val = train_test_split(indices_train, test_size=0.1/0.9, random_state=42)"
   ]
  },
  {
   "cell_type": "code",
   "execution_count": 3,
   "id": "da001c59",
   "metadata": {},
   "outputs": [],
   "source": [
    "data_np = np.array(data)\n",
    "data_train = data_np[indices_train]\n",
    "data_val = data_np[indices_val]\n",
    "data_test = data_np[indices_test]"
   ]
  },
  {
   "cell_type": "code",
   "execution_count": 4,
   "id": "387ce954",
   "metadata": {},
   "outputs": [],
   "source": [
    "y_train = [0 if ('vote' not in d) or (d['vote']==0)  else 1 for d in data_train]\n",
    "y_val = [0 if ('vote' not in d) or (d['vote']==0)  else 1 for d in data_val]\n",
    "y_test = [0 if ('vote' not in d) or (d['vote']==0)  else 1 for d in data_test]"
   ]
  },
  {
   "cell_type": "markdown",
   "id": "ee6dce25",
   "metadata": {},
   "source": [
    "## Naive Bayes"
   ]
  },
  {
   "cell_type": "code",
   "execution_count": null,
   "id": "2c936ef6",
   "metadata": {},
   "outputs": [],
   "source": []
  },
  {
   "cell_type": "markdown",
   "id": "ac75b54a",
   "metadata": {},
   "source": [
    "## Non-text (review) features"
   ]
  },
  {
   "cell_type": "code",
   "execution_count": 5,
   "id": "c735c7be",
   "metadata": {},
   "outputs": [
    {
     "data": {
      "text/html": [
       "<style>#sk-container-id-1 {color: black;}#sk-container-id-1 pre{padding: 0;}#sk-container-id-1 div.sk-toggleable {background-color: white;}#sk-container-id-1 label.sk-toggleable__label {cursor: pointer;display: block;width: 100%;margin-bottom: 0;padding: 0.3em;box-sizing: border-box;text-align: center;}#sk-container-id-1 label.sk-toggleable__label-arrow:before {content: \"▸\";float: left;margin-right: 0.25em;color: #696969;}#sk-container-id-1 label.sk-toggleable__label-arrow:hover:before {color: black;}#sk-container-id-1 div.sk-estimator:hover label.sk-toggleable__label-arrow:before {color: black;}#sk-container-id-1 div.sk-toggleable__content {max-height: 0;max-width: 0;overflow: hidden;text-align: left;background-color: #f0f8ff;}#sk-container-id-1 div.sk-toggleable__content pre {margin: 0.2em;color: black;border-radius: 0.25em;background-color: #f0f8ff;}#sk-container-id-1 input.sk-toggleable__control:checked~div.sk-toggleable__content {max-height: 200px;max-width: 100%;overflow: auto;}#sk-container-id-1 input.sk-toggleable__control:checked~label.sk-toggleable__label-arrow:before {content: \"▾\";}#sk-container-id-1 div.sk-estimator input.sk-toggleable__control:checked~label.sk-toggleable__label {background-color: #d4ebff;}#sk-container-id-1 div.sk-label input.sk-toggleable__control:checked~label.sk-toggleable__label {background-color: #d4ebff;}#sk-container-id-1 input.sk-hidden--visually {border: 0;clip: rect(1px 1px 1px 1px);clip: rect(1px, 1px, 1px, 1px);height: 1px;margin: -1px;overflow: hidden;padding: 0;position: absolute;width: 1px;}#sk-container-id-1 div.sk-estimator {font-family: monospace;background-color: #f0f8ff;border: 1px dotted black;border-radius: 0.25em;box-sizing: border-box;margin-bottom: 0.5em;}#sk-container-id-1 div.sk-estimator:hover {background-color: #d4ebff;}#sk-container-id-1 div.sk-parallel-item::after {content: \"\";width: 100%;border-bottom: 1px solid gray;flex-grow: 1;}#sk-container-id-1 div.sk-label:hover label.sk-toggleable__label {background-color: #d4ebff;}#sk-container-id-1 div.sk-serial::before {content: \"\";position: absolute;border-left: 1px solid gray;box-sizing: border-box;top: 0;bottom: 0;left: 50%;z-index: 0;}#sk-container-id-1 div.sk-serial {display: flex;flex-direction: column;align-items: center;background-color: white;padding-right: 0.2em;padding-left: 0.2em;position: relative;}#sk-container-id-1 div.sk-item {position: relative;z-index: 1;}#sk-container-id-1 div.sk-parallel {display: flex;align-items: stretch;justify-content: center;background-color: white;position: relative;}#sk-container-id-1 div.sk-item::before, #sk-container-id-1 div.sk-parallel-item::before {content: \"\";position: absolute;border-left: 1px solid gray;box-sizing: border-box;top: 0;bottom: 0;left: 50%;z-index: -1;}#sk-container-id-1 div.sk-parallel-item {display: flex;flex-direction: column;z-index: 1;position: relative;background-color: white;}#sk-container-id-1 div.sk-parallel-item:first-child::after {align-self: flex-end;width: 50%;}#sk-container-id-1 div.sk-parallel-item:last-child::after {align-self: flex-start;width: 50%;}#sk-container-id-1 div.sk-parallel-item:only-child::after {width: 0;}#sk-container-id-1 div.sk-dashed-wrapped {border: 1px dashed gray;margin: 0 0.4em 0.5em 0.4em;box-sizing: border-box;padding-bottom: 0.4em;background-color: white;}#sk-container-id-1 div.sk-label label {font-family: monospace;font-weight: bold;display: inline-block;line-height: 1.2em;}#sk-container-id-1 div.sk-label-container {text-align: center;}#sk-container-id-1 div.sk-container {/* jupyter's `normalize.less` sets `[hidden] { display: none; }` but bootstrap.min.css set `[hidden] { display: none !important; }` so we also need the `!important` here to be able to override the default hidden behavior on the sphinx rendered scikit-learn.org. See: https://github.com/scikit-learn/scikit-learn/issues/21755 */display: inline-block !important;position: relative;}#sk-container-id-1 div.sk-text-repr-fallback {display: none;}</style><div id=\"sk-container-id-1\" class=\"sk-top-container\"><div class=\"sk-text-repr-fallback\"><pre>OneHotEncoder()</pre><b>In a Jupyter environment, please rerun this cell to show the HTML representation or trust the notebook. <br />On GitHub, the HTML representation is unable to render, please try loading this page with nbviewer.org.</b></div><div class=\"sk-container\" hidden><div class=\"sk-item\"><div class=\"sk-estimator sk-toggleable\"><input class=\"sk-toggleable__control sk-hidden--visually\" id=\"sk-estimator-id-1\" type=\"checkbox\" checked><label for=\"sk-estimator-id-1\" class=\"sk-toggleable__label sk-toggleable__label-arrow\">OneHotEncoder</label><div class=\"sk-toggleable__content\"><pre>OneHotEncoder()</pre></div></div></div></div></div>"
      ],
      "text/plain": [
       "OneHotEncoder()"
      ]
     },
     "execution_count": 5,
     "metadata": {},
     "output_type": "execute_result"
    }
   ],
   "source": [
    "from sklearn.preprocessing import LabelEncoder\n",
    "from sklearn.preprocessing import OneHotEncoder\n",
    "\n",
    "# fit the ID encoder on full data set\n",
    "userID_str = np.array([[d['reviewerID']] for d in data])\n",
    "userID_encoder = LabelEncoder()\n",
    "userID_encoder.fit(userID_str.squeeze())\n",
    "userID_one_hot_encoder = OneHotEncoder()\n",
    "userID_one_hot_encoder.fit(userID_str)\n",
    "\n",
    "itemID_str = np.array([[d['asin']] for d in data])\n",
    "itemID_encoder = LabelEncoder()\n",
    "itemID_encoder.fit(itemID_str.squeeze())\n",
    "itemID_one_hot_encoder = OneHotEncoder()\n",
    "itemID_one_hot_encoder.fit(itemID_str)"
   ]
  },
  {
   "cell_type": "code",
   "execution_count": null,
   "id": "dd24a5f9",
   "metadata": {},
   "outputs": [],
   "source": [
    "import textstat\n",
    "import os\n",
    "import pickle \n",
    "\n",
    "if os.path.isfile('readability_scores.pickle'):\n",
    "    with open('readability_scores.pickle', 'rb') as handle:\n",
    "        readability_scores = pickle.load(handle)\n",
    "    \n",
    "else:\n",
    "    # Might take 2-3 mins, please be patient!\n",
    "    readability_scores = {}\n",
    "    for d in data:\n",
    "        if 'reviewText' in d:\n",
    "            readability_scores[d['reviewText']] = textstat.flesch_reading_ease(d['reviewText'])"
   ]
  },
  {
   "cell_type": "code",
   "execution_count": null,
   "id": "a8052a32",
   "metadata": {},
   "outputs": [],
   "source": [
    "def get_meta_features(d, length=False, rating=False, readability=False, verified=False, userID=False, itemID=False):\n",
    "    feature_vec = []\n",
    "    \n",
    "    if length:\n",
    "        if 'reviewText' not in d:\n",
    "            feature_vec.append(0)\n",
    "        else:\n",
    "            feature_vec.append(len(d['reviewText']))\n",
    "            \n",
    "    if rating:\n",
    "        feature_vec.append(d['overall'])\n",
    "    \n",
    "    if readability:\n",
    "        if 'reviewText' not in d:\n",
    "            feature_vec.append(100)\n",
    "        else:\n",
    "            feature_vec.append(readability_scores[d['reviewText']])\n",
    "            \n",
    "    if verified:\n",
    "        if 'verified' not in d:\n",
    "            feature_vec.append(0)\n",
    "        elif d['verified']:\n",
    "            feature_vec.append(1)\n",
    "        else:\n",
    "            feature_vec.append(0)\n",
    "            \n",
    "    if userID:\n",
    "        feature_vec.extend(list(userID_one_hot_encoder.transform([[d[\"reviewerID\"]]]).toarray()[0]))\n",
    "                                          \n",
    "    if itemID:\n",
    "        feature_vec.extend(list(itemID_one_hot_encoder.transform([[d[\"asin\"]]]).toarray()[0]))      \n",
    "        \n",
    "    return feature_vec\n",
    "        "
   ]
  },
  {
   "cell_type": "code",
   "execution_count": 8,
   "id": "d074969f",
   "metadata": {},
   "outputs": [],
   "source": [
    "from sklearn.metrics import precision_recall_fscore_support\n",
    "from sklearn.metrics import accuracy_score\n",
    "def test_metrics(clf, X_t, y_t):\n",
    "    y_pred = clf.predict(X_t)\n",
    "    precision, recall, _, _ = precision_recall_fscore_support(y_t, y_pred, average='binary')\n",
    "    accuracy = accuracy_score(y_t, y_pred)\n",
    "    return accuracy, precision, recall"
   ]
  },
  {
   "cell_type": "code",
   "execution_count": 10,
   "id": "410c0296",
   "metadata": {},
   "outputs": [],
   "source": [
    "X_train = [get_meta_features(d, length=True, rating=True, readability=True, verified=True, userID=False, itemID=False) for d in data_train]\n",
    "X_val = [get_meta_features(d, length=True, rating=True, readability=True, verified=True, userID=False, itemID=False) for d in data_val]\n",
    "X_test = [get_meta_features(d, length=True, rating=True, readability=True, verified=True, userID=False, itemID=False) for d in data_test]\n",
    "from sklearn.preprocessing import StandardScaler\n",
    "scaler = StandardScaler()\n",
    "scaler = scaler.fit(X_train)"
   ]
  },
  {
   "cell_type": "code",
   "execution_count": 20,
   "id": "14d36f26",
   "metadata": {},
   "outputs": [
    {
     "data": {
      "text/plain": [
       "(0.759098032387254, 0.5540712468193384, 0.6821741854636592)"
      ]
     },
     "execution_count": 20,
     "metadata": {},
     "output_type": "execute_result"
    }
   ],
   "source": [
    "# Logistic regression\n",
    "from sklearn.linear_model import LogisticRegression\n",
    "\n",
    "clf = LogisticRegression(random_state=0, class_weight='balanced', C= 1.0).fit(scaler.transform(X_train), y_train)\n",
    "test_metrics(clf, scaler.transform(X_test), y_test)"
   ]
  },
  {
   "cell_type": "code",
   "execution_count": 11,
   "id": "62108d4c",
   "metadata": {},
   "outputs": [
    {
     "data": {
      "text/plain": [
       "(0.7476275465784433, 0.5358605930907979, 0.6864035087719298)"
      ]
     },
     "execution_count": 11,
     "metadata": {},
     "output_type": "execute_result"
    }
   ],
   "source": [
    "# Ridge Classifier\n",
    "from sklearn.linear_model import RidgeClassifier\n",
    "\n",
    "clf = RidgeClassifier(random_state=0, class_weight='balanced',alpha= 1.0).fit(scaler.transform(X_train), y_train)\n",
    "test_metrics(clf, scaler.transform(X_test), y_test)"
   ]
  },
  {
   "cell_type": "code",
   "execution_count": 26,
   "id": "de997b8b",
   "metadata": {},
   "outputs": [
    {
     "data": {
      "text/plain": [
       "(0.740531951941494, 0.5225301909879236, 0.769266917293233)"
      ]
     },
     "execution_count": 26,
     "metadata": {},
     "output_type": "execute_result"
    }
   ],
   "source": [
    "# RF\n",
    "from sklearn.ensemble import RandomForestClassifier\n",
    "\n",
    "clf = RandomForestClassifier(random_state=0, class_weight='balanced', max_depth=5).fit(scaler.transform(X_train), y_train)\n",
    "test_metrics(clf, scaler.transform(X_test), y_test)"
   ]
  },
  {
   "cell_type": "markdown",
   "id": "1aa8e6fc",
   "metadata": {},
   "source": [
    "## Text Features"
   ]
  },
  {
   "cell_type": "code",
   "execution_count": 9,
   "id": "8dea3025",
   "metadata": {},
   "outputs": [],
   "source": [
    "train_documents = []\n",
    "for d in data_train: \n",
    "    strs = []\n",
    "    if 'summary' in d:\n",
    "        strs.append(d['summary'])\n",
    "    if 'reviewText' in d:\n",
    "        strs.append(d['reviewText'])\n",
    "    train_documents.append(\" \".join(strs))"
   ]
  },
  {
   "cell_type": "code",
   "execution_count": 10,
   "id": "fc2b210a",
   "metadata": {},
   "outputs": [
    {
     "data": {
      "text/html": [
       "<style>#sk-container-id-2 {color: black;}#sk-container-id-2 pre{padding: 0;}#sk-container-id-2 div.sk-toggleable {background-color: white;}#sk-container-id-2 label.sk-toggleable__label {cursor: pointer;display: block;width: 100%;margin-bottom: 0;padding: 0.3em;box-sizing: border-box;text-align: center;}#sk-container-id-2 label.sk-toggleable__label-arrow:before {content: \"▸\";float: left;margin-right: 0.25em;color: #696969;}#sk-container-id-2 label.sk-toggleable__label-arrow:hover:before {color: black;}#sk-container-id-2 div.sk-estimator:hover label.sk-toggleable__label-arrow:before {color: black;}#sk-container-id-2 div.sk-toggleable__content {max-height: 0;max-width: 0;overflow: hidden;text-align: left;background-color: #f0f8ff;}#sk-container-id-2 div.sk-toggleable__content pre {margin: 0.2em;color: black;border-radius: 0.25em;background-color: #f0f8ff;}#sk-container-id-2 input.sk-toggleable__control:checked~div.sk-toggleable__content {max-height: 200px;max-width: 100%;overflow: auto;}#sk-container-id-2 input.sk-toggleable__control:checked~label.sk-toggleable__label-arrow:before {content: \"▾\";}#sk-container-id-2 div.sk-estimator input.sk-toggleable__control:checked~label.sk-toggleable__label {background-color: #d4ebff;}#sk-container-id-2 div.sk-label input.sk-toggleable__control:checked~label.sk-toggleable__label {background-color: #d4ebff;}#sk-container-id-2 input.sk-hidden--visually {border: 0;clip: rect(1px 1px 1px 1px);clip: rect(1px, 1px, 1px, 1px);height: 1px;margin: -1px;overflow: hidden;padding: 0;position: absolute;width: 1px;}#sk-container-id-2 div.sk-estimator {font-family: monospace;background-color: #f0f8ff;border: 1px dotted black;border-radius: 0.25em;box-sizing: border-box;margin-bottom: 0.5em;}#sk-container-id-2 div.sk-estimator:hover {background-color: #d4ebff;}#sk-container-id-2 div.sk-parallel-item::after {content: \"\";width: 100%;border-bottom: 1px solid gray;flex-grow: 1;}#sk-container-id-2 div.sk-label:hover label.sk-toggleable__label {background-color: #d4ebff;}#sk-container-id-2 div.sk-serial::before {content: \"\";position: absolute;border-left: 1px solid gray;box-sizing: border-box;top: 0;bottom: 0;left: 50%;z-index: 0;}#sk-container-id-2 div.sk-serial {display: flex;flex-direction: column;align-items: center;background-color: white;padding-right: 0.2em;padding-left: 0.2em;position: relative;}#sk-container-id-2 div.sk-item {position: relative;z-index: 1;}#sk-container-id-2 div.sk-parallel {display: flex;align-items: stretch;justify-content: center;background-color: white;position: relative;}#sk-container-id-2 div.sk-item::before, #sk-container-id-2 div.sk-parallel-item::before {content: \"\";position: absolute;border-left: 1px solid gray;box-sizing: border-box;top: 0;bottom: 0;left: 50%;z-index: -1;}#sk-container-id-2 div.sk-parallel-item {display: flex;flex-direction: column;z-index: 1;position: relative;background-color: white;}#sk-container-id-2 div.sk-parallel-item:first-child::after {align-self: flex-end;width: 50%;}#sk-container-id-2 div.sk-parallel-item:last-child::after {align-self: flex-start;width: 50%;}#sk-container-id-2 div.sk-parallel-item:only-child::after {width: 0;}#sk-container-id-2 div.sk-dashed-wrapped {border: 1px dashed gray;margin: 0 0.4em 0.5em 0.4em;box-sizing: border-box;padding-bottom: 0.4em;background-color: white;}#sk-container-id-2 div.sk-label label {font-family: monospace;font-weight: bold;display: inline-block;line-height: 1.2em;}#sk-container-id-2 div.sk-label-container {text-align: center;}#sk-container-id-2 div.sk-container {/* jupyter's `normalize.less` sets `[hidden] { display: none; }` but bootstrap.min.css set `[hidden] { display: none !important; }` so we also need the `!important` here to be able to override the default hidden behavior on the sphinx rendered scikit-learn.org. See: https://github.com/scikit-learn/scikit-learn/issues/21755 */display: inline-block !important;position: relative;}#sk-container-id-2 div.sk-text-repr-fallback {display: none;}</style><div id=\"sk-container-id-2\" class=\"sk-top-container\"><div class=\"sk-text-repr-fallback\"><pre>CountVectorizer(max_features=300, stop_words=&#x27;english&#x27;)</pre><b>In a Jupyter environment, please rerun this cell to show the HTML representation or trust the notebook. <br />On GitHub, the HTML representation is unable to render, please try loading this page with nbviewer.org.</b></div><div class=\"sk-container\" hidden><div class=\"sk-item\"><div class=\"sk-estimator sk-toggleable\"><input class=\"sk-toggleable__control sk-hidden--visually\" id=\"sk-estimator-id-2\" type=\"checkbox\" checked><label for=\"sk-estimator-id-2\" class=\"sk-toggleable__label sk-toggleable__label-arrow\">CountVectorizer</label><div class=\"sk-toggleable__content\"><pre>CountVectorizer(max_features=300, stop_words=&#x27;english&#x27;)</pre></div></div></div></div></div>"
      ],
      "text/plain": [
       "CountVectorizer(max_features=300, stop_words='english')"
      ]
     },
     "execution_count": 10,
     "metadata": {},
     "output_type": "execute_result"
    }
   ],
   "source": [
    "from sklearn.feature_extraction.text import CountVectorizer\n",
    "bow_vectorizer = CountVectorizer(stop_words='english', max_features=300)\n",
    "bow_vectorizer.fit(train_documents)"
   ]
  },
  {
   "cell_type": "code",
   "execution_count": 11,
   "id": "9c50cd2d",
   "metadata": {},
   "outputs": [
    {
     "data": {
      "text/html": [
       "<style>#sk-container-id-3 {color: black;}#sk-container-id-3 pre{padding: 0;}#sk-container-id-3 div.sk-toggleable {background-color: white;}#sk-container-id-3 label.sk-toggleable__label {cursor: pointer;display: block;width: 100%;margin-bottom: 0;padding: 0.3em;box-sizing: border-box;text-align: center;}#sk-container-id-3 label.sk-toggleable__label-arrow:before {content: \"▸\";float: left;margin-right: 0.25em;color: #696969;}#sk-container-id-3 label.sk-toggleable__label-arrow:hover:before {color: black;}#sk-container-id-3 div.sk-estimator:hover label.sk-toggleable__label-arrow:before {color: black;}#sk-container-id-3 div.sk-toggleable__content {max-height: 0;max-width: 0;overflow: hidden;text-align: left;background-color: #f0f8ff;}#sk-container-id-3 div.sk-toggleable__content pre {margin: 0.2em;color: black;border-radius: 0.25em;background-color: #f0f8ff;}#sk-container-id-3 input.sk-toggleable__control:checked~div.sk-toggleable__content {max-height: 200px;max-width: 100%;overflow: auto;}#sk-container-id-3 input.sk-toggleable__control:checked~label.sk-toggleable__label-arrow:before {content: \"▾\";}#sk-container-id-3 div.sk-estimator input.sk-toggleable__control:checked~label.sk-toggleable__label {background-color: #d4ebff;}#sk-container-id-3 div.sk-label input.sk-toggleable__control:checked~label.sk-toggleable__label {background-color: #d4ebff;}#sk-container-id-3 input.sk-hidden--visually {border: 0;clip: rect(1px 1px 1px 1px);clip: rect(1px, 1px, 1px, 1px);height: 1px;margin: -1px;overflow: hidden;padding: 0;position: absolute;width: 1px;}#sk-container-id-3 div.sk-estimator {font-family: monospace;background-color: #f0f8ff;border: 1px dotted black;border-radius: 0.25em;box-sizing: border-box;margin-bottom: 0.5em;}#sk-container-id-3 div.sk-estimator:hover {background-color: #d4ebff;}#sk-container-id-3 div.sk-parallel-item::after {content: \"\";width: 100%;border-bottom: 1px solid gray;flex-grow: 1;}#sk-container-id-3 div.sk-label:hover label.sk-toggleable__label {background-color: #d4ebff;}#sk-container-id-3 div.sk-serial::before {content: \"\";position: absolute;border-left: 1px solid gray;box-sizing: border-box;top: 0;bottom: 0;left: 50%;z-index: 0;}#sk-container-id-3 div.sk-serial {display: flex;flex-direction: column;align-items: center;background-color: white;padding-right: 0.2em;padding-left: 0.2em;position: relative;}#sk-container-id-3 div.sk-item {position: relative;z-index: 1;}#sk-container-id-3 div.sk-parallel {display: flex;align-items: stretch;justify-content: center;background-color: white;position: relative;}#sk-container-id-3 div.sk-item::before, #sk-container-id-3 div.sk-parallel-item::before {content: \"\";position: absolute;border-left: 1px solid gray;box-sizing: border-box;top: 0;bottom: 0;left: 50%;z-index: -1;}#sk-container-id-3 div.sk-parallel-item {display: flex;flex-direction: column;z-index: 1;position: relative;background-color: white;}#sk-container-id-3 div.sk-parallel-item:first-child::after {align-self: flex-end;width: 50%;}#sk-container-id-3 div.sk-parallel-item:last-child::after {align-self: flex-start;width: 50%;}#sk-container-id-3 div.sk-parallel-item:only-child::after {width: 0;}#sk-container-id-3 div.sk-dashed-wrapped {border: 1px dashed gray;margin: 0 0.4em 0.5em 0.4em;box-sizing: border-box;padding-bottom: 0.4em;background-color: white;}#sk-container-id-3 div.sk-label label {font-family: monospace;font-weight: bold;display: inline-block;line-height: 1.2em;}#sk-container-id-3 div.sk-label-container {text-align: center;}#sk-container-id-3 div.sk-container {/* jupyter's `normalize.less` sets `[hidden] { display: none; }` but bootstrap.min.css set `[hidden] { display: none !important; }` so we also need the `!important` here to be able to override the default hidden behavior on the sphinx rendered scikit-learn.org. See: https://github.com/scikit-learn/scikit-learn/issues/21755 */display: inline-block !important;position: relative;}#sk-container-id-3 div.sk-text-repr-fallback {display: none;}</style><div id=\"sk-container-id-3\" class=\"sk-top-container\"><div class=\"sk-text-repr-fallback\"><pre>TfidfVectorizer(max_features=300, stop_words=&#x27;english&#x27;)</pre><b>In a Jupyter environment, please rerun this cell to show the HTML representation or trust the notebook. <br />On GitHub, the HTML representation is unable to render, please try loading this page with nbviewer.org.</b></div><div class=\"sk-container\" hidden><div class=\"sk-item\"><div class=\"sk-estimator sk-toggleable\"><input class=\"sk-toggleable__control sk-hidden--visually\" id=\"sk-estimator-id-3\" type=\"checkbox\" checked><label for=\"sk-estimator-id-3\" class=\"sk-toggleable__label sk-toggleable__label-arrow\">TfidfVectorizer</label><div class=\"sk-toggleable__content\"><pre>TfidfVectorizer(max_features=300, stop_words=&#x27;english&#x27;)</pre></div></div></div></div></div>"
      ],
      "text/plain": [
       "TfidfVectorizer(max_features=300, stop_words='english')"
      ]
     },
     "execution_count": 11,
     "metadata": {},
     "output_type": "execute_result"
    }
   ],
   "source": [
    "from sklearn.feature_extraction.text import TfidfVectorizer\n",
    "\n",
    "tfidf_vectorizer = TfidfVectorizer(stop_words='english', max_features=300)\n",
    "tfidf_vectorizer.fit(train_documents)"
   ]
  },
  {
   "cell_type": "code",
   "execution_count": 12,
   "id": "fdec5f7c",
   "metadata": {},
   "outputs": [],
   "source": [
    "w2v_features = np.load('text-feature_word2vec.npz')['word2vec']\n",
    "w2v_dict = {}\n",
    "\n",
    "count = 0 \n",
    "for d in data:\n",
    "    if 'reviewText' in d:\n",
    "        w2v_dict[d['reviewText']] = w2v_features[count, :]\n",
    "    else:\n",
    "        w2v_dict[''] =  w2v_features[count, :]\n",
    "    count+=1"
   ]
  },
  {
   "cell_type": "code",
   "execution_count": 13,
   "id": "7e0e2113",
   "metadata": {},
   "outputs": [],
   "source": [
    "all_docs = []\n",
    "for d in data: \n",
    "    strs = []\n",
    "    if 'summary' in d:\n",
    "        strs.append(d['summary'])\n",
    "    if 'reviewText' in d:\n",
    "        strs.append(d['reviewText'])\n",
    "    all_docs.append(\" \".join(strs))\n",
    "    "
   ]
  },
  {
   "cell_type": "code",
   "execution_count": 14,
   "id": "a8143e40",
   "metadata": {},
   "outputs": [],
   "source": [
    "tfidf_vecs = tfidf_vectorizer.transform(all_docs).toarray()\n",
    "\n",
    "tfidf_dict = {}\n",
    "count = 0\n",
    "for d in data:\n",
    "    if 'reviewText' in d:\n",
    "        tfidf_dict[d['reviewText']] = tfidf_vecs[count, :]\n",
    "    else:\n",
    "        tfidf_dict[''] =  tfidf_vecs[count, :]\n",
    "    count+=1"
   ]
  },
  {
   "cell_type": "code",
   "execution_count": 15,
   "id": "4954ed58",
   "metadata": {},
   "outputs": [],
   "source": [
    "bow_vecs = bow_vectorizer.transform(all_docs).toarray()\n",
    "\n",
    "bow_dict = {}\n",
    "count = 0\n",
    "for d in data:\n",
    "    if 'reviewText' in d:\n",
    "        bow_dict[d['reviewText']] = bow_vecs[count, :]\n",
    "    else:\n",
    "        bow_dict[''] =  bow_vecs[count, :]\n",
    "    count+=1"
   ]
  },
  {
   "cell_type": "code",
   "execution_count": 27,
   "id": "4d303133",
   "metadata": {},
   "outputs": [],
   "source": [
    "def get_text_features(d, BoW=False, tfidf=False, w2v=False):\n",
    "    \n",
    "    feature_vec = []\n",
    "    \n",
    "    if 'reviewText' in d:\n",
    "        reviewText = d['reviewText']\n",
    "    else:\n",
    "        reviewText = ''\n",
    "    \n",
    "    if BoW:\n",
    "        feature_vec.extend(bow_dict[reviewText].tolist())\n",
    "    if tfidf:\n",
    "        feature_vec.extend(tfidf_dict[reviewText].ravel())\n",
    "    if w2v:\n",
    "        feature_vec.extend(w2v_dict[reviewText].tolist())\n",
    "        \n",
    "    return feature_vec\n",
    "       "
   ]
  },
  {
   "cell_type": "code",
   "execution_count": 35,
   "id": "8d42f59d",
   "metadata": {},
   "outputs": [
    {
     "name": "stdout",
     "output_type": "stream",
     "text": [
      "Logistic  (0.7470398746299843, 0.536599386816556, 0.6579730576441103)\n",
      "Ridge  (0.7381377328922166, 0.523442967109867, 0.6444235588972431)\n",
      "Random Forest  (0.7135425735678217, 0.4884905991917062, 0.6531954887218046)\n"
     ]
    }
   ],
   "source": [
    "X_train = [get_text_features(d, BoW=True, tfidf=False, w2v=False) for d in data_train]\n",
    "X_val = [get_text_features(d, BoW=True, tfidf=False, w2v=False) for d in data_val]\n",
    "X_test = [get_text_features(d, BoW=True, tfidf=False, w2v=False) for d in data_test]\n",
    "\n",
    "# Logistic regression\n",
    "from sklearn.linear_model import LogisticRegression\n",
    "\n",
    "clf = LogisticRegression(random_state=0, class_weight='balanced', C= 1.0).fit(X_train, y_train)\n",
    "print('Logistic ',test_metrics(clf, X_test, y_test))\n",
    "\n",
    "# Ridge Classifier\n",
    "from sklearn.linear_model import RidgeClassifier\n",
    "\n",
    "clf = RidgeClassifier(random_state=0, class_weight='balanced',alpha= 1.0).fit(X_train, y_train)\n",
    "print('Ridge ', test_metrics(clf, X_test, y_test))\n",
    "\n",
    "# RF\n",
    "from sklearn.ensemble import RandomForestClassifier\n",
    "\n",
    "clf = RandomForestClassifier(random_state=0, class_weight='balanced', max_depth=5).fit(X_train, y_train)\n",
    "print('Random Forest ', test_metrics(clf, X_test, y_test))"
   ]
  },
  {
   "cell_type": "code",
   "execution_count": null,
   "id": "ea219465",
   "metadata": {},
   "outputs": [],
   "source": [
    "X_train = [get_text_features(d, BoW=False, tfidf=True, w2v=False) for d in data_train]\n",
    "X_val = [get_text_features(d, BoW=False, tfidf=True, w2v=False) for d in data_val]\n",
    "X_test = [get_text_features(d, BoW=False, tfidf=True, w2v=False) for d in data_test]"
   ]
  },
  {
   "cell_type": "code",
   "execution_count": 42,
   "id": "f591a14d",
   "metadata": {},
   "outputs": [
    {
     "name": "stdout",
     "output_type": "stream",
     "text": [
      "Logistic  (0.7235112310639039, 0.5016963307061956, 0.7528195488721805)\n"
     ]
    }
   ],
   "source": [
    "# Logistic regression\n",
    "from sklearn.linear_model import LogisticRegression\n",
    "\n",
    "clf = LogisticRegression(random_state=0, class_weight='balanced', C= 1.0).fit(X_train, y_train)\n",
    "print('Logistic ',  test_metrics(clf, X_test, y_test))"
   ]
  },
  {
   "cell_type": "code",
   "execution_count": null,
   "id": "b315d2d4",
   "metadata": {},
   "outputs": [],
   "source": [
    "# Ridge Classifier\n",
    "from sklearn.linear_model import RidgeClassifier\n",
    "\n",
    "clf = RidgeClassifier(random_state=0, class_weight='balanced',alpha= 1.0).fit(X_train, y_train)\n",
    "print('Ridge ', test_metrics(clf, X_test, y_test))"
   ]
  },
  {
   "cell_type": "code",
   "execution_count": null,
   "id": "4fd08065",
   "metadata": {},
   "outputs": [],
   "source": [
    "# RF\n",
    "from sklearn.ensemble import RandomForestClassifier\n",
    "\n",
    "clf = RandomForestClassifier(random_state=0, class_weight='balanced', max_depth=5).fit(X_train, y_train)\n",
    "print('Random forest ', test_metrics(clf, X_test, y_test))"
   ]
  },
  {
   "cell_type": "code",
   "execution_count": null,
   "id": "f375c01a",
   "metadata": {},
   "outputs": [],
   "source": [
    "X_train = [get_text_features(d, BoW=False, tfidf=True, w2v=False) for d in data_train]\n",
    "X_val = [get_text_features(d, BoW=False, tfidf=True, w2v=False) for d in data_val]\n",
    "X_test = [get_text_features(d, BoW=False, tfidf=True, w2v=False) for d in data_test]\n",
    "\n",
    "# Logistic regression\n",
    "from sklearn.linear_model import LogisticRegression\n",
    "\n",
    "clf = LogisticRegression(random_state=0, class_weight='balanced', C= 1.0).fit(X_train, y_train)\n",
    "print('Logistic ',  test_metrics(clf, X_test, y_test))\n",
    "\n",
    "# Ridge Classifier\n",
    "from sklearn.linear_model import RidgeClassifier\n",
    "\n",
    "clf = RidgeClassifier(random_state=0, class_weight='balanced',alpha= 1.0).fit(X_train, y_train)\n",
    "print('Ridge ', test_metrics(clf, X_test, y_test))\n",
    "\n",
    "# RF\n",
    "from sklearn.ensemble import RandomForestClassifier\n",
    "\n",
    "clf = RandomForestClassifier(random_state=0, class_weight='balanced', max_depth=5).fit(X_train, y_train)\n",
    "print('Random forest ', test_metrics(clf, X_test, y_test))"
   ]
  },
  {
   "cell_type": "code",
   "execution_count": null,
   "id": "af7f4fe3",
   "metadata": {},
   "outputs": [],
   "source": [
    "X_train = [get_text_features(d, BoW=False, tfidf=False, w2v=True) for d in data_train]\n",
    "X_val = [get_text_features(d, BoW=False, tfidf=False, w2v=True) for d in data_val]\n",
    "X_test = [get_text_features(d, BoW=False, tfidf=False, w2v=True) for d in data_test]\n",
    "\n",
    "# Logistic regression\n",
    "from sklearn.linear_model import LogisticRegression\n",
    "\n",
    "clf = LogisticRegression(random_state=0, class_weight='balanced', C= 1.0).fit(X_train, y_train)\n",
    "print('Logistic ',  test_metrics(clf, X_test, y_test))\n",
    "\n",
    "# Ridge Classifier\n",
    "from sklearn.linear_model import RidgeClassifier\n",
    "\n",
    "clf = RidgeClassifier(random_state=0, class_weight='balanced',alpha= 1.0).fit(X_train, y_train)\n",
    "print('Ridge ', test_metrics(clf, X_test, y_test))\n",
    "\n",
    "# RF\n",
    "from sklearn.ensemble import RandomForestClassifier\n",
    "\n",
    "clf = RandomForestClassifier(random_state=0, class_weight='balanced', max_depth=5).fit(X_train, y_train)\n",
    "print('Random forest ', test_metrics(clf, X_test, y_test))"
   ]
  },
  {
   "cell_type": "markdown",
   "id": "c3507d77",
   "metadata": {},
   "source": [
    "## Text + HandCrafted Features"
   ]
  },
  {
   "cell_type": "code",
   "execution_count": null,
   "id": "6937c04b",
   "metadata": {},
   "outputs": [],
   "source": [
    "def get_features(d, BoW=False, tfidf=False, w2v=False):\n",
    "    a = get_text_features(d, BoW, tfidf, w2v)\n",
    "    a.extend(get_meta_features(d, True, True, True, True))\n",
    "    return a"
   ]
  },
  {
   "cell_type": "code",
   "execution_count": null,
   "id": "83ee14eb",
   "metadata": {},
   "outputs": [],
   "source": [
    "X_train = [get_features(d, BoW=True, tfidf=False, w2v=False) for d in data_train]\n",
    "X_val = [gett_features(d, BoW=True, tfidf=False, w2v=False) for d in data_val]\n",
    "X_test = [get_features(d, BoW=True, tfidf=False, w2v=False) for d in data_test]\n",
    "\n",
    "# Logistic regression\n",
    "from sklearn.linear_model import LogisticRegression\n",
    "\n",
    "clf = LogisticRegression(random_state=0, class_weight='balanced', C= 1.0).fit(X_train, y_train)\n",
    "print('Logistic ',test_metrics(clf, X_test, y_test))\n",
    "\n",
    "# Ridge Classifier\n",
    "from sklearn.linear_model import RidgeClassifier\n",
    "\n",
    "clf = RidgeClassifier(random_state=0, class_weight='balanced',alpha= 1.0).fit(X_train, y_train)\n",
    "print('Ridge ', test_metrics(clf, X_test, y_test))\n",
    "\n",
    "# RF\n",
    "from sklearn.ensemble import RandomForestClassifier\n",
    "\n",
    "clf = RandomForestClassifier(random_state=0, class_weight='balanced', max_depth=5).fit(X_train, y_train)\n",
    "print('Random Forest ', test_metrics(clf, X_test, y_test))"
   ]
  },
  {
   "cell_type": "code",
   "execution_count": null,
   "id": "c019fdb9",
   "metadata": {},
   "outputs": [],
   "source": [
    "X_train = [get_features(d, BoW=False, tfidf=True, w2v=False) for d in data_train]\n",
    "X_val = [get_features(d, BoW=False, tfidf=True, w2v=False) for d in data_val]\n",
    "X_test = [get_features(d, BoW=False, tfidf=True, w2v=False) for d in data_test]\n",
    "\n",
    "# Logistic regression\n",
    "from sklearn.linear_model import LogisticRegression\n",
    "\n",
    "clf = LogisticRegression(random_state=0, class_weight='balanced', C= 1.0).fit(X_train, y_train)\n",
    "print('Logistic ',  test_metrics(clf, X_test, y_test))\n",
    "\n",
    "# Ridge Classifier\n",
    "from sklearn.linear_model import RidgeClassifier\n",
    "\n",
    "clf = RidgeClassifier(random_state=0, class_weight='balanced',alpha= 1.0).fit(X_train, y_train)\n",
    "print('Ridge ', test_metrics(clf, X_test, y_test))\n",
    "\n",
    "# RF\n",
    "from sklearn.ensemble import RandomForestClassifier\n",
    "\n",
    "clf = RandomForestClassifier(random_state=0, class_weight='balanced', max_depth=5).fit(X_train, y_train)\n",
    "print('Random forest ', test_metrics(clf, X_test, y_test))"
   ]
  },
  {
   "cell_type": "code",
   "execution_count": null,
   "id": "dad34374",
   "metadata": {},
   "outputs": [],
   "source": [
    "X_train = [get_features(d, BoW=False, tfidf=False, w2v=True) for d in data_train]\n",
    "X_val = [get_features(d, BoW=False, tfidf=False, w2v=True) for d in data_val]\n",
    "X_test = [get_features(d, BoW=False, tfidf=False, w2v=True) for d in data_test]\n",
    "\n",
    "# Logistic regression\n",
    "from sklearn.linear_model import LogisticRegression\n",
    "\n",
    "clf = LogisticRegression(random_state=0, class_weight='balanced', C= 1.0).fit(X_train, y_train)\n",
    "print('Logistic ',  test_metrics(clf, X_test, y_test))\n",
    "\n",
    "# Ridge Classifier\n",
    "from sklearn.linear_model import RidgeClassifier\n",
    "\n",
    "clf = RidgeClassifier(random_state=0, class_weight='balanced',alpha= 1.0).fit(X_train, y_train)\n",
    "print('Ridge ', test_metrics(clf, X_test, y_test))\n",
    "\n",
    "# RF\n",
    "from sklearn.ensemble import RandomForestClassifier\n",
    "\n",
    "clf = RandomForestClassifier(random_state=0, class_weight='balanced', max_depth=5).fit(X_train, y_train)\n",
    "print('Random forest ', test_metrics(clf, X_test, y_test))"
   ]
  }
 ],
 "metadata": {
  "kernelspec": {
   "display_name": "Python 3 (ipykernel)",
   "language": "python",
   "name": "python3"
  },
  "language_info": {
   "codemirror_mode": {
    "name": "ipython",
    "version": 3
   },
   "file_extension": ".py",
   "mimetype": "text/x-python",
   "name": "python",
   "nbconvert_exporter": "python",
   "pygments_lexer": "ipython3",
   "version": "3.11.5"
  }
 },
 "nbformat": 4,
 "nbformat_minor": 5
}

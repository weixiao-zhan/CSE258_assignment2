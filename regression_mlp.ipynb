{
 "cells": [
  {
   "cell_type": "code",
   "execution_count": 2,
   "metadata": {},
   "outputs": [],
   "source": [
    "import torch\n",
    "import torch.nn as nn\n",
    "import torch.optim as optim\n",
    "from sklearn.metrics import mean_squared_error\n",
    "from tqdm import tqdm\n",
    "\n",
    "device = torch.device(\"cuda\" if torch.cuda.is_available() else \"cpu\")"
   ]
  },
  {
   "cell_type": "code",
   "execution_count": 2,
   "metadata": {},
   "outputs": [],
   "source": [
    "# import gzip, json\n",
    "\n",
    "# def parse(path):\n",
    "#   with open(path, 'r') as g:\n",
    "#     for l in g:\n",
    "#         yield json.loads(l)\n",
    "\n",
    "# meta_data = []\n",
    "\n",
    "# for review in parse(\"meta_Software.json\"):\n",
    "#   meta_data.append(review)"
   ]
  },
  {
   "cell_type": "code",
   "execution_count": 28,
   "metadata": {},
   "outputs": [],
   "source": [
    "import matplotlib.pyplot as plt\n",
    "def plot(log_loss, log_val_loss, test_loss, title=''):\n",
    "    plt.figure(figsize=(10, 6))\n",
    "    epochs = len(log_loss)\n",
    "    # Plot training and validation loss\n",
    "    plt.plot(range(epochs), log_loss, label='Training Loss (MSE + reg)')\n",
    "    plt.plot(range(epochs), log_val_loss, label='Validation Loss (MSE)')\n",
    "\n",
    "    # Add a horizontal line for test loss\n",
    "    # Add a horizontal line for test loss\n",
    "    test_loss_label = f'Test Loss (MSE): {test_loss:.4f}'  # Format with 4 decimal places\n",
    "    plt.axhline(y=test_loss, color='r', linestyle='--', label=test_loss_label)\n",
    "\n",
    "    # Add labels and legend\n",
    "    plt.xlabel('Epochs')\n",
    "    plt.ylabel('Loss')\n",
    "    plt.title(title)\n",
    "    plt.legend()\n",
    "\n",
    "    # Show the plot\n",
    "    plt.show()"
   ]
  },
  {
   "cell_type": "code",
   "execution_count": 33,
   "metadata": {},
   "outputs": [],
   "source": [
    "def model_size(model):\n",
    "    return sum(p.numel() for p in model.parameters() if p.requires_grad)"
   ]
  },
  {
   "cell_type": "markdown",
   "metadata": {},
   "source": [
    "# common data"
   ]
  },
  {
   "cell_type": "code",
   "execution_count": 3,
   "metadata": {},
   "outputs": [],
   "source": [
    "import numpy as np\n",
    "data = np.load(\"non-text-feature.npz\")"
   ]
  },
  {
   "cell_type": "code",
   "execution_count": 4,
   "metadata": {},
   "outputs": [],
   "source": [
    "userID=data['userID']\n",
    "itemID=data['itemID']\n",
    "\n",
    "num_user = np.max(userID)+1\n",
    "num_item = np.max(itemID)+1"
   ]
  },
  {
   "cell_type": "code",
   "execution_count": 5,
   "metadata": {},
   "outputs": [],
   "source": [
    "has_vote = data['vote']>0\n",
    "\n",
    "userID = data['userID'][has_vote]\n",
    "itemID = data['itemID'][has_vote]\n",
    "day    = data['days'][has_vote]\n",
    "vote = np.log10(data['vote'][has_vote])\n",
    "\n",
    "from sklearn.model_selection import train_test_split\n",
    "indices = np.arange(len(vote))\n",
    "indices_train, indices_test = train_test_split(indices, test_size=0.1, random_state=42)\n",
    "indices_train, indices_val = train_test_split(indices_train, test_size=0.1/0.9, random_state=42)"
   ]
  },
  {
   "cell_type": "markdown",
   "metadata": {},
   "source": [
    "# Model"
   ]
  },
  {
   "cell_type": "code",
   "execution_count": 20,
   "metadata": {},
   "outputs": [],
   "source": [
    "import torch\n",
    "import torch.nn as nn\n",
    "import torch.nn.functional as F\n",
    "\n",
    "class text_MLP(nn.Module):\n",
    "    def __init__(self, num_user, num_item, embedding_dim=50, text_feature_dim = 300, hidden_dim=20, output_dim = 1, lambda_reg = 0.01):\n",
    "        super(text_MLP, self).__init__()\n",
    "        self.lambda_reg = lambda_reg\n",
    "\n",
    "        # Assuming user_id and item_id are categorical variables that will be represented using embeddings\n",
    "        self.user_embedding = nn.Embedding(num_embeddings=num_user, embedding_dim=embedding_dim)\n",
    "        self.item_embedding = nn.Embedding(num_embeddings=num_item, embedding_dim=embedding_dim)\n",
    "\n",
    "        # The input dimension will be the sum of the dimensions of the embeddings and the text features\n",
    "        input_dim = 2 * embedding_dim + 1 + text_feature_dim\n",
    "\n",
    "        # Defining the MLP layers\n",
    "        self.fc1 = nn.Linear(input_dim, hidden_dim, dtype=torch.float)\n",
    "        self.fc2 = nn.Linear(hidden_dim, hidden_dim, dtype=torch.float)\n",
    "        self.fc3 = nn.Linear(hidden_dim, output_dim, dtype=torch.float)\n",
    "        \n",
    "        self.dev_a = nn.Parameter(torch.randn(1))\n",
    "        self.dev_b = nn.Parameter(torch.randn(1))\n",
    "\n",
    "        self.to(device)\n",
    "\n",
    "    def forward(self, user_id, item_id, day, text_features):\n",
    "        user_embedded = self.user_embedding(user_id)\n",
    "        item_embedded = self.item_embedding(item_id)\n",
    "        day_dev = self.dev_a * torch.exp(-self.dev_b * day)\n",
    "        # Concatenate user, item embeddings and text features\n",
    "        concatenated_features = torch.cat((user_embedded, item_embedded, day_dev.unsqueeze(1), text_features), dim=1)\n",
    "        x = F.relu(self.fc1(concatenated_features))\n",
    "        x = F.relu(self.fc2(x))\n",
    "        output = self.fc3(x).squeeze()\n",
    "        return output\n",
    "\n",
    "    def fit(self, train, val,  lr = 0.001,  num_epochs=3000, patience = 5):\n",
    "        userID_train = torch.tensor(train[0], device=device)\n",
    "        itemID_train = torch.tensor(train[1], device=device)\n",
    "        day_train    = torch.tensor(train[2], device=device)\n",
    "        text_train = torch.tensor(train[3], device=device, dtype=torch.float)\n",
    "        y_train  = torch.tensor(train[-1], device=device, dtype=torch.float)\n",
    "\n",
    "        userID_val = torch.tensor(val[0], device=device)\n",
    "        itemID_val = torch.tensor(val[1], device=device)\n",
    "        day_val    = torch.tensor(val[2], device=device)\n",
    "        text_val = torch.tensor(val[3], device=device, dtype=torch.float)\n",
    "        y_val  = torch.tensor(val[-1], device=device, dtype=torch.float)\n",
    "\n",
    "        # early stop\n",
    "        best_val_loss = float('inf')\n",
    "        epochs_no_improve = 0\n",
    "\n",
    "        # log\n",
    "        self.log_loss = []\n",
    "        self.log_val_loss = []\n",
    "\n",
    "        # train prep\n",
    "        optimizer = optim.Adam(self.parameters(),  lr=lr)\n",
    "        criterion = nn.MSELoss()\n",
    "\n",
    "        # train loop\n",
    "        bar = tqdm(range(num_epochs))\n",
    "        for epoch in bar:\n",
    "            optimizer.zero_grad()\n",
    "            predictions = self.forward(userID_train, itemID_train, day_train, text_train)\n",
    "            # Compute loss\n",
    "            loss = criterion(predictions,  y_train)\n",
    "            l2_reg = torch.tensor(0., device=device)\n",
    "            for param in self.parameters():\n",
    "                l2_reg += param.norm(2)\n",
    "            loss += self.lambda_reg * l2_reg\n",
    "            self.log_loss.append(loss.item())\n",
    "            # backworks\n",
    "            loss.backward()\n",
    "            optimizer.step()\n",
    "            # Early stopping check\n",
    "            with torch.no_grad():\n",
    "                val_preds = self.forward(userID_val, itemID_val, day_val, text_val) # ignore cold start\n",
    "                val_loss = criterion(val_preds,  y_val)\n",
    "                self.log_val_loss.append(val_loss.item())\n",
    "                if val_loss < best_val_loss:\n",
    "                    best_val_loss = val_loss\n",
    "                    epochs_no_improve = 0\n",
    "                else:\n",
    "                    epochs_no_improve += 1\n",
    "                if epochs_no_improve == patience:\n",
    "                    print(f'Early stopping triggered after {epoch + 1} epochs')\n",
    "                    break\n",
    "            bar.set_postfix({\"Epoch\":epoch,  \"loss\": loss.item(),  \"val_Loss\": val_loss.item()})\n",
    "        \n",
    "        return best_val_loss"
   ]
  },
  {
   "cell_type": "markdown",
   "metadata": {},
   "source": [
    "### Word 2 Vec"
   ]
  },
  {
   "cell_type": "code",
   "execution_count": null,
   "metadata": {},
   "outputs": [],
   "source": [
    "word2vec = np.load(\"text-feature_word2vec.npz\")['word2vec'][has_vote]"
   ]
  },
  {
   "cell_type": "code",
   "execution_count": 44,
   "metadata": {},
   "outputs": [
    {
     "name": "stderr",
     "output_type": "stream",
     "text": [
      " 35%|███▍      | 348/1000 [00:01<00:02, 241.94it/s, Epoch=347, loss=0.256, val_Loss=0.175]\n"
     ]
    },
    {
     "name": "stdout",
     "output_type": "stream",
     "text": [
      "Early stopping triggered after 349 epochs\n"
     ]
    },
    {
     "name": "stderr",
     "output_type": "stream",
     "text": [
      "  7%|▋         | 66/1000 [00:00<00:03, 272.14it/s, Epoch=65, loss=0.381, val_Loss=0.182]\n"
     ]
    },
    {
     "name": "stdout",
     "output_type": "stream",
     "text": [
      "Early stopping triggered after 67 epochs\n"
     ]
    },
    {
     "name": "stderr",
     "output_type": "stream",
     "text": [
      " 12%|█▏        | 117/1000 [00:00<00:03, 269.85it/s, Epoch=116, loss=0.519, val_Loss=0.172]\n"
     ]
    },
    {
     "name": "stdout",
     "output_type": "stream",
     "text": [
      "Early stopping triggered after 118 epochs\n"
     ]
    },
    {
     "name": "stderr",
     "output_type": "stream",
     "text": [
      " 12%|█▏        | 116/1000 [00:00<00:04, 216.01it/s, Epoch=115, loss=0.781, val_Loss=0.176]\n"
     ]
    },
    {
     "name": "stdout",
     "output_type": "stream",
     "text": [
      "Early stopping triggered after 117 epochs\n"
     ]
    },
    {
     "name": "stderr",
     "output_type": "stream",
     "text": [
      " 14%|█▍        | 143/1000 [00:01<00:07, 107.60it/s, Epoch=142, loss=1.24, val_Loss=0.209]"
     ]
    },
    {
     "name": "stdout",
     "output_type": "stream",
     "text": [
      "Early stopping triggered after 144 epochs\n",
      "(0.00015848931924611142, 10, 10)\n"
     ]
    },
    {
     "name": "stderr",
     "output_type": "stream",
     "text": [
      "\n"
     ]
    }
   ],
   "source": [
    "# Create the model instance\n",
    "best_w2v_model = None\n",
    "best_lambda = None\n",
    "best_val_loss = float(\"inf\")\n",
    "\n",
    "D =  [userID, itemID, day, word2vec, vote]\n",
    "for lambda_reg in [0.00015848931924611142]: #np.logspace(-5,1,6):\n",
    "    for hidden_dim in [10]: #np.logspace(1,2,4):\n",
    "        for embedding_dim in np.logspace(0,2,5):\n",
    "            hidden_dim, embedding_dim = int(hidden_dim), int(embedding_dim)\n",
    "            \n",
    "            w2v_model = text_MLP(num_user, num_item, hidden_dim=hidden_dim, embedding_dim=embedding_dim, lambda_reg=lambda_reg)\n",
    "            val_loss = w2v_model.fit(\n",
    "                [f[indices_train] for f in D], \n",
    "                [f[indices_val] for f in D], \n",
    "                lr =0.001, num_epochs=1000\n",
    "            )\n",
    "            if val_loss < best_val_loss:\n",
    "                best_val_loss = val_loss\n",
    "                best_w2v_model = w2v_model\n",
    "                best_lambda = (lambda_reg, hidden_dim, embedding_dim)\n",
    "print(best_lambda)"
   ]
  },
  {
   "cell_type": "code",
   "execution_count": 45,
   "metadata": {},
   "outputs": [
    {
     "name": "stdout",
     "output_type": "stream",
     "text": [
      "0.16804393868770545\n"
     ]
    },
    {
     "data": {
      "image/png": "[encoded data removed]",
      "text/plain": [
       "<Figure size 1000x600 with 1 Axes>"
      ]
     },
     "metadata": {},
     "output_type": "display_data"
    }
   ],
   "source": [
    "prediction_test = best_w2v_model.forward(\n",
    "    torch.tensor(userID[indices_test], device=device),\n",
    "    torch.tensor(itemID[indices_test], device=device),\n",
    "    torch.tensor(day[indices_test], device=device, dtype=torch.float),\n",
    "    torch.tensor(word2vec[indices_test], device=device, dtype=torch.float)\n",
    ").cpu().detach().numpy()\n",
    "test_loss = mean_squared_error(vote[indices_test], prediction_test)\n",
    "print(test_loss)\n",
    "plot(best_w2v_model.log_loss, best_w2v_model.log_val_loss, test_loss, \"word2vec MLP model\")"
   ]
  },
  {
   "cell_type": "code",
   "execution_count": 47,
   "metadata": {},
   "outputs": [
    {
     "data": {
      "text/plain": [
       "3971443"
      ]
     },
     "execution_count": 47,
     "metadata": {},
     "output_type": "execute_result"
    }
   ],
   "source": [
    "print(model_size(best_w2v_model))\n",
    "torch.save(best_w2v_model, \"best_w2v_model.ckpt\")"
   ]
  },
  {
   "cell_type": "markdown",
   "metadata": {},
   "source": [
    "### tfidf"
   ]
  },
  {
   "cell_type": "code",
   "execution_count": 9,
   "metadata": {},
   "outputs": [],
   "source": [
    "from sklearn.feature_extraction.text import TfidfVectorizer\n",
    "import gzip, json\n",
    "def parse(path):\n",
    "    g = gzip.open(path, 'r')\n",
    "    for l in g:\n",
    "        yield json.loads(l)\n",
    "\n",
    "data = []\n",
    "for review in parse(\"Software.json.gz\"):\n",
    "    data.append(review)\n",
    "\n",
    "documents_raw = []\n",
    "for d in data: \n",
    "    strs = []\n",
    "    if 'summary' in d:\n",
    "        strs.append(d['summary'])\n",
    "    if 'reviewText' in d:\n",
    "        strs.append(d['reviewText'])\n",
    "    documents_raw.append(\" \".join(strs))"
   ]
  },
  {
   "cell_type": "code",
   "execution_count": 15,
   "metadata": {},
   "outputs": [],
   "source": [
    "documents = [] # get has vote documents\n",
    "for d, b in zip(documents_raw, has_vote):\n",
    "    if b:\n",
    "        documents.append(d)\n",
    "len(documents)"
   ]
  },
  {
   "cell_type": "code",
   "execution_count": 17,
   "metadata": {},
   "outputs": [],
   "source": [
    "tfidf_vectorizer = TfidfVectorizer(stop_words='english', max_features=300)\n",
    "tfidf_vectorizer.fit( [documents[i] for i in indices_train])\n",
    "tfidf = tfidf_vectorizer.transform(documents).toarray()"
   ]
  },
  {
   "cell_type": "code",
   "execution_count": 25,
   "metadata": {},
   "outputs": [
    {
     "name": "stderr",
     "output_type": "stream",
     "text": [
      "  0%|          | 4/1000 [00:00<00:41, 23.86it/s, Epoch=3, loss=nan, val_Loss=nan]\n"
     ]
    },
    {
     "name": "stdout",
     "output_type": "stream",
     "text": [
      "Early stopping triggered after 5 epochs\n"
     ]
    },
    {
     "name": "stderr",
     "output_type": "stream",
     "text": [
      " 18%|█▊        | 180/1000 [00:00<00:03, 233.70it/s, Epoch=179, loss=0.48, val_Loss=0.156] \n"
     ]
    },
    {
     "name": "stdout",
     "output_type": "stream",
     "text": [
      "Early stopping triggered after 181 epochs\n"
     ]
    },
    {
     "name": "stderr",
     "output_type": "stream",
     "text": [
      "  4%|▍         | 44/1000 [00:00<00:04, 226.55it/s, Epoch=43, loss=6.02, val_Loss=0.165]\n"
     ]
    },
    {
     "name": "stdout",
     "output_type": "stream",
     "text": [
      "Early stopping triggered after 45 epochs\n"
     ]
    },
    {
     "name": "stderr",
     "output_type": "stream",
     "text": [
      "  0%|          | 4/1000 [00:00<00:05, 191.93it/s, Epoch=3, loss=nan, val_Loss=nan]\n"
     ]
    },
    {
     "name": "stdout",
     "output_type": "stream",
     "text": [
      "Early stopping triggered after 5 epochs\n"
     ]
    },
    {
     "name": "stderr",
     "output_type": "stream",
     "text": [
      "  0%|          | 4/1000 [00:00<00:05, 187.91it/s, Epoch=3, loss=nan, val_Loss=nan]\n"
     ]
    },
    {
     "name": "stdout",
     "output_type": "stream",
     "text": [
      "Early stopping triggered after 5 epochs\n"
     ]
    },
    {
     "name": "stderr",
     "output_type": "stream",
     "text": [
      "  0%|          | 4/1000 [00:00<00:05, 197.29it/s, Epoch=3, loss=nan, val_Loss=nan]"
     ]
    },
    {
     "name": "stdout",
     "output_type": "stream",
     "text": [
      "Early stopping triggered after 5 epochs\n",
      "(0.00015848931924611142, 21, 10)\n"
     ]
    },
    {
     "name": "stderr",
     "output_type": "stream",
     "text": [
      "\n"
     ]
    }
   ],
   "source": [
    "# Create the model instance\n",
    "best_tfidf_model = None\n",
    "best_lambda = None\n",
    "best_val_loss = float(\"inf\")\n",
    "\n",
    "D =  [userID, itemID, day, tfidf, vote]\n",
    "for lambda_reg in [0.00015848931924611142]: #np.logspace(-5,1,6):\n",
    "    for hidden_dim in [21]: #np.logspace(1,2,4):\n",
    "        for embedding_dim in [10]: # np.logspace(0,2,5):\n",
    "            hidden_dim, embedding_dim = int(hidden_dim), int(embedding_dim)\n",
    "            \n",
    "            tfidf_model = text_MLP(num_user, num_item, hidden_dim=hidden_dim, embedding_dim=embedding_dim, lambda_reg=lambda_reg)\n",
    "            val_loss = tfidf_model.fit(\n",
    "                [f[indices_train] for f in D], \n",
    "                [f[indices_val] for f in D], \n",
    "                lr =0.001, num_epochs=1000\n",
    "            )\n",
    "            if val_loss < best_val_loss:\n",
    "                best_val_loss = val_loss\n",
    "                best_tfidf_model = tfidf_model\n",
    "                best_lambda = (lambda_reg, hidden_dim, embedding_dim)\n",
    "print(best_lambda)"
   ]
  },
  {
   "cell_type": "code",
   "execution_count": 31,
   "metadata": {},
   "outputs": [
    {
     "name": "stdout",
     "output_type": "stream",
     "text": [
      "0.15264586113890483\n"
     ]
    },
    {
     "data": {
      "image/png": "[encoded data removed]",
      "text/plain": [
       "<Figure size 1000x600 with 1 Axes>"
      ]
     },
     "metadata": {},
     "output_type": "display_data"
    }
   ],
   "source": [
    "prediction_test = best_tfidf_model.forward(\n",
    "    torch.tensor(userID[indices_test], device=device),\n",
    "    torch.tensor(itemID[indices_test], device=device),\n",
    "    torch.tensor(day[indices_test], device=device, dtype=torch.float),\n",
    "    torch.tensor(tfidf[indices_test], device=device, dtype=torch.float)\n",
    ").cpu().detach().numpy()\n",
    "test_loss = mean_squared_error(vote[indices_test], prediction_test)\n",
    "print(test_loss)\n",
    "plot(best_tfidf_model.log_loss, best_tfidf_model.log_val_loss, test_loss, \"tfidf MLP model\")"
   ]
  },
  {
   "cell_type": "code",
   "execution_count": 35,
   "metadata": {},
   "outputs": [
    {
     "name": "stdout",
     "output_type": "stream",
     "text": [
      "3975348\n"
     ]
    }
   ],
   "source": [
    "print(model_size(best_tfidf_model))\n",
    "torch.save(best_tfidf_model, \"best_tfidf_model.ckpt\")"
   ]
  }
 ],
 "metadata": {
  "kernelspec": {
   "display_name": "base",
   "language": "python",
   "name": "python3"
  },
  "language_info": {
   "codemirror_mode": {
    "name": "ipython",
    "version": 3
   },
   "file_extension": ".py",
   "mimetype": "text/x-python",
   "name": "python",
   "nbconvert_exporter": "python",
   "pygments_lexer": "ipython3",
   "version": "3.11.6"
  }
 },
 "nbformat": 4,
 "nbformat_minor": 2
}

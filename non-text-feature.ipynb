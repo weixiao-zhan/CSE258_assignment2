{
 "cells": [
  {
   "cell_type": "code",
   "execution_count": 1,
   "metadata": {},
   "outputs": [],
   "source": [
    "import gzip, json\n",
    "def parse(path):\n",
    "  g = gzip.open(path, 'r')\n",
    "  for l in g:\n",
    "    yield json.loads(l)\n",
    "\n",
    "data = []\n",
    "\n",
    "for review in parse(\"Software.json.gz\"):\n",
    "  data.append(review)"
   ]
  },
  {
   "cell_type": "code",
   "execution_count": 37,
   "metadata": {},
   "outputs": [],
   "source": [
    "import numpy as np\n",
    "from sklearn.model_selection import train_test_split\n",
    "\n",
    "indices = np.arange(len(data))\n",
    "indices_train, indices_test = train_test_split(indices, test_size=0.1, random_state=42)\n",
    "indices_train, indices_val = train_test_split(indices_train, test_size=0.1/0.9, random_state=42)"
   ]
  },
  {
   "cell_type": "code",
   "execution_count": 19,
   "metadata": {},
   "outputs": [],
   "source": [
    "from sklearn.preprocessing import LabelEncoder\n",
    "from sklearn.preprocessing import OneHotEncoder\n",
    "\n",
    "# fit the ID encoder on full data set\n",
    "userID_str = np.array([[d['reviewerID']] for d in data])\n",
    "userID_encoder = LabelEncoder()\n",
    "userID_encoder.fit(userID_str.squeeze())\n",
    "userID_one_hot_encoder = OneHotEncoder()\n",
    "userID_one_hot_encoder.fit(userID_str)\n",
    "\n",
    "itemID_str = np.array([[d['asin']] for d in data])\n",
    "itemID_encoder = LabelEncoder()\n",
    "itemID_encoder.fit(itemID_str.squeeze())\n",
    "itemID_one_hot_encoder = OneHotEncoder()\n",
    "itemID_one_hot_encoder.fit(itemID_str)"
   ]
  },
  {
   "cell_type": "code",
   "execution_count": null,
   "metadata": {},
   "outputs": [],
   "source": [
    "# import pickle\n",
    "# encoders = {\n",
    "#     \"userID_encoder\": userID_encoder,\n",
    "#     \"userID_one_hot_encoder\": userID_one_hot_encoder,\n",
    "#     \"itemID_encoder\": itemID_encoder,\n",
    "#     \"itemID_one_hot_encoder\": itemID_one_hot_encoder\n",
    "# }\n",
    "# with open('encoder.pkl', 'wb') as file:\n",
    "#     pickle.dump(encoders, file)\n",
    "# with open('encoder.pkl', 'rb') as file:\n",
    "#     encoders = pickle.load(file)"
   ]
  },
  {
   "cell_type": "code",
   "execution_count": 66,
   "metadata": {},
   "outputs": [],
   "source": [
    "userID = userID_encoder.transform([d[\"reviewerID\"] for d in data])\n",
    "userID_onehot = userID_one_hot_encoder.transform([[d[\"reviewerID\"]] for d in data])\n",
    "itemID = itemID_encoder.transform([d[\"asin\"] for d in data])\n",
    "itemID_onehot = itemID_one_hot_encoder.transform([[d[\"asin\"]] for d in data])"
   ]
  },
  {
   "cell_type": "code",
   "execution_count": 67,
   "metadata": {},
   "outputs": [],
   "source": [
    "verified = np.array([d['verified'] for d in data])\n",
    "review_length = np.array([len(d['reviewText']) if 'reviewText' in d else 0 for d in data])\n",
    "rating = np.array([d['overall'] for d in data], dtype=np.int8)"
   ]
  },
  {
   "cell_type": "code",
   "execution_count": 68,
   "metadata": {},
   "outputs": [],
   "source": [
    "import datetime\n",
    "date = [\n",
    "    datetime.datetime.fromtimestamp(d['unixReviewTime'])\n",
    "    for d in data\n",
    "]\n",
    "min_date = min(date)"
   ]
  },
  {
   "cell_type": "code",
   "execution_count": 69,
   "metadata": {},
   "outputs": [],
   "source": [
    "days = np.array([(d-min_date).days for d in date])\n",
    "weekdays = np.array([d.weekday() for d in date])\n",
    "month = np.array([d.month-1 for d in date])"
   ]
  },
  {
   "cell_type": "code",
   "execution_count": 70,
   "metadata": {},
   "outputs": [],
   "source": [
    "np.savez_compressed('non-text-feature.npz', \n",
    "    indices_train=indices_train,indices_val=indices_val,indices_test=indices_test,\n",
    "    userID=userID, userID_onehot=userID_onehot,\n",
    "    itemID=itemID, itemID_onehot=itemID_onehot,\n",
    "    verified=verified,\n",
    "    review_length=review_length,\n",
    "    rating=rating,\n",
    "    days=days,\n",
    "    weekdays=weekdays,\n",
    "    month=month\n",
    ")"
   ]
  }
 ],
 "metadata": {
  "kernelspec": {
   "display_name": "Python 3 (ipykernel)",
   "language": "python",
   "name": "python3"
  },
  "language_info": {
   "codemirror_mode": {
    "name": "ipython",
    "version": 3
   },
   "file_extension": ".py",
   "mimetype": "text/x-python",
   "name": "python",
   "nbconvert_exporter": "python",
   "pygments_lexer": "ipython3",
   "version": "3.11.5"
  }
 },
 "nbformat": 4,
 "nbformat_minor": 2
}
